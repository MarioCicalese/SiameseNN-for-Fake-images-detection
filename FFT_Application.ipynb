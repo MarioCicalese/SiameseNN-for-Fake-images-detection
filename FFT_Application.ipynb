{
 "cells": [
  {
   "cell_type": "code",
   "execution_count": 1,
   "metadata": {},
   "outputs": [],
   "source": [
    "import os\n",
    "import cv2\n",
    "import pandas as pd\n",
    "import numpy as np\n",
    "from tqdm.notebook import tqdm\n",
    "\n",
    "from constants import DatasetPath"
   ]
  },
  {
   "cell_type": "code",
   "execution_count": 2,
   "metadata": {},
   "outputs": [],
   "source": [
    "#Utility constants\n",
    "DATASET_PATH = DatasetPath.effectivePath\n",
    "\n",
    "def DATASET_DIRS():\n",
    "    return os.listdir(DATASET_PATH)\n",
    "\n",
    "csv_columns_name = ['filename', 'image_path', 'target', 'category']\n",
    "\n",
    "\n",
    "DIR_FOURIER_PATH = DATASET_PATH + \"fourier\\\\\"\n",
    "FFTS_PATH = DIR_FOURIER_PATH + \"fourier\\\\\""
   ]
  },
  {
   "cell_type": "code",
   "execution_count": 3,
   "metadata": {},
   "outputs": [],
   "source": [
    "if(\"fourier\" in DATASET_DIRS()):\n",
    "    print(\"Fourier folder already exist.\")\n",
    "else:\n",
    "    mode = 0o666\n",
    "    path = os.path.join(DATASET_PATH,\"fourier\")\n",
    "    #creates the fourier folder in the main Dataset folder\n",
    "    os.mkdir(path,mode)\n",
    "    \n",
    "    #creates a fourier folder in the fourier folder\n",
    "    os.mkdir(path + \"\\\\fourier\", mode)"
   ]
  },
  {
   "cell_type": "code",
   "execution_count": 4,
   "metadata": {},
   "outputs": [
    {
     "data": {
      "application/vnd.jupyter.widget-view+json": {
       "model_id": "c4c53b2a4d984a60a91ab1c7c427818d",
       "version_major": 2,
       "version_minor": 0
      },
      "text/plain": [
       "0it [00:00, ?it/s]"
      ]
     },
     "metadata": {},
     "output_type": "display_data"
    }
   ],
   "source": [
    "#APPLICO LA TRASFORMATA DI FOURIER SUL TINY DATASET\n",
    "\n",
    "fourier_csv = pd.DataFrame(columns = csv_columns_name)\n",
    "\n",
    "with open(DATASET_PATH  + \"\\\\trainingSet.csv\", mode='r', newline='') as train_set:\n",
    "    train_set_csv = pd.read_csv(train_set)\n",
    "    \n",
    "    for index, row in tqdm(train_set_csv.iterrows()):\n",
    "        \n",
    "        path = DATASET_PATH + row[\"image_path\"]\n",
    "    \n",
    "        RGBimg = cv2.imread(path)\n",
    "        grayImg = cv2.cvtColor(RGBimg, cv2.COLOR_BGR2GRAY)\n",
    "        \n",
    "        fft_img = np.fft.fft2(grayImg)\n",
    "        fft_img = np.log(np.abs(fft_img))\n",
    "\n",
    "        min_val = np.min(fft_img)\n",
    "        max_val = np.max(fft_img)\n",
    "        \n",
    "        #fft_img = cv2.normalize(fft_img, None, 0, 255, cv2.NORM_MINMAX)\n",
    "        fft_img = (fft_img - min_val) * (255.0 / (max_val - min_val))\n",
    "        fft_img = np.uint8(fft_img)     \n",
    "        \n",
    "        filename = row[\"filename\"]\n",
    "        if row[\"target\"] == 0:\n",
    "            filename = filename.replace(\"img\",\"real\")\n",
    "        else:\n",
    "            filename = filename.replace(\"img\",\"fake\")\n",
    "\n",
    "        fft_path = FFTS_PATH + filename\n",
    "        cv2.imwrite(fft_path, fft_img)\n",
    "        \n",
    "        split_fft_path = fft_path.split(DATASET_PATH)[-1]\n",
    "        fourier_csv.loc[len(fourier_csv)] = [filename,split_fft_path,row[\"target\"],row[\"category\"]]\n",
    "    \n",
    "    fourier_csv.to_csv(DIR_FOURIER_PATH + \"metadata.csv\", index=False)\n",
    "    \n",
    "    #plt.imshow(fft_img)\n",
    "    #plt.show()"
   ]
  },
  {
   "cell_type": "code",
   "execution_count": 16,
   "metadata": {},
   "outputs": [],
   "source": [
    "input_df = pd.DataFrame(columns= [\"anchor\",\"positive\",\"negative\"])\n",
    "\n",
    "with open(DIR_FOURIER_PATH + \"metadata.csv\", mode='r', newline='') as fourier_csv:\n",
    "    fourier_df = pd.read_csv(fourier_csv)\n",
    "    input_df[\"anchor\"] = fourier_df[\"image_path\"]\n",
    "\n",
    "    real_fourier_df = fourier_df[ fourier_df[\"target\"] == 0 ]\n",
    "    fake_fourier_df = fourier_df[ fourier_df[\"target\"] != 0 ]\n",
    "    \n",
    "    \n",
    "    for index, row in input_df.iterrows():\n",
    "        image_path = row[\"anchor\"]\n",
    "        \n",
    "        if \"real\" in image_path:\n",
    "            positive_img = real_fourier_df.sample(frac=1).head(1)\n",
    "            while positive_img[\"image_path\"].iloc[0] == image_path:\n",
    "                positive_img = real_fourier_df.sample(frac=1).head(1)\n",
    "            input_df.at[index, \"positive\"] = positive_img[\"image_path\"].iloc[0]\n",
    "            negative_img = fake_fourier_df.sample(frac=1).head(1)\n",
    "            input_df.at[index, \"negative\"] = negative_img[\"image_path\"].iloc[0]\n",
    "        elif \"fake\" in image_path:\n",
    "            positive_img = real_fourier_df.sample(frac=1).head(1)\n",
    "            input_df.at[index, \"negative\"] = positive_img[\"image_path\"].iloc[0]\n",
    "            negative_img = fake_fourier_df.sample(frac=1).head(1)\n",
    "            while negative_img[\"image_path\"].iloc[0] == image_path:\n",
    "                negative_img = fake_fourier_df.sample(frac=1).head(1)\n",
    "            input_df.at[index, \"positive\"] = negative_img[\"image_path\"].iloc[0]\n",
    "            \n",
    "\n",
    "input_df.to_csv(DATASET_PATH + \"input.csv\", index=False)"
   ]
  }
 ],
 "metadata": {
  "kernelspec": {
   "display_name": "DETECTIVE",
   "language": "python",
   "name": "python3"
  },
  "language_info": {
   "codemirror_mode": {
    "name": "ipython",
    "version": 3
   },
   "file_extension": ".py",
   "mimetype": "text/x-python",
   "name": "python",
   "nbconvert_exporter": "python",
   "pygments_lexer": "ipython3",
   "version": "3.10.14"
  }
 },
 "nbformat": 4,
 "nbformat_minor": 2
}
