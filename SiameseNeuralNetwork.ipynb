{
 "cells": [
  {
   "cell_type": "code",
   "execution_count": 1,
   "metadata": {},
   "outputs": [],
   "source": [
    "from constants import DatasetPath\n",
    "\n",
    "import pandas as pd\n",
    "import numpy as np\n",
    "import matplotlib.pyplot as plt\n",
    "import torch\n",
    "import timm\n",
    "\n",
    "import torch.nn.functional as F\n",
    "from torch import nn\n",
    "from torch.utils.data import Dataset, DataLoader\n",
    "from torch.optim.lr_scheduler import ReduceLROnPlateau\n",
    "\n",
    "from skimage import io\n",
    "from sklearn.model_selection import train_test_split\n",
    "from sklearn.metrics import confusion_matrix\n",
    "\n",
    "from tqdm.notebook import tqdm\n",
    "import os\n",
    "\n",
    "import seaborn as sns\n",
    "from sklearn.metrics import confusion_matrix, classification_report"
   ]
  },
  {
   "cell_type": "code",
   "execution_count": 6,
   "metadata": {},
   "outputs": [],
   "source": [
    "# Main Dataset folder path\n",
    "DATA_DIR = DatasetPath.effectivePath\n",
    "\n",
    "# HYPERPARAMETRES\n",
    "\n",
    "BATCH_SIZE = 16\n",
    "\n",
    "LR = 0.001\n",
    "\n",
    "EPOCHS = 10\n",
    "\n",
    "# Device to run calculations on \n",
    "DEVICE = 'cuda'"
   ]
  },
  {
   "cell_type": "code",
   "execution_count": 7,
   "metadata": {},
   "outputs": [
    {
     "name": "stdout",
     "output_type": "stream",
     "text": [
      "19912\n",
      "4979\n",
      "(24891, 3)\n"
     ]
    }
   ],
   "source": [
    "df = pd.read_csv(DATA_DIR + \"filtered_input.csv\")\n",
    "\n",
    "train_df, valid_df = train_test_split(df, test_size = 0.20, random_state = 42)\n",
    "print(len(train_df))\n",
    "print(len(valid_df))\n",
    "print(df.shape)"
   ]
  },
  {
   "cell_type": "code",
   "execution_count": 8,
   "metadata": {},
   "outputs": [],
   "source": [
    "# Class to provide useful functions and prepare the data for NN use \n",
    "class APN_Dataset(Dataset):\n",
    "    \"\"\"\n",
    "    Uploads images from Dataset and set them up for Neural Network use.\n",
    "\n",
    "    Parameters\n",
    "    ----------\n",
    "        Dataset (pd.DataFrame): the DataFrame containing the dataset.\n",
    "    \"\"\"\n",
    "    \n",
    "    def __init__(self, df):\n",
    "        \"\"\"\n",
    "        Initializes the class with the DataFrame in input.\n",
    "\n",
    "        Parameters\n",
    "        ----------\n",
    "            df (pd.DataFrame): the DataFrame containing the dataset.\n",
    "        \"\"\"\n",
    "        self.df = df\n",
    "\n",
    "    def __len__(self):\n",
    "        \"\"\"\n",
    "        Calculates the number of tuples in the dataset.\n",
    "\n",
    "        Returns\n",
    "        -------\n",
    "            (int): number of tuples in the dataset.\n",
    "        \"\"\"    \n",
    "        return len(self.df)\n",
    "\n",
    "    def __getitem__(self, idx):\n",
    "        \"\"\"\n",
    "        Retrieves the images at the given row index.\n",
    "\n",
    "        Parameters\n",
    "        ----------\n",
    "            idx (int): dataset row index.\n",
    "\n",
    "        Returns\n",
    "        -------\n",
    "            A_img, P_img, N_img (ndarray): the anchor, positive and negative images at row[idx] \n",
    "        \"\"\"\n",
    "        row = self.df.iloc[idx]\n",
    "\n",
    "        A_img = io.imread(DATA_DIR + row.anchor)\n",
    "        P_img = io.imread(DATA_DIR + row.positive)\n",
    "        N_img = io.imread(DATA_DIR + row.negative)\n",
    "\n",
    "        #Permute because the third channel has to be in first channel in torch\n",
    "\n",
    "        #A_img = torch.from_numpy(A_img).permute(2, 0, 1) / 255.0\n",
    "        #P_img = torch.from_numpy(P_img).permute(2, 0, 1) / 255.0\n",
    "        #N_img = torch.from_numpy(N_img).permute(2, 0, 1) / 255.0\n",
    "\n",
    "\n",
    "        A_img = np.expand_dims(A_img, 0)\n",
    "        P_img = np.expand_dims(P_img, 0)\n",
    "        N_img = np.expand_dims(N_img, 0)\n",
    "\n",
    "        A_img = torch.from_numpy(A_img) / 255.0\n",
    "        P_img = torch.from_numpy(P_img) / 255.0\n",
    "        N_img = torch.from_numpy(N_img) / 255.0\n",
    "\n",
    "        #A_img = torch.from_numpy(A_img.astype(np.int32)) / 65536.0\n",
    "        #P_img = torch.from_numpy(P_img.astype(np.int32)) / 65536.0\n",
    "        #N_img = torch.from_numpy(N_img.astype(np.int32)) / 65536.0\n",
    "\n",
    "        return A_img, P_img, N_img"
   ]
  },
  {
   "cell_type": "code",
   "execution_count": 9,
   "metadata": {},
   "outputs": [
    {
     "name": "stdout",
     "output_type": "stream",
     "text": [
      "Size of trainset: 19912\n",
      "Size of validset: 4979\n"
     ]
    }
   ],
   "source": [
    "# APN_Dataset objects creation\n",
    "\n",
    "trainset = APN_Dataset(train_df)\n",
    "validset = APN_Dataset(valid_df)\n",
    "\n",
    "print(f\"Size of trainset: {len(trainset)}\")\n",
    "print(f\"Size of validset: {len(validset)}\")"
   ]
  },
  {
   "cell_type": "code",
   "execution_count": 10,
   "metadata": {},
   "outputs": [
    {
     "name": "stdout",
     "output_type": "stream",
     "text": [
      "No. of batches in trainloader : 1245\n",
      "No. of batches in validloader : 312\n"
     ]
    }
   ],
   "source": [
    "# DataLoader creation to handle loading data into memory\n",
    "\n",
    "trainloader = DataLoader(trainset, batch_size = BATCH_SIZE, shuffle = True)\n",
    "validloader = DataLoader(validset, batch_size = BATCH_SIZE)\n",
    "\n",
    "print(f\"No. of batches in trainloader : {len(trainloader)}\")\n",
    "print(f\"No. of batches in validloader : {len(validloader)}\")"
   ]
  },
  {
   "cell_type": "code",
   "execution_count": 11,
   "metadata": {},
   "outputs": [],
   "source": [
    "class APN_Model(nn.Module):\n",
    "    \"\"\"\n",
    "    Defines a neural network model class APN_Model that uses an EfficientNet (specifically the B0 version) as its backbone.\n",
    "    \"\"\"\n",
    "\n",
    "    def __init__(self, emb_size = 512):\n",
    "        \"\"\"\n",
    "        Initializes the APN_Model with a specific model and a classifier that outputs embedding vector of the specified size.\n",
    "\n",
    "        Parameters\n",
    "        ----------\n",
    "        emb_size (int, optional): the size of the output embedding vector (default is 512).\n",
    "        \"\"\"\n",
    "        super(APN_Model, self).__init__()\n",
    "\n",
    "        # Define the model to use \n",
    "        self.efficientnet = timm.create_model('tf_efficientnetv2_b0', pretrained = False)\n",
    "        \n",
    "        # Replace the classifier layer with a linear layer that outputs embeddings of size `emb_size`\n",
    "        self.efficientnet.classifier = nn.Linear(in_features=self.efficientnet.classifier.in_features, out_features = emb_size)\n",
    "\n",
    "    def forward(self, images):\n",
    "        \"\"\"\n",
    "        Performs the forward pass of the model, which takes a batch of images and returns their embeddings.\n",
    "\n",
    "        Parameters\n",
    "        ----------\n",
    "            images (torch.Tensor): a batch of images to process.\n",
    "\n",
    "        Returns\n",
    "        -------\n",
    "            embeddings (torch.Tensor): a batch of embeddings of size `emb_size`.\n",
    "        \"\"\"\n",
    "        embeddings = self.efficientnet(images)\n",
    "        return embeddings"
   ]
  },
  {
   "cell_type": "code",
   "execution_count": null,
   "metadata": {},
   "outputs": [],
   "source": [
    "# NN mod to accept greyscale fourier spectrum images instead of RGB\n",
    "\n",
    "model = APN_Model()\n",
    "model.efficientnet.conv_stem = nn.Conv2d(1, 32, 3, 2, 1, bias=False)\n",
    "\n",
    "model.to(DEVICE)"
   ]
  },
  {
   "cell_type": "code",
   "execution_count": 13,
   "metadata": {},
   "outputs": [],
   "source": [
    "def train_fn(model, dataloader, optimizer, criterion):\n",
    "    \"\"\"\n",
    "    Trains the model for one epoch using the provided dataloader, optimizer, and criterion.\n",
    "\n",
    "    Parameters\n",
    "    ----------\n",
    "        model (torch.nn.Module): the neural network model to be trained.\n",
    "        dataloader (torch.utils.data.DataLoader): the dataloader providing batches of anchor, positive, and negative image triplets.\n",
    "        optimizer (torch.optim.Optimizer): the optimizer used to update the model's parameters.\n",
    "        criterion (function): the loss function used to compute the loss between the model's outputs.\n",
    "\n",
    "    Returns\n",
    "    -------\n",
    "        (float) : the average training loss over all batches.\n",
    "    \"\"\"\n",
    "\n",
    "    # Sets the model to training mode\n",
    "    model.train() #ON Dropout\n",
    "    total_loss = 0.0\n",
    "\n",
    "    # Iterates over the batches of data provided by the dataloader.\n",
    "    # Each batch consists of triplets: anchor (A), positive (P), and negative (N) images.\n",
    "    for A, P, N in tqdm(dataloader):\n",
    "        # Moves the anchor, positive, and negative images to the specified device.\n",
    "        A, P, N = A.to(DEVICE), P.to(DEVICE), N.to(DEVICE)\n",
    "\n",
    "        # Passes the anchor, positive, and negative images through the model to obtain their embeddings.\n",
    "        A_embs = model(A)\n",
    "        P_embs = model(P)\n",
    "        N_embs = model(N)\n",
    "\n",
    "        # Computes the loss using the specified loss function\n",
    "        loss = criterion(A_embs, P_embs, N_embs)\n",
    "\n",
    "        # Clears the gradients of all optimized parameters.\n",
    "        # Important to prevent accumulation of gradients from multiple forward passes.\n",
    "        optimizer.zero_grad()\n",
    "\n",
    "        # Computes the gradient of the loss with respect to the model's parameters (backpropagation).\n",
    "        loss.backward()\n",
    "        \n",
    "        # Updates the model's parameters based on the computed gradients.\n",
    "        optimizer.step()\n",
    "\n",
    "        # Updates toal loss at the end of each iteration\n",
    "        total_loss += loss.item()\n",
    "\n",
    "    return total_loss / len(dataloader)"
   ]
  },
  {
   "cell_type": "code",
   "execution_count": 14,
   "metadata": {},
   "outputs": [],
   "source": [
    "def eval_fn(model, dataloader, criterion):\n",
    "    \"\"\"\n",
    "    Evaluates the model using the provided dataloader and criterion.\n",
    "\n",
    "    Parameters\n",
    "    ----------\n",
    "        model (torch.nn.Module): the neural network model to be evaluated.\n",
    "        dataloader (torch.utils.data.DataLoader): the dataloader providing batches of anchor, positive, and negative image triplets.\n",
    "        criterion (function): the loss function used to compute the loss between the model's outputs.\n",
    "\n",
    "    Returns\n",
    "    -------\n",
    "        (float): the average validation loss over all batches.\n",
    "    \"\"\"\n",
    "    \n",
    "    # Sets the model to evaluation mode\n",
    "    model.eval() #OFF Dropout\n",
    "    total_loss = 0.0\n",
    "\n",
    "    # Disables gradient calculation.\n",
    "    # Important to reduce memory usage and speed up computations since gradients are not needed.\n",
    "    with torch.no_grad():\n",
    "        # Iterates over the batches of data provided by the dataloader.\n",
    "        for A, P, N in tqdm(dataloader):\n",
    "             # Moves the anchor, positive, and negative images to the specified device.\n",
    "            A, P, N = A.to(DEVICE), P.to(DEVICE), N.to(DEVICE)\n",
    "\n",
    "            # Passes the anchor, positive, and negative images through the model to obtain their embeddings.\n",
    "            A_embs = model(A)\n",
    "            P_embs = model(P)\n",
    "            N_embs = model(N)\n",
    "\n",
    "            # Computes the loss using the specified loss function\n",
    "            loss = criterion(A_embs, P_embs, N_embs)\n",
    "\n",
    "            # Updates toal loss at the end of each iteration\n",
    "            total_loss += loss.item()\n",
    "\n",
    "    return total_loss / len(dataloader)"
   ]
  },
  {
   "cell_type": "code",
   "execution_count": 15,
   "metadata": {},
   "outputs": [],
   "source": [
    "# Definition of the loss function and the optimizer to utilize.\n",
    "\n",
    "criterion = nn.TripletMarginLoss()\n",
    "optimizer = torch.optim.Adam(model.parameters(), lr = LR)\n",
    "\n",
    "# Learning Rate Scheduler\n",
    "scheduler = ReduceLROnPlateau(optimizer, mode='min', factor=0.1, patience=2)"
   ]
  },
  {
   "cell_type": "code",
   "execution_count": 16,
   "metadata": {},
   "outputs": [],
   "source": [
    "model_path = DATA_DIR + 'best_model.pt'\n",
    "loss_path =  DATA_DIR + 'best_valid_loss.txt'\n",
    "\n",
    "def save_checkpoint(best_valid_loss):\n",
    "    \"\"\"\n",
    "    Saves best model along with its valid loss to a '.txt' file\n",
    "\n",
    "    Parametres\n",
    "    ----------\n",
    "        best_valid_loss (float): the best valid loss calculated among all training sessions.\n",
    "    \"\"\"\n",
    "    torch.save(model.state_dict(), model_path)\n",
    "    with open(loss_path, 'w') as f:\n",
    "        f.write(str(best_valid_loss))\n",
    "\n",
    "    print(\"CHECKPOINT_SAVED\")\n",
    "\n",
    "def load_checkpoint():\n",
    "    \"\"\"\n",
    "    Loads the best model and its valid loss from a '.txt' file. In case one of these can't be found, the training starts from scratch\n",
    "\n",
    "    Returns\n",
    "    -------\n",
    "        best_valid_loss (float, np.Inf): if the best valid loss exists, returns a float; else returns an Infinite value\n",
    "    \"\"\"\n",
    "    if os.path.exists(model_path) and os.path.exists(loss_path):\n",
    "        print(\"CHECKPOINT_LOADED\")\n",
    "        model.load_state_dict(torch.load(model_path))\n",
    "        with open(loss_path, 'r') as f:\n",
    "            best_valid_loss = float(f.read())\n",
    "            return best_valid_loss\n",
    "\n",
    "    print(\"UNABLE_TO_LOAD_CHECKPOINT\")\n",
    "    return np.Inf"
   ]
  },
  {
   "cell_type": "code",
   "execution_count": 51,
   "metadata": {},
   "outputs": [
    {
     "name": "stdout",
     "output_type": "stream",
     "text": [
      "UNABLE_TO_LOAD_CHECKPOINT\n"
     ]
    },
    {
     "data": {
      "application/vnd.jupyter.widget-view+json": {
       "model_id": "1639ffbcd96e4b1884f26b551e3d05c9",
       "version_major": 2,
       "version_minor": 0
      },
      "text/plain": [
       "  0%|          | 0/1245 [00:00<?, ?it/s]"
      ]
     },
     "metadata": {},
     "output_type": "display_data"
    },
    {
     "data": {
      "application/vnd.jupyter.widget-view+json": {
       "model_id": "2d29afa877ac4a2687eb3c145ac80a98",
       "version_major": 2,
       "version_minor": 0
      },
      "text/plain": [
       "  0%|          | 0/312 [00:00<?, ?it/s]"
      ]
     },
     "metadata": {},
     "output_type": "display_data"
    },
    {
     "name": "stdout",
     "output_type": "stream",
     "text": [
      "CHECKPOINT_SAVED\n",
      "EPOCHS : 1 train_loss : 0.4050432224709346 valid_loss : 0.3651915314870003 Learning Rate: [0.001]\n"
     ]
    },
    {
     "data": {
      "application/vnd.jupyter.widget-view+json": {
       "model_id": "031ba2fb4f454ba6b6467fba2ccfa022",
       "version_major": 2,
       "version_minor": 0
      },
      "text/plain": [
       "  0%|          | 0/1245 [00:00<?, ?it/s]"
      ]
     },
     "metadata": {},
     "output_type": "display_data"
    },
    {
     "data": {
      "application/vnd.jupyter.widget-view+json": {
       "model_id": "1935642e169e42409be3a78ef8b80d61",
       "version_major": 2,
       "version_minor": 0
      },
      "text/plain": [
       "  0%|          | 0/312 [00:00<?, ?it/s]"
      ]
     },
     "metadata": {},
     "output_type": "display_data"
    },
    {
     "name": "stdout",
     "output_type": "stream",
     "text": [
      "CHECKPOINT_SAVED\n",
      "EPOCHS : 2 train_loss : 0.2535709709258204 valid_loss : 0.32990247056556815 Learning Rate: [0.001]\n"
     ]
    },
    {
     "data": {
      "application/vnd.jupyter.widget-view+json": {
       "model_id": "e5f979cad0cf410398ca43c634accc8d",
       "version_major": 2,
       "version_minor": 0
      },
      "text/plain": [
       "  0%|          | 0/1245 [00:00<?, ?it/s]"
      ]
     },
     "metadata": {},
     "output_type": "display_data"
    },
    {
     "data": {
      "application/vnd.jupyter.widget-view+json": {
       "model_id": "d0f40d36914d431197215a1b9a11d814",
       "version_major": 2,
       "version_minor": 0
      },
      "text/plain": [
       "  0%|          | 0/312 [00:00<?, ?it/s]"
      ]
     },
     "metadata": {},
     "output_type": "display_data"
    },
    {
     "name": "stdout",
     "output_type": "stream",
     "text": [
      "CHECKPOINT_SAVED\n",
      "EPOCHS : 3 train_loss : 0.21469025274357165 valid_loss : 0.32162262964993715 Learning Rate: [0.001]\n"
     ]
    },
    {
     "data": {
      "application/vnd.jupyter.widget-view+json": {
       "model_id": "38a70f9c45084a3b9511101b2acf958b",
       "version_major": 2,
       "version_minor": 0
      },
      "text/plain": [
       "  0%|          | 0/1245 [00:00<?, ?it/s]"
      ]
     },
     "metadata": {},
     "output_type": "display_data"
    },
    {
     "data": {
      "application/vnd.jupyter.widget-view+json": {
       "model_id": "e3d2de8e4e3b4309bd73774d2a8f400b",
       "version_major": 2,
       "version_minor": 0
      },
      "text/plain": [
       "  0%|          | 0/312 [00:00<?, ?it/s]"
      ]
     },
     "metadata": {},
     "output_type": "display_data"
    },
    {
     "name": "stdout",
     "output_type": "stream",
     "text": [
      "CHECKPOINT_SAVED\n",
      "EPOCHS : 4 train_loss : 0.18932758335128846 valid_loss : 0.301173235480793 Learning Rate: [0.001]\n"
     ]
    },
    {
     "data": {
      "application/vnd.jupyter.widget-view+json": {
       "model_id": "9d5b4b4349e344ab827a9b97869ad00e",
       "version_major": 2,
       "version_minor": 0
      },
      "text/plain": [
       "  0%|          | 0/1245 [00:00<?, ?it/s]"
      ]
     },
     "metadata": {},
     "output_type": "display_data"
    },
    {
     "data": {
      "application/vnd.jupyter.widget-view+json": {
       "model_id": "87ebe8befaac42d983c69fe509609ce1",
       "version_major": 2,
       "version_minor": 0
      },
      "text/plain": [
       "  0%|          | 0/312 [00:00<?, ?it/s]"
      ]
     },
     "metadata": {},
     "output_type": "display_data"
    },
    {
     "name": "stdout",
     "output_type": "stream",
     "text": [
      "CHECKPOINT_SAVED\n",
      "EPOCHS : 5 train_loss : 0.1813291680920555 valid_loss : 0.28440035280222314 Learning Rate: [0.001]\n"
     ]
    },
    {
     "data": {
      "application/vnd.jupyter.widget-view+json": {
       "model_id": "cc03faa56d19449099e79cf644c2b01c",
       "version_major": 2,
       "version_minor": 0
      },
      "text/plain": [
       "  0%|          | 0/1245 [00:00<?, ?it/s]"
      ]
     },
     "metadata": {},
     "output_type": "display_data"
    },
    {
     "data": {
      "application/vnd.jupyter.widget-view+json": {
       "model_id": "31e77d1d5c4a4ca5968acbc9b1213455",
       "version_major": 2,
       "version_minor": 0
      },
      "text/plain": [
       "  0%|          | 0/312 [00:00<?, ?it/s]"
      ]
     },
     "metadata": {},
     "output_type": "display_data"
    },
    {
     "name": "stdout",
     "output_type": "stream",
     "text": [
      "EPOCHS : 6 train_loss : 0.17719449783305088 valid_loss : 0.3203093556400675 Learning Rate: [0.001]\n"
     ]
    },
    {
     "data": {
      "application/vnd.jupyter.widget-view+json": {
       "model_id": "1df79f21b22a44ec978d4084955eda30",
       "version_major": 2,
       "version_minor": 0
      },
      "text/plain": [
       "  0%|          | 0/1245 [00:00<?, ?it/s]"
      ]
     },
     "metadata": {},
     "output_type": "display_data"
    },
    {
     "data": {
      "application/vnd.jupyter.widget-view+json": {
       "model_id": "80d1345ed4284a34b48c696adbabf553",
       "version_major": 2,
       "version_minor": 0
      },
      "text/plain": [
       "  0%|          | 0/312 [00:00<?, ?it/s]"
      ]
     },
     "metadata": {},
     "output_type": "display_data"
    },
    {
     "name": "stdout",
     "output_type": "stream",
     "text": [
      "CHECKPOINT_SAVED\n",
      "EPOCHS : 7 train_loss : 0.158205818938443 valid_loss : 0.249393992125988 Learning Rate: [0.001]\n"
     ]
    },
    {
     "data": {
      "application/vnd.jupyter.widget-view+json": {
       "model_id": "392a46ab8b7143cf8bca9fd936c28e4e",
       "version_major": 2,
       "version_minor": 0
      },
      "text/plain": [
       "  0%|          | 0/1245 [00:00<?, ?it/s]"
      ]
     },
     "metadata": {},
     "output_type": "display_data"
    },
    {
     "data": {
      "application/vnd.jupyter.widget-view+json": {
       "model_id": "8a3f8619dca3426bb90bed9c0aec8b7c",
       "version_major": 2,
       "version_minor": 0
      },
      "text/plain": [
       "  0%|          | 0/312 [00:00<?, ?it/s]"
      ]
     },
     "metadata": {},
     "output_type": "display_data"
    },
    {
     "name": "stdout",
     "output_type": "stream",
     "text": [
      "EPOCHS : 8 train_loss : 0.15939183451205372 valid_loss : 0.27025825026421213 Learning Rate: [0.001]\n"
     ]
    },
    {
     "data": {
      "application/vnd.jupyter.widget-view+json": {
       "model_id": "6143262b3486447ebac8a2f6dbd39a51",
       "version_major": 2,
       "version_minor": 0
      },
      "text/plain": [
       "  0%|          | 0/1245 [00:00<?, ?it/s]"
      ]
     },
     "metadata": {},
     "output_type": "display_data"
    },
    {
     "data": {
      "application/vnd.jupyter.widget-view+json": {
       "model_id": "4ba26afe69ff4e6c87019a71f871d6bc",
       "version_major": 2,
       "version_minor": 0
      },
      "text/plain": [
       "  0%|          | 0/312 [00:00<?, ?it/s]"
      ]
     },
     "metadata": {},
     "output_type": "display_data"
    },
    {
     "name": "stdout",
     "output_type": "stream",
     "text": [
      "EPOCHS : 9 train_loss : 0.15335227573612129 valid_loss : 0.2700641591770527 Learning Rate: [0.001]\n"
     ]
    },
    {
     "data": {
      "application/vnd.jupyter.widget-view+json": {
       "model_id": "ae8f5f33ee1040ddbd9bd81267967bb5",
       "version_major": 2,
       "version_minor": 0
      },
      "text/plain": [
       "  0%|          | 0/1245 [00:00<?, ?it/s]"
      ]
     },
     "metadata": {},
     "output_type": "display_data"
    },
    {
     "data": {
      "application/vnd.jupyter.widget-view+json": {
       "model_id": "2376ed49d3c246d2b98e861bad33cce0",
       "version_major": 2,
       "version_minor": 0
      },
      "text/plain": [
       "  0%|          | 0/312 [00:00<?, ?it/s]"
      ]
     },
     "metadata": {},
     "output_type": "display_data"
    },
    {
     "name": "stdout",
     "output_type": "stream",
     "text": [
      "EPOCHS : 10 train_loss : 0.14199562996147147 valid_loss : 0.2604146120019066 Learning Rate: [0.0001]\n"
     ]
    }
   ],
   "source": [
    "# Loads the best validation loss from a previously saved checkpoint.\n",
    "# (This allows the training process to resume from the best state observed so far)\n",
    "best_valid_loss = load_checkpoint()\n",
    "\n",
    "# Lists to store train_loss and valid_loss values\n",
    "train_losses = []\n",
    "valid_losses = []\n",
    "\n",
    "# Loops over the specified number of epochs.\n",
    "for i in range(EPOCHS):\n",
    "\n",
    "    torch.cuda.empty_cache()\n",
    "\n",
    "    # Trains and evaluates the model\n",
    "    train_loss = train_fn(model, trainloader, optimizer, criterion)\n",
    "    valid_loss = eval_fn(model, validloader, criterion)\n",
    "\n",
    "    # LR Scheduler updates \n",
    "    scheduler.step(valid_loss)\n",
    "\n",
    "    # If the validation loss has improved, it saves the current state of the model and updates the best valid loss\n",
    "    if valid_loss < best_valid_loss:\n",
    "        save_checkpoint(valid_loss)\n",
    "        best_valid_loss = valid_loss\n",
    "\n",
    "    # Save train_loss and valid_loss values\n",
    "    train_losses.append(train_loss)\n",
    "    valid_losses.append(valid_loss)\n",
    "\n",
    "    # Prints the stats relative to the current epoch.\n",
    "    print(f\"EPOCHS : {i+1} train_loss : {train_loss} valid_loss : {valid_loss} Learning Rate: {scheduler.get_last_lr()}\")"
   ]
  },
  {
   "cell_type": "code",
   "execution_count": 52,
   "metadata": {},
   "outputs": [
    {
     "data": {
      "image/png": "[encoded data removed]",
      "text/plain": [
       "<Figure size 640x480 with 1 Axes>"
      ]
     },
     "metadata": {},
     "output_type": "display_data"
    }
   ],
   "source": [
    "# Plot train_loss and valid_loss\n",
    "plt.plot(train_losses, label='Train Loss')\n",
    "plt.plot(valid_losses, label='Valid Loss')\n",
    "plt.xlabel('Epochs')\n",
    "plt.ylabel('Loss')\n",
    "plt.title('Training and Validation Loss')\n",
    "plt.legend()\n",
    "plt.show()"
   ]
  },
  {
   "cell_type": "code",
   "execution_count": 17,
   "metadata": {},
   "outputs": [],
   "source": [
    "#QUESTA E' LA FUNZIONE PER GENERARE I VETTORI DI ENCODING\n",
    "def get_encoding_csv(model, anc_img_names, dirFolder):\n",
    "    \"\"\"\n",
    "    Generates encoding vectors for a set of input images using a provided model and returns a DataFrame\n",
    "    with image names and their corresponding encodings.\n",
    "\n",
    "    Parameters\n",
    "    ----------\n",
    "        model (torch.nn.Module): the neural network model used to generate embeddings.\n",
    "        anc_img_names (list or numpy.ndarray): filenames (or paths) of the anchor images.\n",
    "        dirFolder (str): the directory path where the anchor images are located.\n",
    "\n",
    "    Returns\n",
    "    -------\n",
    "        df_enc (pandas.DataFrame): a DataFrame containing the anchor image names and their corresponding encodings.\n",
    "    \"\"\"\n",
    "    # Convert the list of anchor image names to a NumPy array\n",
    "    anc_img_names_arr = np.array(anc_img_names)\n",
    "\n",
    "    encodings = []\n",
    "\n",
    "    # Set the model to evaluation mode\n",
    "    model.eval()\n",
    "\n",
    "    with torch.no_grad():\n",
    "        for i in tqdm(anc_img_names_arr):\n",
    "            # Read the image from the specified directory\n",
    "            A = io.imread(dirFolder + i)\n",
    "            # Add a batch dimension to the image\n",
    "            A = np.expand_dims(A, 0)\n",
    "            # Convert the image to a PyTorch tensor and normalize to the range [0, 1]\n",
    "            A = torch.from_numpy(A.astype(np.int32)) / 255.0\n",
    "            #A = torch.from_numpy(A).permute(2, 0, 1) / 255.0 #FOR RGB IMAGES\n",
    "            \n",
    "            A = A.to(DEVICE)\n",
    "            # Pass the preprocessed image through the model to obtain its embedding\n",
    "            A_enc = model(A.unsqueeze(0))\n",
    "             # Append the embedding to the list (move to CPU and convert to NumPy array)\n",
    "            encodings.append(A_enc.squeeze().cpu().detach().numpy())\n",
    "\n",
    "        # Convert the list of embeddings to a NumPy array\n",
    "        encodings = np.array(encodings)\n",
    "        # Create a DataFrame with the embeddings\n",
    "        encodings = pd.DataFrame(encodings)\n",
    "        # Concatenate the anchor image names with their corresponding embeddings\n",
    "        df_enc = pd.concat([anc_img_names, encodings], axis = 1)\n",
    "\n",
    "        return df_enc"
   ]
  },
  {
   "cell_type": "code",
   "execution_count": null,
   "metadata": {},
   "outputs": [],
   "source": [
    "# Load the best model found during training\n",
    "model.load_state_dict(torch.load('best_model.pt'))\n",
    "\n",
    "# Call 'get_encoding_csv' on the dataset to generate the DataFrame containing anchors and their encoding vector\n",
    "df_enc = get_encoding_csv(model, df['anchor'], DATA_DIR)\n",
    "\n",
    "# Save the encodings database to avoid redoing this process\n",
    "# (This process has to be redone only when finding a better model)\n",
    "df_enc.to_csv(DATA_DIR + 'database.csv', index = False)\n",
    "\n",
    "df_enc = pd.read_csv(DATA_DIR + 'database.csv')\n",
    "df_enc.head()"
   ]
  },
  {
   "cell_type": "code",
   "execution_count": 19,
   "metadata": {},
   "outputs": [],
   "source": [
    "def euclidean_dist(img_enc, anc_enc_arr):\n",
    "    \"\"\"\n",
    "    Computes the Euclidean distance between a given image encoding and an array of anchor encodings.\n",
    "\n",
    "    Parameters\n",
    "    ----------\n",
    "        img_enc (numpy.ndarray): a 1D array representing the encoding of the image.\n",
    "        anc_enc_arr (numpy.ndarray): a 2D array representing the anchor images and their encodings.\n",
    "\n",
    "    Returns\n",
    "    -------\n",
    "        dist (numpy.ndarray): a 1D array containing the Euclidean distances between the image encoding and each of the anchors' one.\n",
    "    \"\"\"\n",
    "    #dist = np.sqrt(np.dot(img_enc-anc_enc_arr, (img_enc- anc_enc_arr).T))\n",
    "    dist = np.dot(img_enc-anc_enc_arr, (img_enc- anc_enc_arr).T)\n",
    "    #dist = np.sqrt(dist)\n",
    "    \n",
    "    return dist"
   ]
  },
  {
   "cell_type": "code",
   "execution_count": 20,
   "metadata": {},
   "outputs": [
    {
     "name": "stdout",
     "output_type": "stream",
     "text": [
      "0       fourier\\fourier\\coco+coco+coco2017+train2017+r...\n",
      "1       fourier\\fourier\\coco+coco+coco2017+train2017+r...\n",
      "2       fourier\\fourier\\coco+coco+coco2017+test2017+re...\n",
      "3       fourier\\fourier\\coco+coco+coco2017+train2017+r...\n",
      "4       fourier\\fourier\\coco+coco+coco2017+train2017+r...\n",
      "                              ...                        \n",
      "3106          fourier\\fourier\\lsun+car+car+real785193.jpg\n",
      "3107      fourier\\fourier\\lsun+horse+horse+real055817.jpg\n",
      "3108          fourier\\fourier\\lsun+car+car+real062109.jpg\n",
      "3109          fourier\\fourier\\lsun+car+car+real124524.jpg\n",
      "3110          fourier\\fourier\\lsun+car+car+real000938.jpg\n",
      "Name: real, Length: 3111, dtype: object\n",
      "6222\n"
     ]
    },
    {
     "data": {
      "text/html": [
       "<div>\n",
       "<style scoped>\n",
       "    .dataframe tbody tr th:only-of-type {\n",
       "        vertical-align: middle;\n",
       "    }\n",
       "\n",
       "    .dataframe tbody tr th {\n",
       "        vertical-align: top;\n",
       "    }\n",
       "\n",
       "    .dataframe thead th {\n",
       "        text-align: right;\n",
       "    }\n",
       "</style>\n",
       "<table border=\"1\" class=\"dataframe\">\n",
       "  <thead>\n",
       "    <tr style=\"text-align: right;\">\n",
       "      <th></th>\n",
       "      <th>real</th>\n",
       "      <th>fake</th>\n",
       "    </tr>\n",
       "  </thead>\n",
       "  <tbody>\n",
       "    <tr>\n",
       "      <th>0</th>\n",
       "      <td>fourier\\fourier\\coco+coco+coco2017+train2017+r...</td>\n",
       "      <td>fourier\\fourier\\big_gan+big+biggan-data+80+fak...</td>\n",
       "    </tr>\n",
       "    <tr>\n",
       "      <th>1</th>\n",
       "      <td>fourier\\fourier\\coco+coco+coco2017+train2017+r...</td>\n",
       "      <td>fourier\\fourier\\big_gan+big+biggan-data+747+fa...</td>\n",
       "    </tr>\n",
       "    <tr>\n",
       "      <th>2</th>\n",
       "      <td>fourier\\fourier\\coco+coco+coco2017+test2017+re...</td>\n",
       "      <td>fourier\\fourier\\big_gan+big+biggan-data+283+fa...</td>\n",
       "    </tr>\n",
       "    <tr>\n",
       "      <th>3</th>\n",
       "      <td>fourier\\fourier\\coco+coco+coco2017+train2017+r...</td>\n",
       "      <td>fourier\\fourier\\big_gan+big+biggan-data+74+fak...</td>\n",
       "    </tr>\n",
       "    <tr>\n",
       "      <th>4</th>\n",
       "      <td>fourier\\fourier\\coco+coco+coco2017+train2017+r...</td>\n",
       "      <td>fourier\\fourier\\big_gan+big+biggan-data+414+fa...</td>\n",
       "    </tr>\n",
       "  </tbody>\n",
       "</table>\n",
       "</div>"
      ],
      "text/plain": [
       "                                                real  \\\n",
       "0  fourier\\fourier\\coco+coco+coco2017+train2017+r...   \n",
       "1  fourier\\fourier\\coco+coco+coco2017+train2017+r...   \n",
       "2  fourier\\fourier\\coco+coco+coco2017+test2017+re...   \n",
       "3  fourier\\fourier\\coco+coco+coco2017+train2017+r...   \n",
       "4  fourier\\fourier\\coco+coco+coco2017+train2017+r...   \n",
       "\n",
       "                                                fake  \n",
       "0  fourier\\fourier\\big_gan+big+biggan-data+80+fak...  \n",
       "1  fourier\\fourier\\big_gan+big+biggan-data+747+fa...  \n",
       "2  fourier\\fourier\\big_gan+big+biggan-data+283+fa...  \n",
       "3  fourier\\fourier\\big_gan+big+biggan-data+74+fak...  \n",
       "4  fourier\\fourier\\big_gan+big+biggan-data+414+fa...  "
      ]
     },
     "execution_count": 20,
     "metadata": {},
     "output_type": "execute_result"
    }
   ],
   "source": [
    "test_df = pd.read_csv(DATA_DIR + 'testSet.csv')\n",
    "print(test_df['real'])\n",
    "print(test_df.size)\n",
    "test_df.head()"
   ]
  },
  {
   "cell_type": "code",
   "execution_count": 21,
   "metadata": {},
   "outputs": [],
   "source": [
    "def getImageEmbeddings(img, model):\n",
    "    \"\"\"\n",
    "    Generates embeddings for a given image using the provided model.\n",
    "\n",
    "    Parameters\n",
    "    ----------\n",
    "        img (numpy.ndarray): the input image as a NumPy array.\n",
    "        model (torch.nn.Module): the PyTorch model used to generate the image embeddings.\n",
    "\n",
    "    Returns\n",
    "    -------\n",
    "        img_enc (numpy.ndarray): the embeddings of the input image.\n",
    "    \"\"\"\n",
    "    # Add a new dimension to the image array to match the expected input shape of the model\n",
    "    img = np.expand_dims(img, 0)\n",
    "    \n",
    "    # Convert the NumPy array to a PyTorch tensor and normalize pixel values to the range [0, 1]\n",
    "    img = torch.from_numpy(img) / 255.0\n",
    "    \n",
    "    # Set the model to evaluation mode\n",
    "    model.eval()\n",
    "    \n",
    "    # Disable gradient calculation for efficiency\n",
    "    with torch.no_grad():\n",
    "        # Move the image tensor to the appropriate device (CPU or GPU)\n",
    "        img = img.to(DEVICE)\n",
    "        \n",
    "        # Add a batch dimension, pass the image through the model to get the embeddings\n",
    "        img_enc = model(img.unsqueeze(0))\n",
    "        \n",
    "        # Detach the embeddings from the computation graph and move them back to the CPU\n",
    "        img_enc = img_enc.detach().cpu().numpy()\n",
    "        \n",
    "        # Convert the embeddings to a NumPy array\n",
    "        img_enc = np.array(img_enc)\n",
    "\n",
    "    return img_enc"
   ]
  },
  {
   "cell_type": "code",
   "execution_count": 22,
   "metadata": {},
   "outputs": [],
   "source": [
    "def searchInDatabase(img_enc, database):\n",
    "    \"\"\"\n",
    "    Searches for the closest match to a given image embedding in a database of embeddings.\n",
    "\n",
    "    Parameters\n",
    "    ----------\n",
    "    img_enc (numpy.ndarray): the embedding of the input image.\n",
    "    database (pandas.DataFrame): a DataFrame containing image embeddings with 'anchor' column for image names and subsequent columns for embedding values.\n",
    "\n",
    "    Returns\n",
    "    -------\n",
    "    (str): the name of the anchor image in the database that is closest to the input image embedding.\n",
    "    \"\"\"\n",
    "    # Extract the embeddings and image names from the database\n",
    "    anc_enc_arr = database.iloc[:, 1:].to_numpy()  # All columns except the first one (assuming embeddings start from the second column)\n",
    "\n",
    "    # Initialize an empty list to store distances\n",
    "    distance = []\n",
    "\n",
    "    # Iterate over each embedding in the database\n",
    "    for i in range(anc_enc_arr.shape[0]):\n",
    "        # Compute the Euclidean distance between the input embedding and the current database embedding\n",
    "        dist = euclidean_dist(img_enc, anc_enc_arr[i : i+1, :])\n",
    "        # Append the computed distance to the distance list\n",
    "        distance = np.append(distance, dist)\n",
    "\n",
    "    # Find the index of the closest embedding by sorting distances\n",
    "    closest_idx = np.argsort(distance)\n",
    "\n",
    "    # Return the name of the closest anchor image\n",
    "    return database['anchor'][closest_idx[0]]"
   ]
  },
  {
   "cell_type": "code",
   "execution_count": 23,
   "metadata": {},
   "outputs": [],
   "source": [
    "def prediction_fn(test_df, currentTest, y_pred, model, database):\n",
    "    \"\"\"\n",
    "    Tests model predictive capability.\n",
    "\n",
    "    Parameters\n",
    "    ----------\n",
    "        test_df (pandas.DataFrame): DataFrame containing the test images.\n",
    "        currentTest (str): desired images to test the model on.\n",
    "        y_pred (list): a list to store the predictions ('real' or 'fake') for each test image.\n",
    "        model (torch.nn.Module): the PyTorch model used to generate the image embeddings.\n",
    "        database (pandas.DataFrame): the DataFrame containing image embeddings with 'Anchor' column for image names and subsequent columns for embedding values.\n",
    "    \"\"\"\n",
    "\n",
    "    # Iterate over each row in the test DataFrame with progress bar\n",
    "    for index, row in tqdm(test_df.iterrows(), total=len(test_df)):\n",
    "        # Construct the full image path\n",
    "        img_name = DATA_DIR + row[currentTest]\n",
    "        \n",
    "        # Read the image from the path\n",
    "        img = io.imread(img_name)\n",
    "\n",
    "        # Get the image embeddings using the model\n",
    "        img_enc = getImageEmbeddings(img, model)\n",
    "\n",
    "        # Search for the closest match in the database\n",
    "        closestLabel = searchInDatabase(img_enc, database)\n",
    "\n",
    "        # Determine if the closest match is 'real' or 'fake' and append the result to pred_vector\n",
    "        if \"real\" in closestLabel:\n",
    "            y_pred.append(\"real\")\n",
    "        else:\n",
    "            y_pred.append(\"fake\")\n"
   ]
  },
  {
   "cell_type": "code",
   "execution_count": 12,
   "metadata": {},
   "outputs": [],
   "source": [
    "def calculate_metrics(test_df,y_pred, y_true):\n",
    "    \n",
    "    #Ground truth vectors creation\n",
    "    y_true = np.array(['real'] * len(test_df))\n",
    "    temp = np.array(['fake'] * len(test_df))\n",
    "    y_true = np.concatenate([y_true, temp])\n",
    "\n",
    "    # Confusion Matrix calculation\n",
    "    cm = confusion_matrix(y_true, y_pred, labels=[\"real\",\"fake\"])\n",
    "\n",
    "    # Plot confusion matrix\n",
    "    sns.heatmap(cm, annot=True, fmt='g', cmap='Blues', xticklabels=[\"Real\", \"Fake\"], yticklabels=[\"Real\", \"Fake\"])\n",
    "    plt.xlabel('Predicted labels')\n",
    "    plt.ylabel('True labels')\n",
    "    plt.title('Confusion Matrix')\n",
    "    plt.show()\n",
    "\n",
    "    # Classification Report\n",
    "    print(\"Classification Report:\")\n",
    "    print(classification_report(y_true, y_pred))\n",
    "\n",
    "    # True Negative, False Positive, False Negative, True Positive extraction\n",
    "    TN, FP, FN, TP = confusion_matrix(y_true, y_pred, labels=[\"real\", \"fake\"]).ravel()\n",
    "    print(f\"Numero di veri negativi {TN}\")\n",
    "    print(f\"Numero di veri negativi {FP}\")\n",
    "    \n",
    "    # Metrics calculation\n",
    "    accuracy = round((TP + TN) /(TP + TN + FP + FN), 4) * 100\n",
    "    precision = round((TP) / (TP + FP), 4) * 100\n",
    "    sensitivy_recall = round((TP) / (TP + FN), 4) * 100\n",
    "    specificity = round((TN) / (TN + FP) * 100, 4)\n",
    "    F1_score = round((2* precision * sensitivy_recall) / (precision + sensitivy_recall), 2)\n",
    "\n",
    "    print({\"Accuracy\":accuracy,\"Precision\":precision,\"Sensitivity_recall\":sensitivy_recall, \"Specificity\": specificity, \"F1_score\":F1_score})"
   ]
  },
  {
   "cell_type": "code",
   "execution_count": null,
   "metadata": {},
   "outputs": [],
   "source": [
    "# Testing prep\n",
    "y_true = []\n",
    "y_pred = []\n",
    "tempDf = test_df\n",
    "database = df_enc\n",
    "\n",
    "\n",
    "# Testing on FAKE images\n",
    "prediction_fn(tempDf, 'real', y_pred, model, database)\n",
    "\n",
    "# Testing on REAL images\n",
    "prediction_fn(tempDf, 'fake', y_pred, model, database)\n",
    "\n",
    "# Metrics calculation\n",
    "calculate_metrics(tempDf, y_pred, y_true)\n"
   ]
  },
  {
   "cell_type": "code",
   "execution_count": 62,
   "metadata": {},
   "outputs": [],
   "source": [
    "def get_testSet_dirs(test_df):\n",
    "\n",
    "\treal_dirs_list = []\n",
    "\tfake_dirs_list = []\n",
    "\n",
    "\tfor index, row in tqdm(test_df.iterrows(), total=test_df.shape[0], desc=\"Extracting generator directories\"):\n",
    "\t\t\n",
    "\t\tr_dir = row[\"real\"].split('fourier\\\\fourier\\\\')[1].split('+')[0]\n",
    "\t\tf_dir = row[\"fake\"].split('fourier\\\\fourier\\\\')[1].split('+')[0]\n",
    "\n",
    "\t\treal_dirs_list.append(r_dir)\n",
    "\t\tfake_dirs_list.append(f_dir)\n",
    "\n",
    "\treal_dirs = sorted(set(real_dirs_list))\n",
    "\tfake_dirs = sorted(set(fake_dirs_list))\n",
    "\n",
    "\treturn real_dirs, fake_dirs"
   ]
  },
  {
   "cell_type": "code",
   "execution_count": 63,
   "metadata": {},
   "outputs": [],
   "source": [
    "def get_testSet_subsets(test_df):\n",
    "\n",
    "    real_dirs, fake_dirs = get_testSet_dirs(test_df)\n",
    "    print(real_dirs)\n",
    "    print(fake_dirs)\n",
    "\n",
    "    real_subsets = {dir: test_df[test_df['real'].str.startswith(\"fourier\\\\fourier\\\\\" + dir + '+')]['real'].tolist() for dir in real_dirs}\n",
    "    fake_subsets = {dir: test_df[test_df['fake'].str.startswith(\"fourier\\\\fourier\\\\\" + dir + '+')]['fake'].tolist() for dir in fake_dirs}\n",
    "\n",
    "    real_subsets_df = {dir: pd.DataFrame(subset, columns=['real']) for dir, subset in real_subsets.items()}\n",
    "    fake_subsets_df = {dir: pd.DataFrame(subset, columns=['fake']) for dir, subset in fake_subsets.items()}\n",
    "\n",
    "    return real_subsets_df, fake_subsets_df"
   ]
  },
  {
   "cell_type": "code",
   "execution_count": 64,
   "metadata": {},
   "outputs": [
    {
     "data": {
      "application/vnd.jupyter.widget-view+json": {
       "model_id": "3d2d19327cbf4b7f99f2e44cbd5d71a1",
       "version_major": 2,
       "version_minor": 0
      },
      "text/plain": [
       "Extracting generator directories:   0%|          | 0/3111 [00:00<?, ?it/s]"
      ]
     },
     "metadata": {},
     "output_type": "display_data"
    },
    {
     "name": "stdout",
     "output_type": "stream",
     "text": [
      "['coco', 'imagenet', 'lsun']\n",
      "['big_gan', 'latent_diffusion', 'taming_transformer']\n"
     ]
    },
    {
     "data": {
      "application/vnd.jupyter.widget-view+json": {
       "model_id": "dca4a95b1541447a82184c048968c9db",
       "version_major": 2,
       "version_minor": 0
      },
      "text/plain": [
       "  0%|          | 0/1037 [00:00<?, ?it/s]"
      ]
     },
     "metadata": {},
     "output_type": "display_data"
    },
    {
     "name": "stdout",
     "output_type": "stream",
     "text": [
      "\n",
      "\n",
      "\n",
      "Metrics summary for big_gan:\n"
     ]
    },
    {
     "data": {
      "application/vnd.jupyter.widget-view+json": {
       "model_id": "093fe40fe9c84f089fb0bb83b6724067",
       "version_major": 2,
       "version_minor": 0
      },
      "text/plain": [
       "  0%|          | 0/1037 [00:00<?, ?it/s]"
      ]
     },
     "metadata": {},
     "output_type": "display_data"
    },
    {
     "data": {
      "image/png": "[encoded data removed]",
      "text/plain": [
       "<Figure size 640x480 with 2 Axes>"
      ]
     },
     "metadata": {},
     "output_type": "display_data"
    },
    {
     "name": "stdout",
     "output_type": "stream",
     "text": [
      "Classification Report:\n",
      "              precision    recall  f1-score   support\n",
      "\n",
      "        fake       0.39      0.50      0.44      1037\n",
      "        real       0.31      0.23      0.26      1037\n",
      "\n",
      "    accuracy                           0.36      2074\n",
      "   macro avg       0.35      0.36      0.35      2074\n",
      "weighted avg       0.35      0.36      0.35      2074\n",
      "\n",
      "{'Accuracy': 36.07, 'Precision': 39.03, 'Sensitivity_recall': 49.57, 'Specificity': 22.5651, 'F1_score': 43.67}\n",
      "\n",
      "\n",
      "\n",
      "Metrics summary for latent_diffusion:\n"
     ]
    },
    {
     "data": {
      "application/vnd.jupyter.widget-view+json": {
       "model_id": "c7d5bab8381e417c926efcecaba56cbd",
       "version_major": 2,
       "version_minor": 0
      },
      "text/plain": [
       "  0%|          | 0/1037 [00:00<?, ?it/s]"
      ]
     },
     "metadata": {},
     "output_type": "display_data"
    },
    {
     "data": {
      "image/png": "[encoded data removed]",
      "text/plain": [
       "<Figure size 640x480 with 2 Axes>"
      ]
     },
     "metadata": {},
     "output_type": "display_data"
    },
    {
     "name": "stdout",
     "output_type": "stream",
     "text": [
      "Classification Report:\n",
      "              precision    recall  f1-score   support\n",
      "\n",
      "        fake       0.44      0.50      0.47      1037\n",
      "        real       0.42      0.36      0.39      1037\n",
      "\n",
      "    accuracy                           0.43      2074\n",
      "   macro avg       0.43      0.43      0.43      2074\n",
      "weighted avg       0.43      0.43      0.43      2074\n",
      "\n",
      "{'Accuracy': 43.01, 'Precision': 43.82, 'Sensitivity_recall': 49.57, 'Specificity': 36.4513, 'F1_score': 46.52}\n",
      "\n",
      "\n",
      "\n",
      "Metrics summary for taming_transformer:\n"
     ]
    },
    {
     "data": {
      "application/vnd.jupyter.widget-view+json": {
       "model_id": "0d127c3a2e8b425fa39ba657630dbd5b",
       "version_major": 2,
       "version_minor": 0
      },
      "text/plain": [
       "  0%|          | 0/1037 [00:00<?, ?it/s]"
      ]
     },
     "metadata": {},
     "output_type": "display_data"
    },
    {
     "data": {
      "image/png": "[encoded data removed]",
      "text/plain": [
       "<Figure size 640x480 with 2 Axes>"
      ]
     },
     "metadata": {},
     "output_type": "display_data"
    },
    {
     "name": "stdout",
     "output_type": "stream",
     "text": [
      "Classification Report:\n",
      "              precision    recall  f1-score   support\n",
      "\n",
      "        fake       0.48      0.50      0.49      1037\n",
      "        real       0.48      0.47      0.48      1037\n",
      "\n",
      "    accuracy                           0.48      2074\n",
      "   macro avg       0.48      0.48      0.48      2074\n",
      "weighted avg       0.48      0.48      0.48      2074\n",
      "\n",
      "{'Accuracy': 48.309999999999995, 'Precision': 48.35, 'Sensitivity_recall': 49.57, 'Specificity': 47.0588, 'F1_score': 48.95}\n"
     ]
    }
   ],
   "source": [
    "# HERE ARE CALCULATED INDIVIDUAL METRICS FOR EACH FAKE GENERATOR\n",
    "real_subsets, fake_subsets = get_testSet_subsets(test_df)\n",
    "\n",
    "# Lenght matching \n",
    "first_real_key = next(iter(real_subsets))\n",
    "first_fake_key = next(iter(fake_subsets))\n",
    "\n",
    "real_df = real_subsets[first_real_key]\n",
    "first_fake_df = fake_subsets[first_fake_key] \n",
    "\n",
    "real_df = real_df.head(len(first_fake_df))\n",
    "\n",
    "# Testing prep\n",
    "y_pred_real = [] #Avoid redoing predictions on the same real images subset\n",
    "y_pred = []\n",
    "database = df_enc\n",
    "\n",
    "# Testing on REAL images\n",
    "prediction_fn(real_df, 'real', y_pred_real, model, database)\n",
    "\n",
    "for dir, df in fake_subsets.items():\n",
    "    print(f\"\\n\\n\\nMetrics summary for {dir}:\")\n",
    "    \n",
    "    y_true = []\n",
    "    y_pred = y_pred_real.copy()\n",
    "\n",
    "    # Testing on FAKE images\n",
    "    prediction_fn(df, 'fake', y_pred, model, database)\n",
    "    # Metrics calculation\n",
    "    # (the df in input makes no differences)\n",
    "    calculate_metrics(df, y_pred, y_true)"
   ]
  }
 ],
 "metadata": {
  "kernelspec": {
   "display_name": "deepfake",
   "language": "python",
   "name": "python3"
  },
  "language_info": {
   "codemirror_mode": {
    "name": "ipython",
    "version": 3
   },
   "file_extension": ".py",
   "mimetype": "text/x-python",
   "name": "python",
   "nbconvert_exporter": "python",
   "pygments_lexer": "ipython3",
   "version": "3.10.14"
  }
 },
 "nbformat": 4,
 "nbformat_minor": 2
}
