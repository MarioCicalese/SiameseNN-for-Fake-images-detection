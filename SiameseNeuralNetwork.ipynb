{
 "cells": [
  {
   "cell_type": "code",
   "execution_count": 14,
   "metadata": {},
   "outputs": [],
   "source": [
    "from constants import DatasetPath\n",
    "\n",
    "import pandas as pd\n",
    "import numpy as np\n",
    "import matplotlib.pyplot as plt\n",
    "import torch\n",
    "import timm\n",
    "\n",
    "import torch.nn.functional as F\n",
    "from torch import nn\n",
    "from torch.utils.data import Dataset, DataLoader\n",
    "from torch.optim.lr_scheduler import ReduceLROnPlateau\n",
    "\n",
    "from skimage import io\n",
    "from sklearn.model_selection import train_test_split\n",
    "from sklearn.metrics import confusion_matrix\n",
    "\n",
    "from tqdm.notebook import tqdm\n",
    "import os\n",
    "\n",
    "import seaborn as sns\n",
    "from sklearn.metrics import confusion_matrix, classification_report"
   ]
  },
  {
   "cell_type": "code",
   "execution_count": 15,
   "metadata": {},
   "outputs": [],
   "source": [
    "# Main Dataset folder path\n",
    "DATA_DIR = DatasetPath.effectivePath\n",
    "\n",
    "# HYPERPARAMETRES\n",
    "\n",
    "BATCH_SIZE = 16\n",
    "\n",
    "LR = 0.001\n",
    "\n",
    "EPOCHS = 30\n",
    "\n",
    "# Device to run calculations on \n",
    "DEVICE = torch.device('cuda' if torch.cuda.is_available() else 'cpu')"
   ]
  },
  {
   "cell_type": "code",
   "execution_count": 16,
   "metadata": {},
   "outputs": [
    {
     "name": "stdout",
     "output_type": "stream",
     "text": [
      "15680\n",
      "3920\n",
      "(19600, 3)\n"
     ]
    }
   ],
   "source": [
    "df = pd.read_csv(DATA_DIR + \"trainingSet.csv\")\n",
    "\n",
    "train_df, valid_df = train_test_split(df, test_size = 0.20, random_state = 42)\n",
    "print(len(train_df))\n",
    "print(len(valid_df))\n",
    "print(df.shape)"
   ]
  },
  {
   "cell_type": "code",
   "execution_count": 17,
   "metadata": {},
   "outputs": [],
   "source": [
    "# Class to provide useful functions and prepare the data for NN use \n",
    "class APN_Dataset(Dataset):\n",
    "    \"\"\"\n",
    "    Uploads images from Dataset and set them up for Neural Network use.\n",
    "\n",
    "    Parameters\n",
    "    ----------\n",
    "        Dataset (pd.DataFrame): the DataFrame containing the dataset.\n",
    "    \"\"\"\n",
    "    \n",
    "    def __init__(self, df):\n",
    "        \"\"\"\n",
    "        Initializes the class with the DataFrame in input.\n",
    "\n",
    "        Parameters\n",
    "        ----------\n",
    "            df (pd.DataFrame): the DataFrame containing the dataset.\n",
    "        \"\"\"\n",
    "        self.df = df\n",
    "\n",
    "    def __len__(self):\n",
    "        \"\"\"\n",
    "        Calculates the number of tuples in the dataset.\n",
    "\n",
    "        Returns\n",
    "        -------\n",
    "            (int): number of tuples in the dataset.\n",
    "        \"\"\"    \n",
    "        return len(self.df)\n",
    "\n",
    "    def __getitem__(self, idx):\n",
    "        \"\"\"\n",
    "        Retrieves the images at the given row index.\n",
    "\n",
    "        Parameters\n",
    "        ----------\n",
    "            idx (int): dataset row index.\n",
    "\n",
    "        Returns\n",
    "        -------\n",
    "            A_img, P_img, N_img (ndarray): the anchor, positive and negative images at row[idx] \n",
    "        \"\"\"\n",
    "        row = self.df.iloc[idx]\n",
    "\n",
    "        A_img = io.imread(DATA_DIR + row.anchor)\n",
    "        P_img = io.imread(DATA_DIR + row.positive)\n",
    "        N_img = io.imread(DATA_DIR + row.negative)\n",
    "\n",
    "        #Permute because the third channel has to be in first channel in torch\n",
    "\n",
    "        #A_img = torch.from_numpy(A_img).permute(2, 0, 1) / 255.0\n",
    "        #P_img = torch.from_numpy(P_img).permute(2, 0, 1) / 255.0\n",
    "        #N_img = torch.from_numpy(N_img).permute(2, 0, 1) / 255.0\n",
    "\n",
    "\n",
    "        A_img = np.expand_dims(A_img, 0)\n",
    "        P_img = np.expand_dims(P_img, 0)\n",
    "        N_img = np.expand_dims(N_img, 0)\n",
    "\n",
    "        A_img = torch.from_numpy(A_img) / 255.0\n",
    "        P_img = torch.from_numpy(P_img) / 255.0\n",
    "        N_img = torch.from_numpy(N_img) / 255.0\n",
    "\n",
    "        #A_img = torch.from_numpy(A_img.astype(np.int32)) / 65536.0\n",
    "        #P_img = torch.from_numpy(P_img.astype(np.int32)) / 65536.0\n",
    "        #N_img = torch.from_numpy(N_img.astype(np.int32)) / 65536.0\n",
    "\n",
    "        return A_img, P_img, N_img"
   ]
  },
  {
   "cell_type": "code",
   "execution_count": 18,
   "metadata": {},
   "outputs": [
    {
     "name": "stdout",
     "output_type": "stream",
     "text": [
      "Size of trainset: 15680\n",
      "Size of validset: 3920\n"
     ]
    }
   ],
   "source": [
    "# APN_Dataset objects creation\n",
    "\n",
    "trainset = APN_Dataset(train_df)\n",
    "validset = APN_Dataset(valid_df)\n",
    "\n",
    "print(f\"Size of trainset: {len(trainset)}\")\n",
    "print(f\"Size of validset: {len(validset)}\")"
   ]
  },
  {
   "cell_type": "code",
   "execution_count": 19,
   "metadata": {},
   "outputs": [
    {
     "name": "stdout",
     "output_type": "stream",
     "text": [
      "No. of batches in trainloader : 980\n",
      "No. of batches in validloader : 245\n"
     ]
    }
   ],
   "source": [
    "# DataLoader creation to handle loading data into memory\n",
    "\n",
    "trainloader = DataLoader(trainset, batch_size = BATCH_SIZE, shuffle = True)\n",
    "validloader = DataLoader(validset, batch_size = BATCH_SIZE)\n",
    "\n",
    "print(f\"No. of batches in trainloader : {len(trainloader)}\")\n",
    "print(f\"No. of batches in validloader : {len(validloader)}\")"
   ]
  },
  {
   "cell_type": "code",
   "execution_count": 20,
   "metadata": {},
   "outputs": [],
   "source": [
    "class APN_Model(nn.Module):\n",
    "    \"\"\"\n",
    "    Defines a neural network model class APN_Model that uses an EfficientNet (specifically the B0 version) as its backbone.\n",
    "    \"\"\"\n",
    "\n",
    "    def __init__(self, emb_size = 512):\n",
    "        \"\"\"\n",
    "        Initializes the APN_Model with a specific model and a classifier that outputs embedding vector of the specified size.\n",
    "\n",
    "        Parameters\n",
    "        ----------\n",
    "        emb_size (int, optional): the size of the output embedding vector (default is 512).\n",
    "        \"\"\"\n",
    "        super(APN_Model, self).__init__()\n",
    "\n",
    "        # Define the model to use \n",
    "        self.efficientnet = timm.create_model('tf_efficientnetv2_b0', pretrained = False)\n",
    "        \n",
    "        # Replace the classifier layer with a linear layer that outputs embeddings of size `emb_size`\n",
    "        self.efficientnet.classifier = nn.Linear(in_features=self.efficientnet.classifier.in_features, out_features = emb_size)\n",
    "\n",
    "    def forward(self, images):\n",
    "        \"\"\"\n",
    "        Performs the forward pass of the model, which takes a batch of images and returns their embeddings.\n",
    "\n",
    "        Parameters\n",
    "        ----------\n",
    "            images (torch.Tensor): a batch of images to process.\n",
    "\n",
    "        Returns\n",
    "        -------\n",
    "            embeddings (torch.Tensor): a batch of embeddings of size `emb_size`.\n",
    "        \"\"\"\n",
    "        embeddings = self.efficientnet(images)\n",
    "        return embeddings"
   ]
  },
  {
   "cell_type": "code",
   "execution_count": 21,
   "metadata": {},
   "outputs": [
    {
     "data": {
      "text/plain": [
       "APN_Model(\n",
       "  (efficientnet): EfficientNet(\n",
       "    (conv_stem): Conv2d(1, 32, kernel_size=(3, 3), stride=(2, 2), padding=(1, 1), bias=False)\n",
       "    (bn1): BatchNormAct2d(\n",
       "      32, eps=0.001, momentum=0.1, affine=True, track_running_stats=True\n",
       "      (drop): Identity()\n",
       "      (act): SiLU(inplace=True)\n",
       "    )\n",
       "    (blocks): Sequential(\n",
       "      (0): Sequential(\n",
       "        (0): ConvBnAct(\n",
       "          (conv): Conv2d(32, 16, kernel_size=(3, 3), stride=(1, 1), padding=(1, 1), bias=False)\n",
       "          (bn1): BatchNormAct2d(\n",
       "            16, eps=0.001, momentum=0.1, affine=True, track_running_stats=True\n",
       "            (drop): Identity()\n",
       "            (act): SiLU(inplace=True)\n",
       "          )\n",
       "          (drop_path): Identity()\n",
       "        )\n",
       "      )\n",
       "      (1): Sequential(\n",
       "        (0): EdgeResidual(\n",
       "          (conv_exp): Conv2dSame(16, 64, kernel_size=(3, 3), stride=(2, 2), bias=False)\n",
       "          (bn1): BatchNormAct2d(\n",
       "            64, eps=0.001, momentum=0.1, affine=True, track_running_stats=True\n",
       "            (drop): Identity()\n",
       "            (act): SiLU(inplace=True)\n",
       "          )\n",
       "          (se): Identity()\n",
       "          (conv_pwl): Conv2d(64, 32, kernel_size=(1, 1), stride=(1, 1), bias=False)\n",
       "          (bn2): BatchNormAct2d(\n",
       "            32, eps=0.001, momentum=0.1, affine=True, track_running_stats=True\n",
       "            (drop): Identity()\n",
       "            (act): Identity()\n",
       "          )\n",
       "          (drop_path): Identity()\n",
       "        )\n",
       "        (1): EdgeResidual(\n",
       "          (conv_exp): Conv2d(32, 128, kernel_size=(3, 3), stride=(1, 1), padding=(1, 1), bias=False)\n",
       "          (bn1): BatchNormAct2d(\n",
       "            128, eps=0.001, momentum=0.1, affine=True, track_running_stats=True\n",
       "            (drop): Identity()\n",
       "            (act): SiLU(inplace=True)\n",
       "          )\n",
       "          (se): Identity()\n",
       "          (conv_pwl): Conv2d(128, 32, kernel_size=(1, 1), stride=(1, 1), bias=False)\n",
       "          (bn2): BatchNormAct2d(\n",
       "            32, eps=0.001, momentum=0.1, affine=True, track_running_stats=True\n",
       "            (drop): Identity()\n",
       "            (act): Identity()\n",
       "          )\n",
       "          (drop_path): Identity()\n",
       "        )\n",
       "      )\n",
       "      (2): Sequential(\n",
       "        (0): EdgeResidual(\n",
       "          (conv_exp): Conv2dSame(32, 128, kernel_size=(3, 3), stride=(2, 2), bias=False)\n",
       "          (bn1): BatchNormAct2d(\n",
       "            128, eps=0.001, momentum=0.1, affine=True, track_running_stats=True\n",
       "            (drop): Identity()\n",
       "            (act): SiLU(inplace=True)\n",
       "          )\n",
       "          (se): Identity()\n",
       "          (conv_pwl): Conv2d(128, 48, kernel_size=(1, 1), stride=(1, 1), bias=False)\n",
       "          (bn2): BatchNormAct2d(\n",
       "            48, eps=0.001, momentum=0.1, affine=True, track_running_stats=True\n",
       "            (drop): Identity()\n",
       "            (act): Identity()\n",
       "          )\n",
       "          (drop_path): Identity()\n",
       "        )\n",
       "        (1): EdgeResidual(\n",
       "          (conv_exp): Conv2d(48, 192, kernel_size=(3, 3), stride=(1, 1), padding=(1, 1), bias=False)\n",
       "          (bn1): BatchNormAct2d(\n",
       "            192, eps=0.001, momentum=0.1, affine=True, track_running_stats=True\n",
       "            (drop): Identity()\n",
       "            (act): SiLU(inplace=True)\n",
       "          )\n",
       "          (se): Identity()\n",
       "          (conv_pwl): Conv2d(192, 48, kernel_size=(1, 1), stride=(1, 1), bias=False)\n",
       "          (bn2): BatchNormAct2d(\n",
       "            48, eps=0.001, momentum=0.1, affine=True, track_running_stats=True\n",
       "            (drop): Identity()\n",
       "            (act): Identity()\n",
       "          )\n",
       "          (drop_path): Identity()\n",
       "        )\n",
       "      )\n",
       "      (3): Sequential(\n",
       "        (0): InvertedResidual(\n",
       "          (conv_pw): Conv2d(48, 192, kernel_size=(1, 1), stride=(1, 1), bias=False)\n",
       "          (bn1): BatchNormAct2d(\n",
       "            192, eps=0.001, momentum=0.1, affine=True, track_running_stats=True\n",
       "            (drop): Identity()\n",
       "            (act): SiLU(inplace=True)\n",
       "          )\n",
       "          (conv_dw): Conv2dSame(192, 192, kernel_size=(3, 3), stride=(2, 2), groups=192, bias=False)\n",
       "          (bn2): BatchNormAct2d(\n",
       "            192, eps=0.001, momentum=0.1, affine=True, track_running_stats=True\n",
       "            (drop): Identity()\n",
       "            (act): SiLU(inplace=True)\n",
       "          )\n",
       "          (se): SqueezeExcite(\n",
       "            (conv_reduce): Conv2d(192, 12, kernel_size=(1, 1), stride=(1, 1))\n",
       "            (act1): SiLU(inplace=True)\n",
       "            (conv_expand): Conv2d(12, 192, kernel_size=(1, 1), stride=(1, 1))\n",
       "            (gate): Sigmoid()\n",
       "          )\n",
       "          (conv_pwl): Conv2d(192, 96, kernel_size=(1, 1), stride=(1, 1), bias=False)\n",
       "          (bn3): BatchNormAct2d(\n",
       "            96, eps=0.001, momentum=0.1, affine=True, track_running_stats=True\n",
       "            (drop): Identity()\n",
       "            (act): Identity()\n",
       "          )\n",
       "          (drop_path): Identity()\n",
       "        )\n",
       "        (1): InvertedResidual(\n",
       "          (conv_pw): Conv2d(96, 384, kernel_size=(1, 1), stride=(1, 1), bias=False)\n",
       "          (bn1): BatchNormAct2d(\n",
       "            384, eps=0.001, momentum=0.1, affine=True, track_running_stats=True\n",
       "            (drop): Identity()\n",
       "            (act): SiLU(inplace=True)\n",
       "          )\n",
       "          (conv_dw): Conv2d(384, 384, kernel_size=(3, 3), stride=(1, 1), padding=(1, 1), groups=384, bias=False)\n",
       "          (bn2): BatchNormAct2d(\n",
       "            384, eps=0.001, momentum=0.1, affine=True, track_running_stats=True\n",
       "            (drop): Identity()\n",
       "            (act): SiLU(inplace=True)\n",
       "          )\n",
       "          (se): SqueezeExcite(\n",
       "            (conv_reduce): Conv2d(384, 24, kernel_size=(1, 1), stride=(1, 1))\n",
       "            (act1): SiLU(inplace=True)\n",
       "            (conv_expand): Conv2d(24, 384, kernel_size=(1, 1), stride=(1, 1))\n",
       "            (gate): Sigmoid()\n",
       "          )\n",
       "          (conv_pwl): Conv2d(384, 96, kernel_size=(1, 1), stride=(1, 1), bias=False)\n",
       "          (bn3): BatchNormAct2d(\n",
       "            96, eps=0.001, momentum=0.1, affine=True, track_running_stats=True\n",
       "            (drop): Identity()\n",
       "            (act): Identity()\n",
       "          )\n",
       "          (drop_path): Identity()\n",
       "        )\n",
       "        (2): InvertedResidual(\n",
       "          (conv_pw): Conv2d(96, 384, kernel_size=(1, 1), stride=(1, 1), bias=False)\n",
       "          (bn1): BatchNormAct2d(\n",
       "            384, eps=0.001, momentum=0.1, affine=True, track_running_stats=True\n",
       "            (drop): Identity()\n",
       "            (act): SiLU(inplace=True)\n",
       "          )\n",
       "          (conv_dw): Conv2d(384, 384, kernel_size=(3, 3), stride=(1, 1), padding=(1, 1), groups=384, bias=False)\n",
       "          (bn2): BatchNormAct2d(\n",
       "            384, eps=0.001, momentum=0.1, affine=True, track_running_stats=True\n",
       "            (drop): Identity()\n",
       "            (act): SiLU(inplace=True)\n",
       "          )\n",
       "          (se): SqueezeExcite(\n",
       "            (conv_reduce): Conv2d(384, 24, kernel_size=(1, 1), stride=(1, 1))\n",
       "            (act1): SiLU(inplace=True)\n",
       "            (conv_expand): Conv2d(24, 384, kernel_size=(1, 1), stride=(1, 1))\n",
       "            (gate): Sigmoid()\n",
       "          )\n",
       "          (conv_pwl): Conv2d(384, 96, kernel_size=(1, 1), stride=(1, 1), bias=False)\n",
       "          (bn3): BatchNormAct2d(\n",
       "            96, eps=0.001, momentum=0.1, affine=True, track_running_stats=True\n",
       "            (drop): Identity()\n",
       "            (act): Identity()\n",
       "          )\n",
       "          (drop_path): Identity()\n",
       "        )\n",
       "      )\n",
       "      (4): Sequential(\n",
       "        (0): InvertedResidual(\n",
       "          (conv_pw): Conv2d(96, 576, kernel_size=(1, 1), stride=(1, 1), bias=False)\n",
       "          (bn1): BatchNormAct2d(\n",
       "            576, eps=0.001, momentum=0.1, affine=True, track_running_stats=True\n",
       "            (drop): Identity()\n",
       "            (act): SiLU(inplace=True)\n",
       "          )\n",
       "          (conv_dw): Conv2d(576, 576, kernel_size=(3, 3), stride=(1, 1), padding=(1, 1), groups=576, bias=False)\n",
       "          (bn2): BatchNormAct2d(\n",
       "            576, eps=0.001, momentum=0.1, affine=True, track_running_stats=True\n",
       "            (drop): Identity()\n",
       "            (act): SiLU(inplace=True)\n",
       "          )\n",
       "          (se): SqueezeExcite(\n",
       "            (conv_reduce): Conv2d(576, 24, kernel_size=(1, 1), stride=(1, 1))\n",
       "            (act1): SiLU(inplace=True)\n",
       "            (conv_expand): Conv2d(24, 576, kernel_size=(1, 1), stride=(1, 1))\n",
       "            (gate): Sigmoid()\n",
       "          )\n",
       "          (conv_pwl): Conv2d(576, 112, kernel_size=(1, 1), stride=(1, 1), bias=False)\n",
       "          (bn3): BatchNormAct2d(\n",
       "            112, eps=0.001, momentum=0.1, affine=True, track_running_stats=True\n",
       "            (drop): Identity()\n",
       "            (act): Identity()\n",
       "          )\n",
       "          (drop_path): Identity()\n",
       "        )\n",
       "        (1): InvertedResidual(\n",
       "          (conv_pw): Conv2d(112, 672, kernel_size=(1, 1), stride=(1, 1), bias=False)\n",
       "          (bn1): BatchNormAct2d(\n",
       "            672, eps=0.001, momentum=0.1, affine=True, track_running_stats=True\n",
       "            (drop): Identity()\n",
       "            (act): SiLU(inplace=True)\n",
       "          )\n",
       "          (conv_dw): Conv2d(672, 672, kernel_size=(3, 3), stride=(1, 1), padding=(1, 1), groups=672, bias=False)\n",
       "          (bn2): BatchNormAct2d(\n",
       "            672, eps=0.001, momentum=0.1, affine=True, track_running_stats=True\n",
       "            (drop): Identity()\n",
       "            (act): SiLU(inplace=True)\n",
       "          )\n",
       "          (se): SqueezeExcite(\n",
       "            (conv_reduce): Conv2d(672, 28, kernel_size=(1, 1), stride=(1, 1))\n",
       "            (act1): SiLU(inplace=True)\n",
       "            (conv_expand): Conv2d(28, 672, kernel_size=(1, 1), stride=(1, 1))\n",
       "            (gate): Sigmoid()\n",
       "          )\n",
       "          (conv_pwl): Conv2d(672, 112, kernel_size=(1, 1), stride=(1, 1), bias=False)\n",
       "          (bn3): BatchNormAct2d(\n",
       "            112, eps=0.001, momentum=0.1, affine=True, track_running_stats=True\n",
       "            (drop): Identity()\n",
       "            (act): Identity()\n",
       "          )\n",
       "          (drop_path): Identity()\n",
       "        )\n",
       "        (2): InvertedResidual(\n",
       "          (conv_pw): Conv2d(112, 672, kernel_size=(1, 1), stride=(1, 1), bias=False)\n",
       "          (bn1): BatchNormAct2d(\n",
       "            672, eps=0.001, momentum=0.1, affine=True, track_running_stats=True\n",
       "            (drop): Identity()\n",
       "            (act): SiLU(inplace=True)\n",
       "          )\n",
       "          (conv_dw): Conv2d(672, 672, kernel_size=(3, 3), stride=(1, 1), padding=(1, 1), groups=672, bias=False)\n",
       "          (bn2): BatchNormAct2d(\n",
       "            672, eps=0.001, momentum=0.1, affine=True, track_running_stats=True\n",
       "            (drop): Identity()\n",
       "            (act): SiLU(inplace=True)\n",
       "          )\n",
       "          (se): SqueezeExcite(\n",
       "            (conv_reduce): Conv2d(672, 28, kernel_size=(1, 1), stride=(1, 1))\n",
       "            (act1): SiLU(inplace=True)\n",
       "            (conv_expand): Conv2d(28, 672, kernel_size=(1, 1), stride=(1, 1))\n",
       "            (gate): Sigmoid()\n",
       "          )\n",
       "          (conv_pwl): Conv2d(672, 112, kernel_size=(1, 1), stride=(1, 1), bias=False)\n",
       "          (bn3): BatchNormAct2d(\n",
       "            112, eps=0.001, momentum=0.1, affine=True, track_running_stats=True\n",
       "            (drop): Identity()\n",
       "            (act): Identity()\n",
       "          )\n",
       "          (drop_path): Identity()\n",
       "        )\n",
       "        (3): InvertedResidual(\n",
       "          (conv_pw): Conv2d(112, 672, kernel_size=(1, 1), stride=(1, 1), bias=False)\n",
       "          (bn1): BatchNormAct2d(\n",
       "            672, eps=0.001, momentum=0.1, affine=True, track_running_stats=True\n",
       "            (drop): Identity()\n",
       "            (act): SiLU(inplace=True)\n",
       "          )\n",
       "          (conv_dw): Conv2d(672, 672, kernel_size=(3, 3), stride=(1, 1), padding=(1, 1), groups=672, bias=False)\n",
       "          (bn2): BatchNormAct2d(\n",
       "            672, eps=0.001, momentum=0.1, affine=True, track_running_stats=True\n",
       "            (drop): Identity()\n",
       "            (act): SiLU(inplace=True)\n",
       "          )\n",
       "          (se): SqueezeExcite(\n",
       "            (conv_reduce): Conv2d(672, 28, kernel_size=(1, 1), stride=(1, 1))\n",
       "            (act1): SiLU(inplace=True)\n",
       "            (conv_expand): Conv2d(28, 672, kernel_size=(1, 1), stride=(1, 1))\n",
       "            (gate): Sigmoid()\n",
       "          )\n",
       "          (conv_pwl): Conv2d(672, 112, kernel_size=(1, 1), stride=(1, 1), bias=False)\n",
       "          (bn3): BatchNormAct2d(\n",
       "            112, eps=0.001, momentum=0.1, affine=True, track_running_stats=True\n",
       "            (drop): Identity()\n",
       "            (act): Identity()\n",
       "          )\n",
       "          (drop_path): Identity()\n",
       "        )\n",
       "        (4): InvertedResidual(\n",
       "          (conv_pw): Conv2d(112, 672, kernel_size=(1, 1), stride=(1, 1), bias=False)\n",
       "          (bn1): BatchNormAct2d(\n",
       "            672, eps=0.001, momentum=0.1, affine=True, track_running_stats=True\n",
       "            (drop): Identity()\n",
       "            (act): SiLU(inplace=True)\n",
       "          )\n",
       "          (conv_dw): Conv2d(672, 672, kernel_size=(3, 3), stride=(1, 1), padding=(1, 1), groups=672, bias=False)\n",
       "          (bn2): BatchNormAct2d(\n",
       "            672, eps=0.001, momentum=0.1, affine=True, track_running_stats=True\n",
       "            (drop): Identity()\n",
       "            (act): SiLU(inplace=True)\n",
       "          )\n",
       "          (se): SqueezeExcite(\n",
       "            (conv_reduce): Conv2d(672, 28, kernel_size=(1, 1), stride=(1, 1))\n",
       "            (act1): SiLU(inplace=True)\n",
       "            (conv_expand): Conv2d(28, 672, kernel_size=(1, 1), stride=(1, 1))\n",
       "            (gate): Sigmoid()\n",
       "          )\n",
       "          (conv_pwl): Conv2d(672, 112, kernel_size=(1, 1), stride=(1, 1), bias=False)\n",
       "          (bn3): BatchNormAct2d(\n",
       "            112, eps=0.001, momentum=0.1, affine=True, track_running_stats=True\n",
       "            (drop): Identity()\n",
       "            (act): Identity()\n",
       "          )\n",
       "          (drop_path): Identity()\n",
       "        )\n",
       "      )\n",
       "      (5): Sequential(\n",
       "        (0): InvertedResidual(\n",
       "          (conv_pw): Conv2d(112, 672, kernel_size=(1, 1), stride=(1, 1), bias=False)\n",
       "          (bn1): BatchNormAct2d(\n",
       "            672, eps=0.001, momentum=0.1, affine=True, track_running_stats=True\n",
       "            (drop): Identity()\n",
       "            (act): SiLU(inplace=True)\n",
       "          )\n",
       "          (conv_dw): Conv2dSame(672, 672, kernel_size=(3, 3), stride=(2, 2), groups=672, bias=False)\n",
       "          (bn2): BatchNormAct2d(\n",
       "            672, eps=0.001, momentum=0.1, affine=True, track_running_stats=True\n",
       "            (drop): Identity()\n",
       "            (act): SiLU(inplace=True)\n",
       "          )\n",
       "          (se): SqueezeExcite(\n",
       "            (conv_reduce): Conv2d(672, 28, kernel_size=(1, 1), stride=(1, 1))\n",
       "            (act1): SiLU(inplace=True)\n",
       "            (conv_expand): Conv2d(28, 672, kernel_size=(1, 1), stride=(1, 1))\n",
       "            (gate): Sigmoid()\n",
       "          )\n",
       "          (conv_pwl): Conv2d(672, 192, kernel_size=(1, 1), stride=(1, 1), bias=False)\n",
       "          (bn3): BatchNormAct2d(\n",
       "            192, eps=0.001, momentum=0.1, affine=True, track_running_stats=True\n",
       "            (drop): Identity()\n",
       "            (act): Identity()\n",
       "          )\n",
       "          (drop_path): Identity()\n",
       "        )\n",
       "        (1): InvertedResidual(\n",
       "          (conv_pw): Conv2d(192, 1152, kernel_size=(1, 1), stride=(1, 1), bias=False)\n",
       "          (bn1): BatchNormAct2d(\n",
       "            1152, eps=0.001, momentum=0.1, affine=True, track_running_stats=True\n",
       "            (drop): Identity()\n",
       "            (act): SiLU(inplace=True)\n",
       "          )\n",
       "          (conv_dw): Conv2d(1152, 1152, kernel_size=(3, 3), stride=(1, 1), padding=(1, 1), groups=1152, bias=False)\n",
       "          (bn2): BatchNormAct2d(\n",
       "            1152, eps=0.001, momentum=0.1, affine=True, track_running_stats=True\n",
       "            (drop): Identity()\n",
       "            (act): SiLU(inplace=True)\n",
       "          )\n",
       "          (se): SqueezeExcite(\n",
       "            (conv_reduce): Conv2d(1152, 48, kernel_size=(1, 1), stride=(1, 1))\n",
       "            (act1): SiLU(inplace=True)\n",
       "            (conv_expand): Conv2d(48, 1152, kernel_size=(1, 1), stride=(1, 1))\n",
       "            (gate): Sigmoid()\n",
       "          )\n",
       "          (conv_pwl): Conv2d(1152, 192, kernel_size=(1, 1), stride=(1, 1), bias=False)\n",
       "          (bn3): BatchNormAct2d(\n",
       "            192, eps=0.001, momentum=0.1, affine=True, track_running_stats=True\n",
       "            (drop): Identity()\n",
       "            (act): Identity()\n",
       "          )\n",
       "          (drop_path): Identity()\n",
       "        )\n",
       "        (2): InvertedResidual(\n",
       "          (conv_pw): Conv2d(192, 1152, kernel_size=(1, 1), stride=(1, 1), bias=False)\n",
       "          (bn1): BatchNormAct2d(\n",
       "            1152, eps=0.001, momentum=0.1, affine=True, track_running_stats=True\n",
       "            (drop): Identity()\n",
       "            (act): SiLU(inplace=True)\n",
       "          )\n",
       "          (conv_dw): Conv2d(1152, 1152, kernel_size=(3, 3), stride=(1, 1), padding=(1, 1), groups=1152, bias=False)\n",
       "          (bn2): BatchNormAct2d(\n",
       "            1152, eps=0.001, momentum=0.1, affine=True, track_running_stats=True\n",
       "            (drop): Identity()\n",
       "            (act): SiLU(inplace=True)\n",
       "          )\n",
       "          (se): SqueezeExcite(\n",
       "            (conv_reduce): Conv2d(1152, 48, kernel_size=(1, 1), stride=(1, 1))\n",
       "            (act1): SiLU(inplace=True)\n",
       "            (conv_expand): Conv2d(48, 1152, kernel_size=(1, 1), stride=(1, 1))\n",
       "            (gate): Sigmoid()\n",
       "          )\n",
       "          (conv_pwl): Conv2d(1152, 192, kernel_size=(1, 1), stride=(1, 1), bias=False)\n",
       "          (bn3): BatchNormAct2d(\n",
       "            192, eps=0.001, momentum=0.1, affine=True, track_running_stats=True\n",
       "            (drop): Identity()\n",
       "            (act): Identity()\n",
       "          )\n",
       "          (drop_path): Identity()\n",
       "        )\n",
       "        (3): InvertedResidual(\n",
       "          (conv_pw): Conv2d(192, 1152, kernel_size=(1, 1), stride=(1, 1), bias=False)\n",
       "          (bn1): BatchNormAct2d(\n",
       "            1152, eps=0.001, momentum=0.1, affine=True, track_running_stats=True\n",
       "            (drop): Identity()\n",
       "            (act): SiLU(inplace=True)\n",
       "          )\n",
       "          (conv_dw): Conv2d(1152, 1152, kernel_size=(3, 3), stride=(1, 1), padding=(1, 1), groups=1152, bias=False)\n",
       "          (bn2): BatchNormAct2d(\n",
       "            1152, eps=0.001, momentum=0.1, affine=True, track_running_stats=True\n",
       "            (drop): Identity()\n",
       "            (act): SiLU(inplace=True)\n",
       "          )\n",
       "          (se): SqueezeExcite(\n",
       "            (conv_reduce): Conv2d(1152, 48, kernel_size=(1, 1), stride=(1, 1))\n",
       "            (act1): SiLU(inplace=True)\n",
       "            (conv_expand): Conv2d(48, 1152, kernel_size=(1, 1), stride=(1, 1))\n",
       "            (gate): Sigmoid()\n",
       "          )\n",
       "          (conv_pwl): Conv2d(1152, 192, kernel_size=(1, 1), stride=(1, 1), bias=False)\n",
       "          (bn3): BatchNormAct2d(\n",
       "            192, eps=0.001, momentum=0.1, affine=True, track_running_stats=True\n",
       "            (drop): Identity()\n",
       "            (act): Identity()\n",
       "          )\n",
       "          (drop_path): Identity()\n",
       "        )\n",
       "        (4): InvertedResidual(\n",
       "          (conv_pw): Conv2d(192, 1152, kernel_size=(1, 1), stride=(1, 1), bias=False)\n",
       "          (bn1): BatchNormAct2d(\n",
       "            1152, eps=0.001, momentum=0.1, affine=True, track_running_stats=True\n",
       "            (drop): Identity()\n",
       "            (act): SiLU(inplace=True)\n",
       "          )\n",
       "          (conv_dw): Conv2d(1152, 1152, kernel_size=(3, 3), stride=(1, 1), padding=(1, 1), groups=1152, bias=False)\n",
       "          (bn2): BatchNormAct2d(\n",
       "            1152, eps=0.001, momentum=0.1, affine=True, track_running_stats=True\n",
       "            (drop): Identity()\n",
       "            (act): SiLU(inplace=True)\n",
       "          )\n",
       "          (se): SqueezeExcite(\n",
       "            (conv_reduce): Conv2d(1152, 48, kernel_size=(1, 1), stride=(1, 1))\n",
       "            (act1): SiLU(inplace=True)\n",
       "            (conv_expand): Conv2d(48, 1152, kernel_size=(1, 1), stride=(1, 1))\n",
       "            (gate): Sigmoid()\n",
       "          )\n",
       "          (conv_pwl): Conv2d(1152, 192, kernel_size=(1, 1), stride=(1, 1), bias=False)\n",
       "          (bn3): BatchNormAct2d(\n",
       "            192, eps=0.001, momentum=0.1, affine=True, track_running_stats=True\n",
       "            (drop): Identity()\n",
       "            (act): Identity()\n",
       "          )\n",
       "          (drop_path): Identity()\n",
       "        )\n",
       "        (5): InvertedResidual(\n",
       "          (conv_pw): Conv2d(192, 1152, kernel_size=(1, 1), stride=(1, 1), bias=False)\n",
       "          (bn1): BatchNormAct2d(\n",
       "            1152, eps=0.001, momentum=0.1, affine=True, track_running_stats=True\n",
       "            (drop): Identity()\n",
       "            (act): SiLU(inplace=True)\n",
       "          )\n",
       "          (conv_dw): Conv2d(1152, 1152, kernel_size=(3, 3), stride=(1, 1), padding=(1, 1), groups=1152, bias=False)\n",
       "          (bn2): BatchNormAct2d(\n",
       "            1152, eps=0.001, momentum=0.1, affine=True, track_running_stats=True\n",
       "            (drop): Identity()\n",
       "            (act): SiLU(inplace=True)\n",
       "          )\n",
       "          (se): SqueezeExcite(\n",
       "            (conv_reduce): Conv2d(1152, 48, kernel_size=(1, 1), stride=(1, 1))\n",
       "            (act1): SiLU(inplace=True)\n",
       "            (conv_expand): Conv2d(48, 1152, kernel_size=(1, 1), stride=(1, 1))\n",
       "            (gate): Sigmoid()\n",
       "          )\n",
       "          (conv_pwl): Conv2d(1152, 192, kernel_size=(1, 1), stride=(1, 1), bias=False)\n",
       "          (bn3): BatchNormAct2d(\n",
       "            192, eps=0.001, momentum=0.1, affine=True, track_running_stats=True\n",
       "            (drop): Identity()\n",
       "            (act): Identity()\n",
       "          )\n",
       "          (drop_path): Identity()\n",
       "        )\n",
       "        (6): InvertedResidual(\n",
       "          (conv_pw): Conv2d(192, 1152, kernel_size=(1, 1), stride=(1, 1), bias=False)\n",
       "          (bn1): BatchNormAct2d(\n",
       "            1152, eps=0.001, momentum=0.1, affine=True, track_running_stats=True\n",
       "            (drop): Identity()\n",
       "            (act): SiLU(inplace=True)\n",
       "          )\n",
       "          (conv_dw): Conv2d(1152, 1152, kernel_size=(3, 3), stride=(1, 1), padding=(1, 1), groups=1152, bias=False)\n",
       "          (bn2): BatchNormAct2d(\n",
       "            1152, eps=0.001, momentum=0.1, affine=True, track_running_stats=True\n",
       "            (drop): Identity()\n",
       "            (act): SiLU(inplace=True)\n",
       "          )\n",
       "          (se): SqueezeExcite(\n",
       "            (conv_reduce): Conv2d(1152, 48, kernel_size=(1, 1), stride=(1, 1))\n",
       "            (act1): SiLU(inplace=True)\n",
       "            (conv_expand): Conv2d(48, 1152, kernel_size=(1, 1), stride=(1, 1))\n",
       "            (gate): Sigmoid()\n",
       "          )\n",
       "          (conv_pwl): Conv2d(1152, 192, kernel_size=(1, 1), stride=(1, 1), bias=False)\n",
       "          (bn3): BatchNormAct2d(\n",
       "            192, eps=0.001, momentum=0.1, affine=True, track_running_stats=True\n",
       "            (drop): Identity()\n",
       "            (act): Identity()\n",
       "          )\n",
       "          (drop_path): Identity()\n",
       "        )\n",
       "        (7): InvertedResidual(\n",
       "          (conv_pw): Conv2d(192, 1152, kernel_size=(1, 1), stride=(1, 1), bias=False)\n",
       "          (bn1): BatchNormAct2d(\n",
       "            1152, eps=0.001, momentum=0.1, affine=True, track_running_stats=True\n",
       "            (drop): Identity()\n",
       "            (act): SiLU(inplace=True)\n",
       "          )\n",
       "          (conv_dw): Conv2d(1152, 1152, kernel_size=(3, 3), stride=(1, 1), padding=(1, 1), groups=1152, bias=False)\n",
       "          (bn2): BatchNormAct2d(\n",
       "            1152, eps=0.001, momentum=0.1, affine=True, track_running_stats=True\n",
       "            (drop): Identity()\n",
       "            (act): SiLU(inplace=True)\n",
       "          )\n",
       "          (se): SqueezeExcite(\n",
       "            (conv_reduce): Conv2d(1152, 48, kernel_size=(1, 1), stride=(1, 1))\n",
       "            (act1): SiLU(inplace=True)\n",
       "            (conv_expand): Conv2d(48, 1152, kernel_size=(1, 1), stride=(1, 1))\n",
       "            (gate): Sigmoid()\n",
       "          )\n",
       "          (conv_pwl): Conv2d(1152, 192, kernel_size=(1, 1), stride=(1, 1), bias=False)\n",
       "          (bn3): BatchNormAct2d(\n",
       "            192, eps=0.001, momentum=0.1, affine=True, track_running_stats=True\n",
       "            (drop): Identity()\n",
       "            (act): Identity()\n",
       "          )\n",
       "          (drop_path): Identity()\n",
       "        )\n",
       "      )\n",
       "    )\n",
       "    (conv_head): Conv2d(192, 1280, kernel_size=(1, 1), stride=(1, 1), bias=False)\n",
       "    (bn2): BatchNormAct2d(\n",
       "      1280, eps=0.001, momentum=0.1, affine=True, track_running_stats=True\n",
       "      (drop): Identity()\n",
       "      (act): SiLU(inplace=True)\n",
       "    )\n",
       "    (global_pool): SelectAdaptivePool2d(pool_type=avg, flatten=Flatten(start_dim=1, end_dim=-1))\n",
       "    (classifier): Linear(in_features=1280, out_features=512, bias=True)\n",
       "  )\n",
       ")"
      ]
     },
     "execution_count": 21,
     "metadata": {},
     "output_type": "execute_result"
    }
   ],
   "source": [
    "# NN mod to accept greyscale fourier spectrum images instead of RGB\n",
    "\n",
    "model = APN_Model()\n",
    "model.efficientnet.conv_stem = nn.Conv2d(1, 32, 3, 2, 1, bias=False)\n",
    "\n",
    "model.to(DEVICE)"
   ]
  },
  {
   "cell_type": "code",
   "execution_count": 22,
   "metadata": {},
   "outputs": [],
   "source": [
    "def train_fn(model, dataloader, optimizer, criterion):\n",
    "    \"\"\"\n",
    "    Trains the model for one epoch using the provided dataloader, optimizer, and criterion.\n",
    "\n",
    "    Parameters\n",
    "    ----------\n",
    "        model (torch.nn.Module): the neural network model to be trained.\n",
    "        dataloader (torch.utils.data.DataLoader): the dataloader providing batches of anchor, positive, and negative image triplets.\n",
    "        optimizer (torch.optim.Optimizer): the optimizer used to update the model's parameters.\n",
    "        criterion (function): the loss function used to compute the loss between the model's outputs.\n",
    "\n",
    "    Returns\n",
    "    -------\n",
    "        (float) : the average training loss over all batches.\n",
    "    \"\"\"\n",
    "\n",
    "    # Sets the model to training mode\n",
    "    model.train() #ON Dropout\n",
    "    total_loss = 0.0\n",
    "\n",
    "    # Iterates over the batches of data provided by the dataloader.\n",
    "    # Each batch consists of triplets: anchor (A), positive (P), and negative (N) images.\n",
    "    for A, P, N in tqdm(dataloader):\n",
    "        # Moves the anchor, positive, and negative images to the specified device.\n",
    "        A, P, N = A.to(DEVICE), P.to(DEVICE), N.to(DEVICE)\n",
    "\n",
    "        # Passes the anchor, positive, and negative images through the model to obtain their embeddings.\n",
    "        A_embs = model(A)\n",
    "        P_embs = model(P)\n",
    "        N_embs = model(N)\n",
    "\n",
    "        # Computes the loss using the specified loss function\n",
    "        loss = criterion(A_embs, P_embs, N_embs)\n",
    "\n",
    "        # Clears the gradients of all optimized parameters.\n",
    "        # Important to prevent accumulation of gradients from multiple forward passes.\n",
    "        optimizer.zero_grad()\n",
    "\n",
    "        # Computes the gradient of the loss with respect to the model's parameters (backpropagation).\n",
    "        loss.backward()\n",
    "        \n",
    "        # Updates the model's parameters based on the computed gradients.\n",
    "        optimizer.step()\n",
    "\n",
    "        # Updates toal loss at the end of each iteration\n",
    "        total_loss += loss.item()\n",
    "\n",
    "    return total_loss / len(dataloader)"
   ]
  },
  {
   "cell_type": "code",
   "execution_count": 23,
   "metadata": {},
   "outputs": [],
   "source": [
    "def eval_fn(model, dataloader, criterion):\n",
    "    \"\"\"\n",
    "    Evaluates the model using the provided dataloader and criterion.\n",
    "\n",
    "    Parameters\n",
    "    ----------\n",
    "        model (torch.nn.Module): the neural network model to be evaluated.\n",
    "        dataloader (torch.utils.data.DataLoader): the dataloader providing batches of anchor, positive, and negative image triplets.\n",
    "        criterion (function): the loss function used to compute the loss between the model's outputs.\n",
    "\n",
    "    Returns\n",
    "    -------\n",
    "        (float): the average validation loss over all batches.\n",
    "    \"\"\"\n",
    "    \n",
    "    # Sets the model to evaluation mode\n",
    "    model.eval() #OFF Dropout\n",
    "    total_loss = 0.0\n",
    "\n",
    "    # Disables gradient calculation.\n",
    "    # Important to reduce memory usage and speed up computations since gradients are not needed.\n",
    "    with torch.no_grad():\n",
    "        # Iterates over the batches of data provided by the dataloader.\n",
    "        for A, P, N in tqdm(dataloader):\n",
    "             # Moves the anchor, positive, and negative images to the specified device.\n",
    "            A, P, N = A.to(DEVICE), P.to(DEVICE), N.to(DEVICE)\n",
    "\n",
    "            # Passes the anchor, positive, and negative images through the model to obtain their embeddings.\n",
    "            A_embs = model(A)\n",
    "            P_embs = model(P)\n",
    "            N_embs = model(N)\n",
    "\n",
    "            # Computes the loss using the specified loss function\n",
    "            loss = criterion(A_embs, P_embs, N_embs)\n",
    "\n",
    "            # Updates toal loss at the end of each iteration\n",
    "            total_loss += loss.item()\n",
    "\n",
    "    return total_loss / len(dataloader)"
   ]
  },
  {
   "cell_type": "code",
   "execution_count": 24,
   "metadata": {},
   "outputs": [],
   "source": [
    "# Definition of the loss function and the optimizer to utilize.\n",
    "\n",
    "criterion = nn.TripletMarginLoss()\n",
    "optimizer = torch.optim.Adam(model.parameters(), lr = LR)\n",
    "\n",
    "# Learning Rate Scheduler\n",
    "scheduler = ReduceLROnPlateau(optimizer, mode='min', factor=0.1, patience=7)"
   ]
  },
  {
   "cell_type": "code",
   "execution_count": 25,
   "metadata": {},
   "outputs": [],
   "source": [
    "model_path = DATA_DIR + 'best_model.pt'\n",
    "loss_path =  DATA_DIR + 'best_valid_loss.txt'\n",
    "\n",
    "def save_checkpoint(best_valid_loss):\n",
    "    \"\"\"\n",
    "    Saves best model along with its valid loss to a '.txt' file\n",
    "\n",
    "    Parametres\n",
    "    ----------\n",
    "        best_valid_loss (float): the best valid loss calculated among all training sessions.\n",
    "    \"\"\"\n",
    "    torch.save(model.state_dict(), model_path)\n",
    "    with open(loss_path, 'w') as f:\n",
    "        f.write(str(best_valid_loss))\n",
    "\n",
    "    print(\"CHECKPOINT_SAVED\")\n",
    "\n",
    "def load_checkpoint():\n",
    "    \"\"\"\n",
    "    Loads the best model and its valid loss from a '.txt' file. In case one of these can't be found, the training starts from scratch\n",
    "\n",
    "    Returns\n",
    "    -------\n",
    "        best_valid_loss (float, np.Inf): if the best valid loss exists, returns a float; else returns an Infinite value\n",
    "    \"\"\"\n",
    "    if os.path.exists(model_path) and os.path.exists(loss_path):\n",
    "        print(\"CHECKPOINT_LOADED\")\n",
    "        model.load_state_dict(torch.load(model_path))\n",
    "        with open(loss_path, 'r') as f:\n",
    "            best_valid_loss = float(f.read())\n",
    "            return best_valid_loss\n",
    "\n",
    "    print(\"UNABLE_TO_LOAD_CHECKPOINT\")\n",
    "    return np.Inf"
   ]
  },
  {
   "cell_type": "code",
   "execution_count": 26,
   "metadata": {},
   "outputs": [
    {
     "name": "stdout",
     "output_type": "stream",
     "text": [
      "UNABLE_TO_LOAD_CHECKPOINT\n"
     ]
    },
    {
     "data": {
      "application/vnd.jupyter.widget-view+json": {
       "model_id": "3cb508dfe3404e0daeed8da72a1da258",
       "version_major": 2,
       "version_minor": 0
      },
      "text/plain": [
       "  0%|          | 0/980 [00:00<?, ?it/s]"
      ]
     },
     "metadata": {},
     "output_type": "display_data"
    },
    {
     "data": {
      "application/vnd.jupyter.widget-view+json": {
       "model_id": "5c6b0852e16e40ef8fbecbc0dbf22df1",
       "version_major": 2,
       "version_minor": 0
      },
      "text/plain": [
       "  0%|          | 0/245 [00:00<?, ?it/s]"
      ]
     },
     "metadata": {},
     "output_type": "display_data"
    },
    {
     "name": "stdout",
     "output_type": "stream",
     "text": [
      "CHECKPOINT_SAVED\n",
      "EPOCHS : 1 train_loss : 0.8941697188177887 valid_loss : 0.8130162792546408 Learning Rate: [0.001]\n"
     ]
    },
    {
     "data": {
      "application/vnd.jupyter.widget-view+json": {
       "model_id": "ded4927f0e1a4df89575169d188cd1e3",
       "version_major": 2,
       "version_minor": 0
      },
      "text/plain": [
       "  0%|          | 0/980 [00:00<?, ?it/s]"
      ]
     },
     "metadata": {},
     "output_type": "display_data"
    },
    {
     "data": {
      "application/vnd.jupyter.widget-view+json": {
       "model_id": "d1b107189bee4b6a983cf52588b46bf2",
       "version_major": 2,
       "version_minor": 0
      },
      "text/plain": [
       "  0%|          | 0/245 [00:00<?, ?it/s]"
      ]
     },
     "metadata": {},
     "output_type": "display_data"
    },
    {
     "name": "stdout",
     "output_type": "stream",
     "text": [
      "EPOCHS : 2 train_loss : 0.7948765433260373 valid_loss : 0.8215331211382029 Learning Rate: [0.001]\n"
     ]
    },
    {
     "data": {
      "application/vnd.jupyter.widget-view+json": {
       "model_id": "0818ecd263ea4c09afa640c09aa9e0c3",
       "version_major": 2,
       "version_minor": 0
      },
      "text/plain": [
       "  0%|          | 0/980 [00:00<?, ?it/s]"
      ]
     },
     "metadata": {},
     "output_type": "display_data"
    },
    {
     "data": {
      "application/vnd.jupyter.widget-view+json": {
       "model_id": "556d3e70a0ce41d19ece5c7eadb5db55",
       "version_major": 2,
       "version_minor": 0
      },
      "text/plain": [
       "  0%|          | 0/245 [00:00<?, ?it/s]"
      ]
     },
     "metadata": {},
     "output_type": "display_data"
    },
    {
     "name": "stdout",
     "output_type": "stream",
     "text": [
      "CHECKPOINT_SAVED\n",
      "EPOCHS : 3 train_loss : 0.8205893921000617 valid_loss : 0.7900013416397328 Learning Rate: [0.001]\n"
     ]
    },
    {
     "data": {
      "application/vnd.jupyter.widget-view+json": {
       "model_id": "a8a607cd26154f9da2eab5af609a4417",
       "version_major": 2,
       "version_minor": 0
      },
      "text/plain": [
       "  0%|          | 0/980 [00:00<?, ?it/s]"
      ]
     },
     "metadata": {},
     "output_type": "display_data"
    },
    {
     "data": {
      "application/vnd.jupyter.widget-view+json": {
       "model_id": "8e78f2b17f3245c8b5a1fcf46501e96e",
       "version_major": 2,
       "version_minor": 0
      },
      "text/plain": [
       "  0%|          | 0/245 [00:00<?, ?it/s]"
      ]
     },
     "metadata": {},
     "output_type": "display_data"
    },
    {
     "name": "stdout",
     "output_type": "stream",
     "text": [
      "CHECKPOINT_SAVED\n",
      "EPOCHS : 4 train_loss : 0.7850664111348439 valid_loss : 0.7664310761860439 Learning Rate: [0.001]\n"
     ]
    },
    {
     "data": {
      "application/vnd.jupyter.widget-view+json": {
       "model_id": "8346a7261dbd4de99aad9aafe95a5321",
       "version_major": 2,
       "version_minor": 0
      },
      "text/plain": [
       "  0%|          | 0/980 [00:00<?, ?it/s]"
      ]
     },
     "metadata": {},
     "output_type": "display_data"
    },
    {
     "data": {
      "application/vnd.jupyter.widget-view+json": {
       "model_id": "9777bc38f73c4ccaa1d68368eb0808ca",
       "version_major": 2,
       "version_minor": 0
      },
      "text/plain": [
       "  0%|          | 0/245 [00:00<?, ?it/s]"
      ]
     },
     "metadata": {},
     "output_type": "display_data"
    },
    {
     "name": "stdout",
     "output_type": "stream",
     "text": [
      "EPOCHS : 5 train_loss : 0.8174778943615301 valid_loss : 0.8306448926731032 Learning Rate: [0.001]\n"
     ]
    },
    {
     "data": {
      "application/vnd.jupyter.widget-view+json": {
       "model_id": "6e6ca2306e8542f79bcf36b0bc76d715",
       "version_major": 2,
       "version_minor": 0
      },
      "text/plain": [
       "  0%|          | 0/980 [00:00<?, ?it/s]"
      ]
     },
     "metadata": {},
     "output_type": "display_data"
    },
    {
     "data": {
      "application/vnd.jupyter.widget-view+json": {
       "model_id": "c03d9f11c1f648d49d62aaffc2498984",
       "version_major": 2,
       "version_minor": 0
      },
      "text/plain": [
       "  0%|          | 0/245 [00:00<?, ?it/s]"
      ]
     },
     "metadata": {},
     "output_type": "display_data"
    },
    {
     "name": "stdout",
     "output_type": "stream",
     "text": [
      "CHECKPOINT_SAVED\n",
      "EPOCHS : 6 train_loss : 0.7564706532854815 valid_loss : 0.7508944383689335 Learning Rate: [0.001]\n"
     ]
    },
    {
     "data": {
      "application/vnd.jupyter.widget-view+json": {
       "model_id": "4a340976f4d04f6688fa895f9ecee494",
       "version_major": 2,
       "version_minor": 0
      },
      "text/plain": [
       "  0%|          | 0/980 [00:00<?, ?it/s]"
      ]
     },
     "metadata": {},
     "output_type": "display_data"
    },
    {
     "data": {
      "application/vnd.jupyter.widget-view+json": {
       "model_id": "17f9a3d2d1704ef3a710e08340153e63",
       "version_major": 2,
       "version_minor": 0
      },
      "text/plain": [
       "  0%|          | 0/245 [00:00<?, ?it/s]"
      ]
     },
     "metadata": {},
     "output_type": "display_data"
    },
    {
     "name": "stdout",
     "output_type": "stream",
     "text": [
      "EPOCHS : 7 train_loss : 0.7516154304146767 valid_loss : 0.7554013669490814 Learning Rate: [0.001]\n"
     ]
    },
    {
     "data": {
      "application/vnd.jupyter.widget-view+json": {
       "model_id": "b1aeab9e68cb4d9687f5955223adbf18",
       "version_major": 2,
       "version_minor": 0
      },
      "text/plain": [
       "  0%|          | 0/980 [00:00<?, ?it/s]"
      ]
     },
     "metadata": {},
     "output_type": "display_data"
    },
    {
     "data": {
      "application/vnd.jupyter.widget-view+json": {
       "model_id": "0190c1ef3bcd43a5b95fda9ac1d3136e",
       "version_major": 2,
       "version_minor": 0
      },
      "text/plain": [
       "  0%|          | 0/245 [00:00<?, ?it/s]"
      ]
     },
     "metadata": {},
     "output_type": "display_data"
    },
    {
     "name": "stdout",
     "output_type": "stream",
     "text": [
      "CHECKPOINT_SAVED\n",
      "EPOCHS : 8 train_loss : 0.741396918778821 valid_loss : 0.7190029062786881 Learning Rate: [0.001]\n"
     ]
    },
    {
     "data": {
      "application/vnd.jupyter.widget-view+json": {
       "model_id": "72ecd6c2176f42ac9076f0ead9d888b9",
       "version_major": 2,
       "version_minor": 0
      },
      "text/plain": [
       "  0%|          | 0/980 [00:00<?, ?it/s]"
      ]
     },
     "metadata": {},
     "output_type": "display_data"
    },
    {
     "data": {
      "application/vnd.jupyter.widget-view+json": {
       "model_id": "9d52b5098ac142daabb64b15a4731398",
       "version_major": 2,
       "version_minor": 0
      },
      "text/plain": [
       "  0%|          | 0/245 [00:00<?, ?it/s]"
      ]
     },
     "metadata": {},
     "output_type": "display_data"
    },
    {
     "name": "stdout",
     "output_type": "stream",
     "text": [
      "CHECKPOINT_SAVED\n",
      "EPOCHS : 9 train_loss : 0.7683836904335387 valid_loss : 0.7101588409774158 Learning Rate: [0.001]\n"
     ]
    },
    {
     "data": {
      "application/vnd.jupyter.widget-view+json": {
       "model_id": "86fba756a60e4515aba0bb2eb03a3dd8",
       "version_major": 2,
       "version_minor": 0
      },
      "text/plain": [
       "  0%|          | 0/980 [00:00<?, ?it/s]"
      ]
     },
     "metadata": {},
     "output_type": "display_data"
    },
    {
     "data": {
      "application/vnd.jupyter.widget-view+json": {
       "model_id": "eaf2e338ae224468a89dc7cfa7db9965",
       "version_major": 2,
       "version_minor": 0
      },
      "text/plain": [
       "  0%|          | 0/245 [00:00<?, ?it/s]"
      ]
     },
     "metadata": {},
     "output_type": "display_data"
    },
    {
     "name": "stdout",
     "output_type": "stream",
     "text": [
      "EPOCHS : 10 train_loss : 0.7314126710198363 valid_loss : 0.7698701826893554 Learning Rate: [0.001]\n"
     ]
    },
    {
     "data": {
      "application/vnd.jupyter.widget-view+json": {
       "model_id": "06b47822932644018fb10297a3592b0e",
       "version_major": 2,
       "version_minor": 0
      },
      "text/plain": [
       "  0%|          | 0/980 [00:00<?, ?it/s]"
      ]
     },
     "metadata": {},
     "output_type": "display_data"
    },
    {
     "data": {
      "application/vnd.jupyter.widget-view+json": {
       "model_id": "910b267a5cad4ff3bd05aeef34ad6ab2",
       "version_major": 2,
       "version_minor": 0
      },
      "text/plain": [
       "  0%|          | 0/245 [00:00<?, ?it/s]"
      ]
     },
     "metadata": {},
     "output_type": "display_data"
    },
    {
     "name": "stdout",
     "output_type": "stream",
     "text": [
      "EPOCHS : 11 train_loss : 0.7264846725655454 valid_loss : 0.7910872837718652 Learning Rate: [0.001]\n"
     ]
    },
    {
     "data": {
      "application/vnd.jupyter.widget-view+json": {
       "model_id": "71fd5caa2059494287d89c2d8c92775a",
       "version_major": 2,
       "version_minor": 0
      },
      "text/plain": [
       "  0%|          | 0/980 [00:00<?, ?it/s]"
      ]
     },
     "metadata": {},
     "output_type": "display_data"
    },
    {
     "data": {
      "application/vnd.jupyter.widget-view+json": {
       "model_id": "7e274fb3bbaa4aff93b66c89c32979fd",
       "version_major": 2,
       "version_minor": 0
      },
      "text/plain": [
       "  0%|          | 0/245 [00:00<?, ?it/s]"
      ]
     },
     "metadata": {},
     "output_type": "display_data"
    },
    {
     "name": "stdout",
     "output_type": "stream",
     "text": [
      "EPOCHS : 12 train_loss : 0.7233773313386708 valid_loss : 0.7246787866767572 Learning Rate: [0.001]\n"
     ]
    },
    {
     "data": {
      "application/vnd.jupyter.widget-view+json": {
       "model_id": "3c5f0950452b46f992260520ef7e6272",
       "version_major": 2,
       "version_minor": 0
      },
      "text/plain": [
       "  0%|          | 0/980 [00:00<?, ?it/s]"
      ]
     },
     "metadata": {},
     "output_type": "display_data"
    },
    {
     "data": {
      "application/vnd.jupyter.widget-view+json": {
       "model_id": "5e2829cc0c994421b2a4e6a0bdbc04b4",
       "version_major": 2,
       "version_minor": 0
      },
      "text/plain": [
       "  0%|          | 0/245 [00:00<?, ?it/s]"
      ]
     },
     "metadata": {},
     "output_type": "display_data"
    },
    {
     "name": "stdout",
     "output_type": "stream",
     "text": [
      "EPOCHS : 13 train_loss : 0.6943845207745931 valid_loss : 0.7219978681632451 Learning Rate: [0.001]\n"
     ]
    },
    {
     "data": {
      "application/vnd.jupyter.widget-view+json": {
       "model_id": "387b1330ba184a2a9ed413f11bc7a646",
       "version_major": 2,
       "version_minor": 0
      },
      "text/plain": [
       "  0%|          | 0/980 [00:00<?, ?it/s]"
      ]
     },
     "metadata": {},
     "output_type": "display_data"
    },
    {
     "data": {
      "application/vnd.jupyter.widget-view+json": {
       "model_id": "2ecfa1d162114f4a973cce7330978c0f",
       "version_major": 2,
       "version_minor": 0
      },
      "text/plain": [
       "  0%|          | 0/245 [00:00<?, ?it/s]"
      ]
     },
     "metadata": {},
     "output_type": "display_data"
    },
    {
     "name": "stdout",
     "output_type": "stream",
     "text": [
      "CHECKPOINT_SAVED\n",
      "EPOCHS : 14 train_loss : 0.7171708559579387 valid_loss : 0.7089977455382445 Learning Rate: [0.001]\n"
     ]
    },
    {
     "data": {
      "application/vnd.jupyter.widget-view+json": {
       "model_id": "442775df62234946a439b1325d4622a4",
       "version_major": 2,
       "version_minor": 0
      },
      "text/plain": [
       "  0%|          | 0/980 [00:00<?, ?it/s]"
      ]
     },
     "metadata": {},
     "output_type": "display_data"
    },
    {
     "data": {
      "application/vnd.jupyter.widget-view+json": {
       "model_id": "ee09d7c303e14926b64df17ea89f4de1",
       "version_major": 2,
       "version_minor": 0
      },
      "text/plain": [
       "  0%|          | 0/245 [00:00<?, ?it/s]"
      ]
     },
     "metadata": {},
     "output_type": "display_data"
    },
    {
     "name": "stdout",
     "output_type": "stream",
     "text": [
      "EPOCHS : 15 train_loss : 0.6876286165522677 valid_loss : 0.711894351365615 Learning Rate: [0.001]\n"
     ]
    },
    {
     "data": {
      "application/vnd.jupyter.widget-view+json": {
       "model_id": "8baf2d98f5244e55921b9eb1d8d248e8",
       "version_major": 2,
       "version_minor": 0
      },
      "text/plain": [
       "  0%|          | 0/980 [00:00<?, ?it/s]"
      ]
     },
     "metadata": {},
     "output_type": "display_data"
    },
    {
     "data": {
      "application/vnd.jupyter.widget-view+json": {
       "model_id": "b3cbd2b3a7694ec39fe93664fd5287ee",
       "version_major": 2,
       "version_minor": 0
      },
      "text/plain": [
       "  0%|          | 0/245 [00:00<?, ?it/s]"
      ]
     },
     "metadata": {},
     "output_type": "display_data"
    },
    {
     "name": "stdout",
     "output_type": "stream",
     "text": [
      "EPOCHS : 16 train_loss : 0.6716661708695548 valid_loss : 0.7858061729645243 Learning Rate: [0.001]\n"
     ]
    },
    {
     "data": {
      "application/vnd.jupyter.widget-view+json": {
       "model_id": "14a457239b4643748698f69585e355bf",
       "version_major": 2,
       "version_minor": 0
      },
      "text/plain": [
       "  0%|          | 0/980 [00:00<?, ?it/s]"
      ]
     },
     "metadata": {},
     "output_type": "display_data"
    },
    {
     "data": {
      "application/vnd.jupyter.widget-view+json": {
       "model_id": "39021a4906af49dba26e986708019509",
       "version_major": 2,
       "version_minor": 0
      },
      "text/plain": [
       "  0%|          | 0/245 [00:00<?, ?it/s]"
      ]
     },
     "metadata": {},
     "output_type": "display_data"
    },
    {
     "name": "stdout",
     "output_type": "stream",
     "text": [
      "EPOCHS : 17 train_loss : 0.6468552487845324 valid_loss : 0.7406975973625572 Learning Rate: [0.001]\n"
     ]
    },
    {
     "data": {
      "application/vnd.jupyter.widget-view+json": {
       "model_id": "8c13c963a61d45eb8821a449be03d0ba",
       "version_major": 2,
       "version_minor": 0
      },
      "text/plain": [
       "  0%|          | 0/980 [00:00<?, ?it/s]"
      ]
     },
     "metadata": {},
     "output_type": "display_data"
    },
    {
     "data": {
      "application/vnd.jupyter.widget-view+json": {
       "model_id": "a2000999068f4488b091482f25898ade",
       "version_major": 2,
       "version_minor": 0
      },
      "text/plain": [
       "  0%|          | 0/245 [00:00<?, ?it/s]"
      ]
     },
     "metadata": {},
     "output_type": "display_data"
    },
    {
     "name": "stdout",
     "output_type": "stream",
     "text": [
      "CHECKPOINT_SAVED\n",
      "EPOCHS : 18 train_loss : 0.6255250907598101 valid_loss : 0.6719435021585348 Learning Rate: [0.001]\n"
     ]
    },
    {
     "data": {
      "application/vnd.jupyter.widget-view+json": {
       "model_id": "b807dd3093314a29ad979e432b088caa",
       "version_major": 2,
       "version_minor": 0
      },
      "text/plain": [
       "  0%|          | 0/980 [00:00<?, ?it/s]"
      ]
     },
     "metadata": {},
     "output_type": "display_data"
    },
    {
     "data": {
      "application/vnd.jupyter.widget-view+json": {
       "model_id": "6287bda54bb24088be0985713274c8df",
       "version_major": 2,
       "version_minor": 0
      },
      "text/plain": [
       "  0%|          | 0/245 [00:00<?, ?it/s]"
      ]
     },
     "metadata": {},
     "output_type": "display_data"
    },
    {
     "name": "stdout",
     "output_type": "stream",
     "text": [
      "EPOCHS : 19 train_loss : 0.629358081223101 valid_loss : 0.6784113132223791 Learning Rate: [0.001]\n"
     ]
    },
    {
     "data": {
      "application/vnd.jupyter.widget-view+json": {
       "model_id": "d1236574a2574efcb772011d15d87be4",
       "version_major": 2,
       "version_minor": 0
      },
      "text/plain": [
       "  0%|          | 0/980 [00:00<?, ?it/s]"
      ]
     },
     "metadata": {},
     "output_type": "display_data"
    },
    {
     "data": {
      "application/vnd.jupyter.widget-view+json": {
       "model_id": "30b4edce72964223b69150c98a4b5cc3",
       "version_major": 2,
       "version_minor": 0
      },
      "text/plain": [
       "  0%|          | 0/245 [00:00<?, ?it/s]"
      ]
     },
     "metadata": {},
     "output_type": "display_data"
    },
    {
     "name": "stdout",
     "output_type": "stream",
     "text": [
      "EPOCHS : 20 train_loss : 0.7144472199815268 valid_loss : 0.7733873259048073 Learning Rate: [0.001]\n"
     ]
    },
    {
     "data": {
      "application/vnd.jupyter.widget-view+json": {
       "model_id": "1320297630f04fde91f8609ee6443a56",
       "version_major": 2,
       "version_minor": 0
      },
      "text/plain": [
       "  0%|          | 0/980 [00:00<?, ?it/s]"
      ]
     },
     "metadata": {},
     "output_type": "display_data"
    },
    {
     "data": {
      "application/vnd.jupyter.widget-view+json": {
       "model_id": "0cdffdeb7cd24cfd8084f1dccff04f19",
       "version_major": 2,
       "version_minor": 0
      },
      "text/plain": [
       "  0%|          | 0/245 [00:00<?, ?it/s]"
      ]
     },
     "metadata": {},
     "output_type": "display_data"
    },
    {
     "name": "stdout",
     "output_type": "stream",
     "text": [
      "EPOCHS : 21 train_loss : 0.656857428882195 valid_loss : 0.7175572960960622 Learning Rate: [0.001]\n"
     ]
    },
    {
     "data": {
      "application/vnd.jupyter.widget-view+json": {
       "model_id": "e6ed26204e9948b190825342b5f00bb1",
       "version_major": 2,
       "version_minor": 0
      },
      "text/plain": [
       "  0%|          | 0/980 [00:00<?, ?it/s]"
      ]
     },
     "metadata": {},
     "output_type": "display_data"
    },
    {
     "data": {
      "application/vnd.jupyter.widget-view+json": {
       "model_id": "94d24f3042484ffd88ec17213576635d",
       "version_major": 2,
       "version_minor": 0
      },
      "text/plain": [
       "  0%|          | 0/245 [00:00<?, ?it/s]"
      ]
     },
     "metadata": {},
     "output_type": "display_data"
    },
    {
     "name": "stdout",
     "output_type": "stream",
     "text": [
      "CHECKPOINT_SAVED\n",
      "EPOCHS : 22 train_loss : 0.6121029907571418 valid_loss : 0.6708027728966304 Learning Rate: [0.001]\n"
     ]
    },
    {
     "data": {
      "application/vnd.jupyter.widget-view+json": {
       "model_id": "3e7238791b664187906ec45d359354e1",
       "version_major": 2,
       "version_minor": 0
      },
      "text/plain": [
       "  0%|          | 0/980 [00:00<?, ?it/s]"
      ]
     },
     "metadata": {},
     "output_type": "display_data"
    },
    {
     "data": {
      "application/vnd.jupyter.widget-view+json": {
       "model_id": "0c46f4d761f146c4ba44832855df3a9e",
       "version_major": 2,
       "version_minor": 0
      },
      "text/plain": [
       "  0%|          | 0/245 [00:00<?, ?it/s]"
      ]
     },
     "metadata": {},
     "output_type": "display_data"
    },
    {
     "name": "stdout",
     "output_type": "stream",
     "text": [
      "EPOCHS : 23 train_loss : 0.6022839624966894 valid_loss : 0.7042680633311369 Learning Rate: [0.001]\n"
     ]
    },
    {
     "data": {
      "application/vnd.jupyter.widget-view+json": {
       "model_id": "f6536fe7cece4720a48a762afcb813c0",
       "version_major": 2,
       "version_minor": 0
      },
      "text/plain": [
       "  0%|          | 0/980 [00:00<?, ?it/s]"
      ]
     },
     "metadata": {},
     "output_type": "display_data"
    },
    {
     "data": {
      "application/vnd.jupyter.widget-view+json": {
       "model_id": "8391d2ab6ceb4d2fa1b09fd6f39d51b7",
       "version_major": 2,
       "version_minor": 0
      },
      "text/plain": [
       "  0%|          | 0/245 [00:00<?, ?it/s]"
      ]
     },
     "metadata": {},
     "output_type": "display_data"
    },
    {
     "name": "stdout",
     "output_type": "stream",
     "text": [
      "CHECKPOINT_SAVED\n",
      "EPOCHS : 24 train_loss : 0.5809345459603533 valid_loss : 0.6545420327965095 Learning Rate: [0.001]\n"
     ]
    },
    {
     "data": {
      "application/vnd.jupyter.widget-view+json": {
       "model_id": "ff1deac55c374718baef7c4f8964ba80",
       "version_major": 2,
       "version_minor": 0
      },
      "text/plain": [
       "  0%|          | 0/980 [00:00<?, ?it/s]"
      ]
     },
     "metadata": {},
     "output_type": "display_data"
    },
    {
     "data": {
      "application/vnd.jupyter.widget-view+json": {
       "model_id": "3d052aca63bd47b18694bd3fe3e5c89f",
       "version_major": 2,
       "version_minor": 0
      },
      "text/plain": [
       "  0%|          | 0/245 [00:00<?, ?it/s]"
      ]
     },
     "metadata": {},
     "output_type": "display_data"
    },
    {
     "name": "stdout",
     "output_type": "stream",
     "text": [
      "EPOCHS : 25 train_loss : 0.580055591000282 valid_loss : 0.6603620356138872 Learning Rate: [0.001]\n"
     ]
    },
    {
     "data": {
      "application/vnd.jupyter.widget-view+json": {
       "model_id": "6bff1edc49364debbc00f30db406bbe7",
       "version_major": 2,
       "version_minor": 0
      },
      "text/plain": [
       "  0%|          | 0/980 [00:00<?, ?it/s]"
      ]
     },
     "metadata": {},
     "output_type": "display_data"
    },
    {
     "data": {
      "application/vnd.jupyter.widget-view+json": {
       "model_id": "0f2715700ade457b82fed8d2d46b10da",
       "version_major": 2,
       "version_minor": 0
      },
      "text/plain": [
       "  0%|          | 0/245 [00:00<?, ?it/s]"
      ]
     },
     "metadata": {},
     "output_type": "display_data"
    },
    {
     "name": "stdout",
     "output_type": "stream",
     "text": [
      "CHECKPOINT_SAVED\n",
      "EPOCHS : 26 train_loss : 0.5669519168001657 valid_loss : 0.6142915431942259 Learning Rate: [0.001]\n"
     ]
    },
    {
     "data": {
      "application/vnd.jupyter.widget-view+json": {
       "model_id": "d919625fc949416eaa646af4a703adbd",
       "version_major": 2,
       "version_minor": 0
      },
      "text/plain": [
       "  0%|          | 0/980 [00:00<?, ?it/s]"
      ]
     },
     "metadata": {},
     "output_type": "display_data"
    },
    {
     "data": {
      "application/vnd.jupyter.widget-view+json": {
       "model_id": "810f97a962994aa09ebcd736ca73012f",
       "version_major": 2,
       "version_minor": 0
      },
      "text/plain": [
       "  0%|          | 0/245 [00:00<?, ?it/s]"
      ]
     },
     "metadata": {},
     "output_type": "display_data"
    },
    {
     "name": "stdout",
     "output_type": "stream",
     "text": [
      "EPOCHS : 27 train_loss : 0.5568117720512104 valid_loss : 0.6193323905370673 Learning Rate: [0.001]\n"
     ]
    },
    {
     "data": {
      "application/vnd.jupyter.widget-view+json": {
       "model_id": "67152e30e81f4fb18c37ecf2cf99a6b5",
       "version_major": 2,
       "version_minor": 0
      },
      "text/plain": [
       "  0%|          | 0/980 [00:00<?, ?it/s]"
      ]
     },
     "metadata": {},
     "output_type": "display_data"
    },
    {
     "data": {
      "application/vnd.jupyter.widget-view+json": {
       "model_id": "a829f0f32fb14800a1889b0495c573ce",
       "version_major": 2,
       "version_minor": 0
      },
      "text/plain": [
       "  0%|          | 0/245 [00:00<?, ?it/s]"
      ]
     },
     "metadata": {},
     "output_type": "display_data"
    },
    {
     "name": "stdout",
     "output_type": "stream",
     "text": [
      "CHECKPOINT_SAVED\n",
      "EPOCHS : 28 train_loss : 0.5172698174964409 valid_loss : 0.6131201791520021 Learning Rate: [0.001]\n"
     ]
    },
    {
     "data": {
      "application/vnd.jupyter.widget-view+json": {
       "model_id": "8be52a64d2734e7aa232462f3b933b90",
       "version_major": 2,
       "version_minor": 0
      },
      "text/plain": [
       "  0%|          | 0/980 [00:00<?, ?it/s]"
      ]
     },
     "metadata": {},
     "output_type": "display_data"
    },
    {
     "data": {
      "application/vnd.jupyter.widget-view+json": {
       "model_id": "84bc813e3de247dc8b04ca97a46e3b3f",
       "version_major": 2,
       "version_minor": 0
      },
      "text/plain": [
       "  0%|          | 0/245 [00:00<?, ?it/s]"
      ]
     },
     "metadata": {},
     "output_type": "display_data"
    },
    {
     "name": "stdout",
     "output_type": "stream",
     "text": [
      "CHECKPOINT_SAVED\n",
      "EPOCHS : 29 train_loss : 0.5138887950732391 valid_loss : 0.5966005041283005 Learning Rate: [0.001]\n"
     ]
    },
    {
     "data": {
      "application/vnd.jupyter.widget-view+json": {
       "model_id": "27e74802a80445139f7a280372f1c2f0",
       "version_major": 2,
       "version_minor": 0
      },
      "text/plain": [
       "  0%|          | 0/980 [00:00<?, ?it/s]"
      ]
     },
     "metadata": {},
     "output_type": "display_data"
    },
    {
     "data": {
      "application/vnd.jupyter.widget-view+json": {
       "model_id": "86b9f01fae194af49f9529ef401af4a2",
       "version_major": 2,
       "version_minor": 0
      },
      "text/plain": [
       "  0%|          | 0/245 [00:00<?, ?it/s]"
      ]
     },
     "metadata": {},
     "output_type": "display_data"
    },
    {
     "name": "stdout",
     "output_type": "stream",
     "text": [
      "EPOCHS : 30 train_loss : 0.4987777345946857 valid_loss : 0.6083383084559927 Learning Rate: [0.001]\n"
     ]
    }
   ],
   "source": [
    "# Loads the best validation loss from a previously saved checkpoint.\n",
    "# (This allows the training process to resume from the best state observed so far)\n",
    "best_valid_loss = load_checkpoint()\n",
    "\n",
    "# Lists to store train_loss and valid_loss values\n",
    "train_losses = []\n",
    "valid_losses = []\n",
    "\n",
    "# Loops over the specified number of epochs.\n",
    "for i in range(EPOCHS):\n",
    "\n",
    "    torch.cuda.empty_cache()\n",
    "\n",
    "    # Trains and evaluates the model\n",
    "    train_loss = train_fn(model, trainloader, optimizer, criterion)\n",
    "    valid_loss = eval_fn(model, validloader, criterion)\n",
    "\n",
    "    # LR Scheduler updates \n",
    "    scheduler.step(valid_loss)\n",
    "\n",
    "    # If the validation loss has improved, it saves the current state of the model and updates the best valid loss\n",
    "    if valid_loss < best_valid_loss:\n",
    "        save_checkpoint(valid_loss)\n",
    "        best_valid_loss = valid_loss\n",
    "\n",
    "    # Save train_loss and valid_loss values\n",
    "    train_losses.append(train_loss)\n",
    "    valid_losses.append(valid_loss)\n",
    "\n",
    "    # Prints the stats relative to the current epoch.\n",
    "    print(f\"EPOCHS : {i+1} train_loss : {train_loss} valid_loss : {valid_loss} Learning Rate: {scheduler.get_last_lr()}\")"
   ]
  },
  {
   "cell_type": "code",
   "execution_count": 27,
   "metadata": {},
   "outputs": [
    {
     "data": {
      "image/png": "[encoded data removed]",
      "text/plain": [
       "<Figure size 640x480 with 1 Axes>"
      ]
     },
     "metadata": {},
     "output_type": "display_data"
    }
   ],
   "source": [
    "# Plot train_loss and valid_loss\n",
    "plt.plot(train_losses, label='Train Loss')\n",
    "plt.plot(valid_losses, label='Valid Loss')\n",
    "plt.xlabel('Epochs')\n",
    "plt.ylabel('Loss')\n",
    "plt.title('Training and Validation Loss')\n",
    "plt.legend()\n",
    "plt.show()"
   ]
  },
  {
   "cell_type": "code",
   "execution_count": 28,
   "metadata": {},
   "outputs": [],
   "source": [
    "#QUESTA E' LA FUNZIONE PER GENERARE I VETTORI DI ENCODING\n",
    "def get_encoding_csv(model, anc_img_names, dirFolder):\n",
    "    \"\"\"\n",
    "    Generates encoding vectors for a set of input images using a provided model and returns a DataFrame\n",
    "    with image names and their corresponding encodings.\n",
    "\n",
    "    Parameters\n",
    "    ----------\n",
    "        model (torch.nn.Module): the neural network model used to generate embeddings.\n",
    "        anc_img_names (list or numpy.ndarray): filenames (or paths) of the anchor images.\n",
    "        dirFolder (str): the directory path where the anchor images are located.\n",
    "\n",
    "    Returns\n",
    "    -------\n",
    "        df_enc (pandas.DataFrame): a DataFrame containing the anchor image names and their corresponding encodings.\n",
    "    \"\"\"\n",
    "    # Convert the list of anchor image names to a NumPy array\n",
    "    anc_img_names_arr = np.array(anc_img_names)\n",
    "\n",
    "    encodings = []\n",
    "\n",
    "    # Set the model to evaluation mode\n",
    "    model.eval()\n",
    "\n",
    "    with torch.no_grad():\n",
    "        for i in tqdm(anc_img_names_arr):\n",
    "            # Read the image from the specified directory\n",
    "            A = io.imread(dirFolder + i)\n",
    "            # Add a batch dimension to the image\n",
    "            A = np.expand_dims(A, 0)\n",
    "            # Convert the image to a PyTorch tensor and normalize to the range [0, 1]\n",
    "            A = torch.from_numpy(A.astype(np.int32)) / 255.0\n",
    "            #A = torch.from_numpy(A).permute(2, 0, 1) / 255.0 #FOR RGB IMAGES\n",
    "            \n",
    "            A = A.to(DEVICE)\n",
    "            # Pass the preprocessed image through the model to obtain its embedding\n",
    "            A_enc = model(A.unsqueeze(0))\n",
    "             # Append the embedding to the list (move to CPU and convert to NumPy array)\n",
    "            encodings.append(A_enc.squeeze().cpu().detach().numpy())\n",
    "\n",
    "        # Convert the list of embeddings to a NumPy array\n",
    "        encodings = np.array(encodings)\n",
    "        # Create a DataFrame with the embeddings\n",
    "        encodings = pd.DataFrame(encodings)\n",
    "        # Concatenate the anchor image names with their corresponding embeddings\n",
    "        df_enc = pd.concat([anc_img_names, encodings], axis = 1)\n",
    "\n",
    "        return df_enc"
   ]
  },
  {
   "cell_type": "code",
   "execution_count": 30,
   "metadata": {},
   "outputs": [
    {
     "data": {
      "application/vnd.jupyter.widget-view+json": {
       "model_id": "7cc9d4b27c0d426ab44c7d154c03fc86",
       "version_major": 2,
       "version_minor": 0
      },
      "text/plain": [
       "  0%|          | 0/19600 [00:00<?, ?it/s]"
      ]
     },
     "metadata": {},
     "output_type": "display_data"
    },
    {
     "data": {
      "text/html": [
       "<div>\n",
       "<style scoped>\n",
       "    .dataframe tbody tr th:only-of-type {\n",
       "        vertical-align: middle;\n",
       "    }\n",
       "\n",
       "    .dataframe tbody tr th {\n",
       "        vertical-align: top;\n",
       "    }\n",
       "\n",
       "    .dataframe thead th {\n",
       "        text-align: right;\n",
       "    }\n",
       "</style>\n",
       "<table border=\"1\" class=\"dataframe\">\n",
       "  <thead>\n",
       "    <tr style=\"text-align: right;\">\n",
       "      <th></th>\n",
       "      <th>anchor</th>\n",
       "      <th>0</th>\n",
       "      <th>1</th>\n",
       "      <th>2</th>\n",
       "      <th>3</th>\n",
       "      <th>4</th>\n",
       "      <th>5</th>\n",
       "      <th>6</th>\n",
       "      <th>7</th>\n",
       "      <th>8</th>\n",
       "      <th>...</th>\n",
       "      <th>502</th>\n",
       "      <th>503</th>\n",
       "      <th>504</th>\n",
       "      <th>505</th>\n",
       "      <th>506</th>\n",
       "      <th>507</th>\n",
       "      <th>508</th>\n",
       "      <th>509</th>\n",
       "      <th>510</th>\n",
       "      <th>511</th>\n",
       "    </tr>\n",
       "  </thead>\n",
       "  <tbody>\n",
       "    <tr>\n",
       "      <th>0</th>\n",
       "      <td>fourier\\fourier\\coco+coco+coco2017+train2017+r...</td>\n",
       "      <td>-0.597154</td>\n",
       "      <td>-0.168612</td>\n",
       "      <td>-1.183906</td>\n",
       "      <td>-0.051745</td>\n",
       "      <td>0.261435</td>\n",
       "      <td>-0.729093</td>\n",
       "      <td>-0.444731</td>\n",
       "      <td>0.232492</td>\n",
       "      <td>0.465439</td>\n",
       "      <td>...</td>\n",
       "      <td>0.697613</td>\n",
       "      <td>-6.392803</td>\n",
       "      <td>0.662623</td>\n",
       "      <td>-2.987497</td>\n",
       "      <td>-0.131759</td>\n",
       "      <td>-1.221228</td>\n",
       "      <td>-0.350030</td>\n",
       "      <td>0.477069</td>\n",
       "      <td>-0.221559</td>\n",
       "      <td>-0.099267</td>\n",
       "    </tr>\n",
       "    <tr>\n",
       "      <th>1</th>\n",
       "      <td>fourier\\fourier\\coco+coco+coco2017+test2017+re...</td>\n",
       "      <td>-0.596127</td>\n",
       "      <td>-0.159986</td>\n",
       "      <td>-1.188494</td>\n",
       "      <td>-0.052813</td>\n",
       "      <td>0.259504</td>\n",
       "      <td>-0.734887</td>\n",
       "      <td>-0.448898</td>\n",
       "      <td>0.233154</td>\n",
       "      <td>0.462471</td>\n",
       "      <td>...</td>\n",
       "      <td>0.700296</td>\n",
       "      <td>-6.454501</td>\n",
       "      <td>0.667453</td>\n",
       "      <td>-2.999353</td>\n",
       "      <td>-0.126168</td>\n",
       "      <td>-1.229809</td>\n",
       "      <td>-0.351312</td>\n",
       "      <td>0.477467</td>\n",
       "      <td>-0.223356</td>\n",
       "      <td>-0.097941</td>\n",
       "    </tr>\n",
       "    <tr>\n",
       "      <th>2</th>\n",
       "      <td>fourier\\fourier\\coco+coco+coco2017+train2017+r...</td>\n",
       "      <td>-0.597491</td>\n",
       "      <td>-0.163454</td>\n",
       "      <td>-1.188486</td>\n",
       "      <td>-0.052378</td>\n",
       "      <td>0.260007</td>\n",
       "      <td>-0.734175</td>\n",
       "      <td>-0.448385</td>\n",
       "      <td>0.233058</td>\n",
       "      <td>0.464270</td>\n",
       "      <td>...</td>\n",
       "      <td>0.700345</td>\n",
       "      <td>-6.446735</td>\n",
       "      <td>0.666926</td>\n",
       "      <td>-2.998958</td>\n",
       "      <td>-0.128706</td>\n",
       "      <td>-1.228530</td>\n",
       "      <td>-0.350826</td>\n",
       "      <td>0.477976</td>\n",
       "      <td>-0.222685</td>\n",
       "      <td>-0.098349</td>\n",
       "    </tr>\n",
       "    <tr>\n",
       "      <th>3</th>\n",
       "      <td>fourier\\fourier\\coco+coco+coco2017+train2017+r...</td>\n",
       "      <td>-0.598142</td>\n",
       "      <td>-0.162025</td>\n",
       "      <td>-1.191338</td>\n",
       "      <td>-0.052640</td>\n",
       "      <td>0.260545</td>\n",
       "      <td>-0.735835</td>\n",
       "      <td>-0.449103</td>\n",
       "      <td>0.233651</td>\n",
       "      <td>0.464277</td>\n",
       "      <td>...</td>\n",
       "      <td>0.701651</td>\n",
       "      <td>-6.464086</td>\n",
       "      <td>0.668626</td>\n",
       "      <td>-3.005973</td>\n",
       "      <td>-0.126940</td>\n",
       "      <td>-1.231555</td>\n",
       "      <td>-0.352124</td>\n",
       "      <td>0.478630</td>\n",
       "      <td>-0.223686</td>\n",
       "      <td>-0.098514</td>\n",
       "    </tr>\n",
       "    <tr>\n",
       "      <th>4</th>\n",
       "      <td>fourier\\fourier\\coco+coco+coco2017+test2017+re...</td>\n",
       "      <td>-0.598114</td>\n",
       "      <td>-0.165505</td>\n",
       "      <td>-1.189091</td>\n",
       "      <td>-0.051764</td>\n",
       "      <td>0.260740</td>\n",
       "      <td>-0.733169</td>\n",
       "      <td>-0.447156</td>\n",
       "      <td>0.232865</td>\n",
       "      <td>0.465251</td>\n",
       "      <td>...</td>\n",
       "      <td>0.700165</td>\n",
       "      <td>-6.439265</td>\n",
       "      <td>0.666267</td>\n",
       "      <td>-2.999958</td>\n",
       "      <td>-0.128944</td>\n",
       "      <td>-1.227615</td>\n",
       "      <td>-0.350994</td>\n",
       "      <td>0.477861</td>\n",
       "      <td>-0.222722</td>\n",
       "      <td>-0.098980</td>\n",
       "    </tr>\n",
       "  </tbody>\n",
       "</table>\n",
       "<p>5 rows × 513 columns</p>\n",
       "</div>"
      ],
      "text/plain": [
       "                                              anchor         0         1  \\\n",
       "0  fourier\\fourier\\coco+coco+coco2017+train2017+r... -0.597154 -0.168612   \n",
       "1  fourier\\fourier\\coco+coco+coco2017+test2017+re... -0.596127 -0.159986   \n",
       "2  fourier\\fourier\\coco+coco+coco2017+train2017+r... -0.597491 -0.163454   \n",
       "3  fourier\\fourier\\coco+coco+coco2017+train2017+r... -0.598142 -0.162025   \n",
       "4  fourier\\fourier\\coco+coco+coco2017+test2017+re... -0.598114 -0.165505   \n",
       "\n",
       "          2         3         4         5         6         7         8  ...  \\\n",
       "0 -1.183906 -0.051745  0.261435 -0.729093 -0.444731  0.232492  0.465439  ...   \n",
       "1 -1.188494 -0.052813  0.259504 -0.734887 -0.448898  0.233154  0.462471  ...   \n",
       "2 -1.188486 -0.052378  0.260007 -0.734175 -0.448385  0.233058  0.464270  ...   \n",
       "3 -1.191338 -0.052640  0.260545 -0.735835 -0.449103  0.233651  0.464277  ...   \n",
       "4 -1.189091 -0.051764  0.260740 -0.733169 -0.447156  0.232865  0.465251  ...   \n",
       "\n",
       "        502       503       504       505       506       507       508  \\\n",
       "0  0.697613 -6.392803  0.662623 -2.987497 -0.131759 -1.221228 -0.350030   \n",
       "1  0.700296 -6.454501  0.667453 -2.999353 -0.126168 -1.229809 -0.351312   \n",
       "2  0.700345 -6.446735  0.666926 -2.998958 -0.128706 -1.228530 -0.350826   \n",
       "3  0.701651 -6.464086  0.668626 -3.005973 -0.126940 -1.231555 -0.352124   \n",
       "4  0.700165 -6.439265  0.666267 -2.999958 -0.128944 -1.227615 -0.350994   \n",
       "\n",
       "        509       510       511  \n",
       "0  0.477069 -0.221559 -0.099267  \n",
       "1  0.477467 -0.223356 -0.097941  \n",
       "2  0.477976 -0.222685 -0.098349  \n",
       "3  0.478630 -0.223686 -0.098514  \n",
       "4  0.477861 -0.222722 -0.098980  \n",
       "\n",
       "[5 rows x 513 columns]"
      ]
     },
     "execution_count": 30,
     "metadata": {},
     "output_type": "execute_result"
    }
   ],
   "source": [
    "# Load the best model found during training\n",
    "model.load_state_dict(torch.load('best_model.pt'))\n",
    "\n",
    "# Call 'get_encoding_csv' on the dataset to generate the DataFrame containing anchors and their encoding vector\n",
    "df_enc = get_encoding_csv(model, df['anchor'], DATA_DIR)\n",
    "\n",
    "# Save the encodings database to avoid redoing this process\n",
    "# (This process has to be redone only when finding a better model)\n",
    "df_enc.to_csv(DATA_DIR + 'database.csv', index = False)\n",
    "\n",
    "df_enc = pd.read_csv(DATA_DIR + 'database.csv')\n",
    "df_enc.head()"
   ]
  },
  {
   "cell_type": "code",
   "execution_count": 31,
   "metadata": {},
   "outputs": [],
   "source": [
    "def euclidean_dist(img_enc, anc_enc_arr):\n",
    "    \"\"\"\n",
    "    Computes the Euclidean distance between a given image encoding and an array of anchor encodings.\n",
    "\n",
    "    Parameters\n",
    "    ----------\n",
    "        img_enc (numpy.ndarray): a 1D array representing the encoding of the image.\n",
    "        anc_enc_arr (numpy.ndarray): a 2D array representing the anchor images and their encodings.\n",
    "\n",
    "    Returns\n",
    "    -------\n",
    "        dist (numpy.ndarray): a 1D array containing the Euclidean distances between the image encoding and each of the anchors' one.\n",
    "    \"\"\"\n",
    "    #dist = np.sqrt(np.dot(img_enc-anc_enc_arr, (img_enc- anc_enc_arr).T))\n",
    "    dist = np.dot(img_enc-anc_enc_arr, (img_enc- anc_enc_arr).T)\n",
    "    #dist = np.sqrt(dist)\n",
    "    \n",
    "    return dist"
   ]
  },
  {
   "cell_type": "code",
   "execution_count": 32,
   "metadata": {},
   "outputs": [
    {
     "name": "stdout",
     "output_type": "stream",
     "text": [
      "0       fourier\\fourier\\coco+coco+coco2017+test2017+re...\n",
      "1       fourier\\fourier\\coco+coco+coco2017+train2017+r...\n",
      "2       fourier\\fourier\\coco+coco+coco2017+train2017+r...\n",
      "3       fourier\\fourier\\coco+coco+coco2017+test2017+re...\n",
      "4       fourier\\fourier\\coco+coco+coco2017+train2017+r...\n",
      "                              ...                        \n",
      "2446      fourier\\fourier\\lsun+horse+horse+real049894.jpg\n",
      "2447      fourier\\fourier\\lsun+horse+horse+real013937.jpg\n",
      "2448    fourier\\fourier\\lsun+church+church+train+real0...\n",
      "2449          fourier\\fourier\\lsun+cat+cat+real042061.jpg\n",
      "2450          fourier\\fourier\\lsun+cat+cat+real021049.jpg\n",
      "Name: real, Length: 2451, dtype: object\n",
      "4902\n"
     ]
    },
    {
     "data": {
      "text/html": [
       "<div>\n",
       "<style scoped>\n",
       "    .dataframe tbody tr th:only-of-type {\n",
       "        vertical-align: middle;\n",
       "    }\n",
       "\n",
       "    .dataframe tbody tr th {\n",
       "        vertical-align: top;\n",
       "    }\n",
       "\n",
       "    .dataframe thead th {\n",
       "        text-align: right;\n",
       "    }\n",
       "</style>\n",
       "<table border=\"1\" class=\"dataframe\">\n",
       "  <thead>\n",
       "    <tr style=\"text-align: right;\">\n",
       "      <th></th>\n",
       "      <th>real</th>\n",
       "      <th>fake</th>\n",
       "    </tr>\n",
       "  </thead>\n",
       "  <tbody>\n",
       "    <tr>\n",
       "      <th>0</th>\n",
       "      <td>fourier\\fourier\\coco+coco+coco2017+test2017+re...</td>\n",
       "      <td>fourier\\fourier\\big_gan+big+biggan-data+472+fa...</td>\n",
       "    </tr>\n",
       "    <tr>\n",
       "      <th>1</th>\n",
       "      <td>fourier\\fourier\\coco+coco+coco2017+train2017+r...</td>\n",
       "      <td>fourier\\fourier\\big_gan+big+biggan-data+472+fa...</td>\n",
       "    </tr>\n",
       "    <tr>\n",
       "      <th>2</th>\n",
       "      <td>fourier\\fourier\\coco+coco+coco2017+train2017+r...</td>\n",
       "      <td>fourier\\fourier\\big_gan+big+biggan-data+856+fa...</td>\n",
       "    </tr>\n",
       "    <tr>\n",
       "      <th>3</th>\n",
       "      <td>fourier\\fourier\\coco+coco+coco2017+test2017+re...</td>\n",
       "      <td>fourier\\fourier\\big_gan+big+biggan-data+924+fa...</td>\n",
       "    </tr>\n",
       "    <tr>\n",
       "      <th>4</th>\n",
       "      <td>fourier\\fourier\\coco+coco+coco2017+train2017+r...</td>\n",
       "      <td>fourier\\fourier\\big_gan+big+biggan-data+383+fa...</td>\n",
       "    </tr>\n",
       "  </tbody>\n",
       "</table>\n",
       "</div>"
      ],
      "text/plain": [
       "                                                real  \\\n",
       "0  fourier\\fourier\\coco+coco+coco2017+test2017+re...   \n",
       "1  fourier\\fourier\\coco+coco+coco2017+train2017+r...   \n",
       "2  fourier\\fourier\\coco+coco+coco2017+train2017+r...   \n",
       "3  fourier\\fourier\\coco+coco+coco2017+test2017+re...   \n",
       "4  fourier\\fourier\\coco+coco+coco2017+train2017+r...   \n",
       "\n",
       "                                                fake  \n",
       "0  fourier\\fourier\\big_gan+big+biggan-data+472+fa...  \n",
       "1  fourier\\fourier\\big_gan+big+biggan-data+472+fa...  \n",
       "2  fourier\\fourier\\big_gan+big+biggan-data+856+fa...  \n",
       "3  fourier\\fourier\\big_gan+big+biggan-data+924+fa...  \n",
       "4  fourier\\fourier\\big_gan+big+biggan-data+383+fa...  "
      ]
     },
     "execution_count": 32,
     "metadata": {},
     "output_type": "execute_result"
    }
   ],
   "source": [
    "test_df = pd.read_csv(DATA_DIR + 'testSet.csv')\n",
    "print(test_df['real'])\n",
    "print(test_df.size)\n",
    "test_df.head()"
   ]
  },
  {
   "cell_type": "code",
   "execution_count": 33,
   "metadata": {},
   "outputs": [],
   "source": [
    "def getImageEmbeddings(img, model):\n",
    "    \"\"\"\n",
    "    Generates embeddings for a given image using the provided model.\n",
    "\n",
    "    Parameters\n",
    "    ----------\n",
    "        img (numpy.ndarray): the input image as a NumPy array.\n",
    "        model (torch.nn.Module): the PyTorch model used to generate the image embeddings.\n",
    "\n",
    "    Returns\n",
    "    -------\n",
    "        img_enc (numpy.ndarray): the embeddings of the input image.\n",
    "    \"\"\"\n",
    "    # Add a new dimension to the image array to match the expected input shape of the model\n",
    "    img = np.expand_dims(img, 0)\n",
    "    \n",
    "    # Convert the NumPy array to a PyTorch tensor and normalize pixel values to the range [0, 1]\n",
    "    img = torch.from_numpy(img) / 255.0\n",
    "    \n",
    "    # Set the model to evaluation mode\n",
    "    model.eval()\n",
    "    \n",
    "    # Disable gradient calculation for efficiency\n",
    "    with torch.no_grad():\n",
    "        # Move the image tensor to the appropriate device (CPU or GPU)\n",
    "        img = img.to(DEVICE)\n",
    "        \n",
    "        # Add a batch dimension, pass the image through the model to get the embeddings\n",
    "        img_enc = model(img.unsqueeze(0))\n",
    "        \n",
    "        # Detach the embeddings from the computation graph and move them back to the CPU\n",
    "        img_enc = img_enc.detach().cpu().numpy()\n",
    "        \n",
    "        # Convert the embeddings to a NumPy array\n",
    "        img_enc = np.array(img_enc)\n",
    "\n",
    "    return img_enc"
   ]
  },
  {
   "cell_type": "code",
   "execution_count": 34,
   "metadata": {},
   "outputs": [],
   "source": [
    "def searchInDatabase(img_enc, database):\n",
    "    \"\"\"\n",
    "    Searches for the closest match to a given image embedding in a database of embeddings.\n",
    "\n",
    "    Parameters\n",
    "    ----------\n",
    "    img_enc (numpy.ndarray): the embedding of the input image.\n",
    "    database (pandas.DataFrame): a DataFrame containing image embeddings with 'anchor' column for image names and subsequent columns for embedding values.\n",
    "\n",
    "    Returns\n",
    "    -------\n",
    "    (str): the name of the anchor image in the database that is closest to the input image embedding.\n",
    "    \"\"\"\n",
    "    # Extract the embeddings and image names from the database\n",
    "    anc_enc_arr = database.iloc[:, 1:].to_numpy()  # All columns except the first one (assuming embeddings start from the second column)\n",
    "\n",
    "    # Initialize an empty list to store distances\n",
    "    distance = []\n",
    "\n",
    "    # Iterate over each embedding in the database\n",
    "    for i in range(anc_enc_arr.shape[0]):\n",
    "        # Compute the Euclidean distance between the input embedding and the current database embedding\n",
    "        dist = euclidean_dist(img_enc, anc_enc_arr[i : i+1, :])\n",
    "        # Append the computed distance to the distance list\n",
    "        distance = np.append(distance, dist)\n",
    "\n",
    "    # Find the index of the closest embedding by sorting distances\n",
    "    closest_idx = np.argsort(distance)\n",
    "\n",
    "    # Return the name of the closest anchor image\n",
    "    return database['anchor'][closest_idx[0]]"
   ]
  },
  {
   "cell_type": "code",
   "execution_count": 35,
   "metadata": {},
   "outputs": [],
   "source": [
    "def prediction_fn(test_df, currentTest, y_pred, model, database):\n",
    "    \"\"\"\n",
    "    Tests model predictive capability.\n",
    "\n",
    "    Parameters\n",
    "    ----------\n",
    "        test_df (pandas.DataFrame): DataFrame containing the test images.\n",
    "        currentTest (str): desired images to test the model on.\n",
    "        y_pred (list): a list to store the predictions ('real' or 'fake') for each test image.\n",
    "        model (torch.nn.Module): the PyTorch model used to generate the image embeddings.\n",
    "        database (pandas.DataFrame): the DataFrame containing image embeddings with 'Anchor' column for image names and subsequent columns for embedding values.\n",
    "    \"\"\"\n",
    "\n",
    "    # Iterate over each row in the test DataFrame with progress bar\n",
    "    for index, row in tqdm(test_df.iterrows(), total=len(test_df)):\n",
    "        # Construct the full image path\n",
    "        img_name = DATA_DIR + row[currentTest]\n",
    "        \n",
    "        # Read the image from the path\n",
    "        img = io.imread(img_name)\n",
    "\n",
    "        # Get the image embeddings using the model\n",
    "        img_enc = getImageEmbeddings(img, model)\n",
    "\n",
    "        # Search for the closest match in the database\n",
    "        closestLabel = searchInDatabase(img_enc, database)\n",
    "\n",
    "        # Determine if the closest match is 'real' or 'fake' and append the result to pred_vector\n",
    "        if \"real\" in closestLabel:\n",
    "            y_pred.append(\"real\")\n",
    "        else:\n",
    "            y_pred.append(\"fake\")\n"
   ]
  },
  {
   "cell_type": "code",
   "execution_count": 36,
   "metadata": {},
   "outputs": [],
   "source": [
    "def calculate_metrics(test_df,y_pred, y_true):\n",
    "    \n",
    "    #Ground truth vectors creation\n",
    "    y_true = np.array(['real'] * len(test_df))\n",
    "    temp = np.array(['fake'] * len(test_df))\n",
    "    y_true = np.concatenate([y_true, temp])\n",
    "\n",
    "    # Confusion Matrix calculation\n",
    "    cm = confusion_matrix(y_true, y_pred, labels=[\"real\",\"fake\"])\n",
    "\n",
    "    # Plot confusion matrix\n",
    "    sns.heatmap(cm, annot=True, fmt='g', cmap='Blues', xticklabels=[\"Real\", \"Fake\"], yticklabels=[\"Real\", \"Fake\"])\n",
    "    plt.xlabel('Predicted labels')\n",
    "    plt.ylabel('True labels')\n",
    "    plt.title('Confusion Matrix')\n",
    "    plt.show()\n",
    "\n",
    "    # Classification Report\n",
    "    print(\"Classification Report:\")\n",
    "    print(classification_report(y_true, y_pred))\n",
    "\n",
    "    # True Negative, False Positive, False Negative, True Positive extraction\n",
    "    TN, FP, FN, TP = confusion_matrix(y_true, y_pred, labels=[\"real\", \"fake\"]).ravel()\n",
    "    print(f\"Numero di veri negativi {TN}\")\n",
    "    print(f\"Numero di veri negativi {FP}\")\n",
    "    \n",
    "    # Metrics calculation\n",
    "    accuracy = round((TP + TN) /(TP + TN + FP + FN), 4) * 100\n",
    "    precision = round((TP) / (TP + FP), 4) * 100\n",
    "    sensitivy_recall = round((TP) / (TP + FN), 4) * 100\n",
    "    specificity = round((TN) / (TN + FP) * 100, 4)\n",
    "    F1_score = round((2* precision * sensitivy_recall) / (precision + sensitivy_recall), 2)\n",
    "\n",
    "    print({\"Accuracy\":accuracy,\"Precision\":precision,\"Sensitivity_recall\":sensitivy_recall, \"Specificity\": specificity, \"F1_score\":F1_score})"
   ]
  },
  {
   "cell_type": "code",
   "execution_count": 37,
   "metadata": {},
   "outputs": [
    {
     "data": {
      "application/vnd.jupyter.widget-view+json": {
       "model_id": "8ca9813f36b04ee9abff42c11dec357f",
       "version_major": 2,
       "version_minor": 0
      },
      "text/plain": [
       "  0%|          | 0/2451 [00:00<?, ?it/s]"
      ]
     },
     "metadata": {},
     "output_type": "display_data"
    },
    {
     "data": {
      "application/vnd.jupyter.widget-view+json": {
       "model_id": "7be10ca966b442c7acf1119bef297573",
       "version_major": 2,
       "version_minor": 0
      },
      "text/plain": [
       "  0%|          | 0/2451 [00:00<?, ?it/s]"
      ]
     },
     "metadata": {},
     "output_type": "display_data"
    },
    {
     "data": {
      "image/png": "[encoded data removed]",
      "text/plain": [
       "<Figure size 640x480 with 2 Axes>"
      ]
     },
     "metadata": {},
     "output_type": "display_data"
    },
    {
     "name": "stdout",
     "output_type": "stream",
     "text": [
      "Classification Report:\n",
      "              precision    recall  f1-score   support\n",
      "\n",
      "        fake       0.74      0.74      0.74      2451\n",
      "        real       0.74      0.75      0.74      2451\n",
      "\n",
      "    accuracy                           0.74      4902\n",
      "   macro avg       0.74      0.74      0.74      4902\n",
      "weighted avg       0.74      0.74      0.74      4902\n",
      "\n",
      "Numero di veri negativi 1826\n",
      "Numero di veri negativi 625\n",
      "{'Accuracy': 74.32, 'Precision': 74.41, 'Sensitivity_recall': 74.13, 'Specificity': 74.5002, 'F1_score': 74.27}\n"
     ]
    }
   ],
   "source": [
    "# Testing prep\n",
    "y_true = []\n",
    "y_pred = []\n",
    "tempDf = test_df\n",
    "database = df_enc\n",
    "\n",
    "\n",
    "# Testing on FAKE images\n",
    "prediction_fn(tempDf, 'real', y_pred, model, database)\n",
    "\n",
    "# Testing on REAL images\n",
    "prediction_fn(tempDf, 'fake', y_pred, model, database)\n",
    "\n",
    "# Metrics calculation\n",
    "calculate_metrics(tempDf, y_pred, y_true)\n"
   ]
  },
  {
   "cell_type": "code",
   "execution_count": 38,
   "metadata": {},
   "outputs": [],
   "source": [
    "def get_testSet_dirs(test_df):\n",
    "\n",
    "\treal_dirs_list = []\n",
    "\tfake_dirs_list = []\n",
    "\n",
    "\tfor index, row in tqdm(test_df.iterrows(), total=test_df.shape[0], desc=\"Extracting generator directories\"):\n",
    "\t\t\n",
    "\t\tr_dir = row[\"real\"].split('fourier\\\\fourier\\\\')[1].split('+')[0]\n",
    "\t\tf_dir = row[\"fake\"].split('fourier\\\\fourier\\\\')[1].split('+')[0]\n",
    "\n",
    "\t\treal_dirs_list.append(r_dir)\n",
    "\t\tfake_dirs_list.append(f_dir)\n",
    "\n",
    "\treal_dirs = sorted(set(real_dirs_list))\n",
    "\tfake_dirs = sorted(set(fake_dirs_list))\n",
    "\n",
    "\treturn real_dirs, fake_dirs"
   ]
  },
  {
   "cell_type": "code",
   "execution_count": 39,
   "metadata": {},
   "outputs": [],
   "source": [
    "def get_testSet_subsets(test_df):\n",
    "\n",
    "    real_dirs, fake_dirs = get_testSet_dirs(test_df)\n",
    "    print(real_dirs)\n",
    "    print(fake_dirs)\n",
    "\n",
    "    real_subsets = {dir: test_df[test_df['real'].str.startswith(\"fourier\\\\fourier\\\\\" + dir + '+')]['real'].tolist() for dir in real_dirs}\n",
    "    fake_subsets = {dir: test_df[test_df['fake'].str.startswith(\"fourier\\\\fourier\\\\\" + dir + '+')]['fake'].tolist() for dir in fake_dirs}\n",
    "\n",
    "    real_subsets_df = {dir: pd.DataFrame(subset, columns=['real']) for dir, subset in real_subsets.items()}\n",
    "    fake_subsets_df = {dir: pd.DataFrame(subset, columns=['fake']) for dir, subset in fake_subsets.items()}\n",
    "\n",
    "    return real_subsets_df, fake_subsets_df"
   ]
  },
  {
   "cell_type": "code",
   "execution_count": 40,
   "metadata": {},
   "outputs": [
    {
     "data": {
      "application/vnd.jupyter.widget-view+json": {
       "model_id": "4d56145d91174b2f8c26ec44fde1f81c",
       "version_major": 2,
       "version_minor": 0
      },
      "text/plain": [
       "Extracting generator directories:   0%|          | 0/2451 [00:00<?, ?it/s]"
      ]
     },
     "metadata": {},
     "output_type": "display_data"
    },
    {
     "name": "stdout",
     "output_type": "stream",
     "text": [
      "['coco', 'imagenet', 'lsun']\n",
      "['big_gan', 'latent_diffusion', 'taming_transformer']\n"
     ]
    },
    {
     "data": {
      "application/vnd.jupyter.widget-view+json": {
       "model_id": "52dd6db403014315812171eef918ac51",
       "version_major": 2,
       "version_minor": 0
      },
      "text/plain": [
       "  0%|          | 0/817 [00:00<?, ?it/s]"
      ]
     },
     "metadata": {},
     "output_type": "display_data"
    },
    {
     "name": "stdout",
     "output_type": "stream",
     "text": [
      "\n",
      "\n",
      "\n",
      "Metrics summary for big_gan:\n"
     ]
    },
    {
     "data": {
      "application/vnd.jupyter.widget-view+json": {
       "model_id": "71fa897d1a4648d9b19c9615455e111a",
       "version_major": 2,
       "version_minor": 0
      },
      "text/plain": [
       "  0%|          | 0/817 [00:00<?, ?it/s]"
      ]
     },
     "metadata": {},
     "output_type": "display_data"
    },
    {
     "data": {
      "image/png": "[encoded data removed]",
      "text/plain": [
       "<Figure size 640x480 with 2 Axes>"
      ]
     },
     "metadata": {},
     "output_type": "display_data"
    },
    {
     "name": "stdout",
     "output_type": "stream",
     "text": [
      "Classification Report:\n",
      "              precision    recall  f1-score   support\n",
      "\n",
      "        fake       0.82      0.97      0.89       817\n",
      "        real       0.96      0.79      0.87       817\n",
      "\n",
      "    accuracy                           0.88      1634\n",
      "   macro avg       0.89      0.88      0.88      1634\n",
      "weighted avg       0.89      0.88      0.88      1634\n",
      "\n",
      "Numero di veri negativi 648\n",
      "Numero di veri negativi 169\n",
      "{'Accuracy': 88.0, 'Precision': 82.38, 'Sensitivity_recall': 96.7, 'Specificity': 79.3146, 'F1_score': 88.97}\n",
      "\n",
      "\n",
      "\n",
      "Metrics summary for latent_diffusion:\n"
     ]
    },
    {
     "data": {
      "application/vnd.jupyter.widget-view+json": {
       "model_id": "d05a5356412c452dba86bf0b5e67bc76",
       "version_major": 2,
       "version_minor": 0
      },
      "text/plain": [
       "  0%|          | 0/817 [00:00<?, ?it/s]"
      ]
     },
     "metadata": {},
     "output_type": "display_data"
    },
    {
     "data": {
      "image/png": "[encoded data removed]",
      "text/plain": [
       "<Figure size 640x480 with 2 Axes>"
      ]
     },
     "metadata": {},
     "output_type": "display_data"
    },
    {
     "name": "stdout",
     "output_type": "stream",
     "text": [
      "Classification Report:\n",
      "              precision    recall  f1-score   support\n",
      "\n",
      "        fake       0.74      0.58      0.65       817\n",
      "        real       0.65      0.79      0.72       817\n",
      "\n",
      "    accuracy                           0.69      1634\n",
      "   macro avg       0.69      0.69      0.68      1634\n",
      "weighted avg       0.69      0.69      0.68      1634\n",
      "\n",
      "Numero di veri negativi 648\n",
      "Numero di veri negativi 169\n",
      "{'Accuracy': 68.60000000000001, 'Precision': 73.68, 'Sensitivity_recall': 57.89, 'Specificity': 79.3146, 'F1_score': 64.84}\n",
      "\n",
      "\n",
      "\n",
      "Metrics summary for taming_transformer:\n"
     ]
    },
    {
     "data": {
      "application/vnd.jupyter.widget-view+json": {
       "model_id": "9dc9da3d6eb44f17b1504badd5e386ec",
       "version_major": 2,
       "version_minor": 0
      },
      "text/plain": [
       "  0%|          | 0/817 [00:00<?, ?it/s]"
      ]
     },
     "metadata": {},
     "output_type": "display_data"
    },
    {
     "data": {
      "image/png": "[encoded data removed]",
      "text/plain": [
       "<Figure size 640x480 with 2 Axes>"
      ]
     },
     "metadata": {},
     "output_type": "display_data"
    },
    {
     "name": "stdout",
     "output_type": "stream",
     "text": [
      "Classification Report:\n",
      "              precision    recall  f1-score   support\n",
      "\n",
      "        fake       0.77      0.68      0.72       817\n",
      "        real       0.71      0.79      0.75       817\n",
      "\n",
      "    accuracy                           0.74      1634\n",
      "   macro avg       0.74      0.74      0.73      1634\n",
      "weighted avg       0.74      0.74      0.73      1634\n",
      "\n",
      "Numero di veri negativi 648\n",
      "Numero di veri negativi 169\n",
      "{'Accuracy': 73.56, 'Precision': 76.63, 'Sensitivity_recall': 67.81, 'Specificity': 79.3146, 'F1_score': 71.95}\n"
     ]
    }
   ],
   "source": [
    "# HERE ARE CALCULATED INDIVIDUAL METRICS FOR EACH FAKE GENERATOR\n",
    "real_subsets, fake_subsets = get_testSet_subsets(test_df)\n",
    "\n",
    "# Lenght matching \n",
    "first_real_key = next(iter(real_subsets))\n",
    "first_fake_key = next(iter(fake_subsets))\n",
    "\n",
    "real_df = real_subsets[first_real_key]\n",
    "first_fake_df = fake_subsets[first_fake_key] \n",
    "\n",
    "real_df = real_df.head(len(first_fake_df))\n",
    "\n",
    "# Testing prep\n",
    "y_pred_real = [] #Avoid redoing predictions on the same real images subset\n",
    "y_pred = []\n",
    "database = df_enc\n",
    "\n",
    "# Testing on REAL images\n",
    "prediction_fn(real_df, 'real', y_pred_real, model, database)\n",
    "\n",
    "for dir, df in fake_subsets.items():\n",
    "    print(f\"\\n\\n\\nMetrics summary for {dir}:\")\n",
    "    \n",
    "    y_true = []\n",
    "    y_pred = y_pred_real.copy()\n",
    "\n",
    "    # Testing on FAKE images\n",
    "    prediction_fn(df, 'fake', y_pred, model, database)\n",
    "    # Metrics calculation\n",
    "    # (the df in input makes no differences)\n",
    "    calculate_metrics(df, y_pred, y_true)"
   ]
  }
 ],
 "metadata": {
  "kernelspec": {
   "display_name": "deepfake",
   "language": "python",
   "name": "python3"
  },
  "language_info": {
   "codemirror_mode": {
    "name": "ipython",
    "version": 3
   },
   "file_extension": ".py",
   "mimetype": "text/x-python",
   "name": "python",
   "nbconvert_exporter": "python",
   "pygments_lexer": "ipython3",
   "version": "3.10.14"
  }
 },
 "nbformat": 4,
 "nbformat_minor": 2
}
