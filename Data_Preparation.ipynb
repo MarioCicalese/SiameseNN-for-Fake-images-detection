{
 "cells": [
  {
   "cell_type": "code",
   "execution_count": 1,
   "metadata": {},
   "outputs": [],
   "source": [
    "import os\n",
    "import cv2\n",
    "import pandas as pd\n",
    "import numpy as np\n",
    "from matplotlib import pyplot as plt\n",
    "from tqdm.notebook import tqdm\n",
    "\n",
    "from constants import DatasetPath"
   ]
  },
  {
   "cell_type": "code",
   "execution_count": 2,
   "metadata": {},
   "outputs": [],
   "source": [
    "#Utility constants\n",
    "\n",
    "#Make sure the Dataset path has been specified in the 'constants.py' file\n",
    "DATASET_PATH = DatasetPath.effectivePath\n",
    "\n",
    "def DATASET_DIRS():\n",
    "    return os.listdir(DATASET_PATH)\n",
    "\n",
    "REAL_DIRS = [\"afhq\", \"celebahq\", \"coco\", \"ffhq\", \"imagenet\", \"landscape\", \"lsun\", \"metfaces\", \"cycle_gan\"]\n",
    "\n",
    "FAKE_DIRS = [\"big_gan\", \"cips\", \"cycle_gan\", \"ddpm\", \"denoising_diffusion_gan\", \"diffusion_gan\", \"face_synthetics\", \n",
    "                 \"gansformer\", \"gau_gan\", \"generative_inpainting\", \"glide\", \"lama\", \"latent_diffusion\", \"mat\", \"palette\", \n",
    "                 \"pro_gan\", \"projected_gan\", \"sfhq\", \"stable_diffusion\", \"star_gan\", \"stylegan1\", \"stylegan2\", \"stylegan3\",\n",
    "                 \"taming_transformer\", \"vq_diffusion\"]\n",
    "\n",
    "csv_columns_name = ['filename', 'image_path', 'target', 'category']\n",
    "REAL_CSV_PATH = DATASET_PATH + \"real.csv\"\n",
    "FAKE_CSV_PATH = DATASET_PATH + \"fake.csv\""
   ]
  },
  {
   "cell_type": "code",
   "execution_count": 3,
   "metadata": {},
   "outputs": [],
   "source": [
    "def checkDatasetSync():\n",
    "    \"\"\"\n",
    "    Checks wether data loss occured during the download and unzip process.\n",
    "    \"\"\"\n",
    "    sync = True\n",
    "    \n",
    "    for folder in tqdm(DATASET_DIRS()):\n",
    "        if folder not in REAL_DIRS + FAKE_DIRS:\n",
    "            # exclude other files \n",
    "            if not (\".csv\" in folder or folder == \"fourier\"):\n",
    "                print(\"Folder \" + folder + \" does not exist.\")\n",
    "                sync = False\n",
    "\n",
    "    if sync: print(\"Dataset correctly synchronized.\")"
   ]
  },
  {
   "cell_type": "code",
   "execution_count": 4,
   "metadata": {},
   "outputs": [
    {
     "data": {
      "application/vnd.jupyter.widget-view+json": {
       "model_id": "f28d3d07d36744d18c3c0784daedd15b",
       "version_major": 2,
       "version_minor": 0
      },
      "text/plain": [
       "  0%|          | 0/35 [00:00<?, ?it/s]"
      ]
     },
     "metadata": {},
     "output_type": "display_data"
    },
    {
     "name": "stdout",
     "output_type": "stream",
     "text": [
      "Dataset correctly synchronized.\n"
     ]
    }
   ],
   "source": [
    "checkDatasetSync()"
   ]
  },
  {
   "cell_type": "code",
   "execution_count": 5,
   "metadata": {},
   "outputs": [],
   "source": [
    "def real_fake_csv_split():\n",
    "    \"\"\"\n",
    "    Calls 'create_csv()' to perform a metadata split creating different csv file for both real and fake images.\n",
    "        \n",
    "    \"\"\"\n",
    "    create_csv(\"real\")\n",
    "    create_csv(\"fake\")\n",
    "\n",
    "def create_csv(target):\n",
    "    \"\"\"\n",
    "    Performs a metadata split creating different csv file for both real and fake images.\n",
    "\n",
    "    Parametres\n",
    "    ----------\n",
    "        target (str): 'real' or 'fake', used to identify the image source.   \n",
    "    \"\"\"\n",
    "    csv = target + \".csv\"\n",
    "    dir_group = REAL_DIRS if target == \"real\" else FAKE_DIRS\n",
    "    csv_path = REAL_CSV_PATH if target == \"real\" else FAKE_CSV_PATH\n",
    "    \n",
    "    if csv in DATASET_DIRS():\n",
    "        print(csv + \" already exists.\")\n",
    "        \n",
    "        return\n",
    "    \n",
    "    csv_df = pd.DataFrame(columns = csv_columns_name)\n",
    "\n",
    "    # Images collection process\n",
    "    for dir in tqdm(dir_group, desc=\"Collecting \" + target + \" images\"):\n",
    "        csv_df = collect_metadatas(csv_df, dir, 0)\n",
    "\n",
    "    # DataFrame-to-csv conversion process\n",
    "    df_to_csv(csv_df, csv, csv_path)\n",
    "\n",
    "def collect_metadatas(df, dir, mode, size=None): \n",
    "    \"\"\"\n",
    "    Collects metadatas from a given directory into a Pandas DataFrame.\n",
    "\n",
    "    Parametres\n",
    "    ----------\n",
    "        df (pd.DataFrame): the DataFrame to collect metadatas into.\n",
    "        dir (str): the directory where the metadata file is stored.\n",
    "        mode (int): how the DataFrame is built\n",
    "            > 0: for real-fake split.\n",
    "            > 1: for balanced dataset partitioning (contains both fake and real images).\n",
    "        size (int, optional): optional parameter, used within mode 1. Default: None.\n",
    "\n",
    "    Returns\n",
    "    -------\n",
    "        pd.DataFrame: the updated Dataframe.\n",
    "    \"\"\"\n",
    "    with open(DATASET_PATH + dir + \"\\\\metadata.csv\", mode='r', newline='') as current_csv:\n",
    "\n",
    "        current_csv = pd.read_csv(current_csv)\n",
    "        image_path = dir + \"/\" + current_csv[\"image_path\"]\n",
    "        current_csv[\"image_path\"] = image_path.replace(\"/\",\"\\\\\")\n",
    "        \n",
    "        match mode:\n",
    "            case 0:\n",
    "                df = pd.concat([df,current_csv[current_csv['target'] == 0]], ignore_index=True) if dir in REAL_DIRS else pd.concat([df,current_csv[current_csv['target'] != 0]], ignore_index=True)\n",
    "                return df\n",
    "            \n",
    "            case 1:\n",
    "                #In this mode, the number of sampled images is also returned\n",
    "                length = len(current_csv)\n",
    "                if size > length:\n",
    "                    print(\"Error: sampling size cannot exceed the number of tuples in the dataframe.\")\n",
    "                    print(\"Only \" + length + \" tuples were sampled.\")\n",
    "                    df = pd.concat([df,current_csv.sample(length)], ignore_index=True)\n",
    "                    return df, length\n",
    "                else:\n",
    "                    df = pd.concat([df,current_csv.sample(size)], ignore_index=True)\n",
    "                    return df, size\n",
    "                \n",
    "            case _:\n",
    "                return \"Unkwon mode. Consult function doc for recognised modes.\"\n",
    "\n",
    "def df_to_csv(df, filename, path):\n",
    "    \"\"\"\n",
    "    Splits the DataFrame in chunks to enable tqdm progress visualization while converting the DataFrame into a '.csv' file.\n",
    "\n",
    "    Parametres\n",
    "    ----------\n",
    "        df (pd.DataFrame): the DataFrame to convert.\n",
    "        filename (str): the desired file name (comprehensive of '.csv' extension).\n",
    "        path (str): the path where the '.csv' will be stored.\n",
    "    \"\"\"\n",
    "    chunks = np.array_split(df.index, 100)\n",
    "    for chunck, subset in enumerate(tqdm(chunks, desc=\"Creating \\'\" + filename + \"\\' file\")):\n",
    "        if chunck == 0: # first row\n",
    "            df.loc[subset].to_csv(path, mode='w', index=False)\n",
    "        else:\n",
    "             df.loc[subset].to_csv(path, header=None, mode='a', index=False)\n",
    "    \n",
    "    print(\"\\'\" + filename + \"\\' has been successfully created.\")"
   ]
  },
  {
   "cell_type": "code",
   "execution_count": 6,
   "metadata": {},
   "outputs": [
    {
     "name": "stdout",
     "output_type": "stream",
     "text": [
      "real.csv already exists.\n",
      "fake.csv already exists.\n"
     ]
    }
   ],
   "source": [
    "real_fake_csv_split()"
   ]
  },
  {
   "cell_type": "code",
   "execution_count": 7,
   "metadata": {},
   "outputs": [],
   "source": [
    "def generate_training_and_test_sets(size, real_dirs, fake_dirs):\n",
    "    \"\"\"\n",
    "    Generates Training Set and Test Set in the form of '.csv' files with an 80:20 ratio of the given size and from the given directories.\n",
    "\n",
    "    Parametres\n",
    "    ----------\n",
    "        size (int): the requested number of tuples in the partition.\n",
    "        real_dirs (list of str): names of the directories containing real images\n",
    "        fake_dirs (list of str): names of the directories containing fake images\n",
    "    \"\"\"\n",
    "    # Checks if training and test sets have already been generated\n",
    "    if \"trainingSet.csv\" in DATASET_DIRS() and \"testSet.csv\" in DATASET_DIRS():\n",
    "        print(\"Traing and Test Set already exist.\")\n",
    "        \n",
    "        return\n",
    "\n",
    "    df = pd.DataFrame(columns = csv_columns_name)\n",
    "    \n",
    "    max_r_size = max_f_size = round(size / 2)\n",
    "    min_r_size = round(max_r_size / len(real_dirs))\n",
    "\n",
    "    remaining_size = 0\n",
    "    for dir in tqdm(real_dirs, desc=\"Collecting metadatas from Real Directories\"):\n",
    "        #Tries sampling an exact amount of tuples\n",
    "        #case 1: sampling size is equal or smaller than the number of images in the directory\n",
    "            # > No actions required\n",
    "        #case 2: sampling size is greater than the number of images in the directory\n",
    "            # > Errors are handled in the 'collect_metadatas' function\n",
    "            # > The following code ensure total sampling size is reached\n",
    "        \n",
    "        #sampled_size is the number of tuples actually sampled from the metadata.csv file in the currect directory\n",
    "        df, sampled_size = collect_metadatas(df, dir, 1, min_r_size + remaining_size)\n",
    "        \n",
    "        #if sampled_size is smaller than the what it should be\n",
    "        if(sampled_size < min_r_size):\n",
    "            #calculate the remaining tuples so that the function tries to sample it from the next directory\n",
    "            remaining_size = min_r_size - sampled_size\n",
    "        #if sampled_size is correct than there are no remaining tuples to sample\n",
    "        else:\n",
    "            remaining_size = 0\n",
    "    \n",
    "    if remaining_size > 0: \n",
    "        print(\"Correct sampling size could not be reached from the given real_dirs\")\n",
    "        print(\"Actual sampled size: \" + max_r_size-remaining_size)\n",
    "        max_f_size = max_f_size - remaining_size\n",
    "\n",
    "    min_f_size = round(max_f_size / len(fake_dirs))\n",
    "    remaining_size = 0\n",
    "    \n",
    "    for dir in tqdm(fake_dirs, desc=\"Collecting_metadatas from Fake Directories\"):\n",
    "\n",
    "        df, sampled_size = collect_metadatas(df, dir, 1, min_f_size + remaining_size)\n",
    "\n",
    "        if(sampled_size < min_f_size):\n",
    "            remaining_size = min_f_size - sampled_size\n",
    "        else:\n",
    "            remaining_size = 0\n",
    "\n",
    "    if remaining_size > 0: \n",
    "        print(\"Correct sampling size could not be reached from the given fake_dirs\")\n",
    "        print(\"Actual sampled size: \" + max_f_size-remaining_size)\n",
    "        max_f_size = max_f_size - remaining_size\n",
    "\n",
    "    # Train-test split\n",
    "    train_df, test_df = custom_train_test_split(df, size, real_dirs, fake_dirs)\n",
    "\n",
    "    # '.csv' generation\n",
    "    df_to_csv(train_df, \"trainingSet.csv\", DATASET_PATH+\"trainingSet.csv\")\n",
    "    df_to_csv(test_df, \"testSet.csv\", DATASET_PATH+\"testSet.csv\")\n",
    "    \n",
    "\n",
    "def custom_train_test_split(df, size, real_dirs, fake_dirs):\n",
    "    \"\"\"\n",
    "    Splits a dataset partition in training set and test set while keeping a 1:1 ratio between Real and Fake images.\n",
    "    It also ensure equal proportion for images from different directories. \n",
    "\n",
    "    Parametres\n",
    "    ----------\n",
    "        df (pandas.DataFrame): DataFrame containing the dataset partition\n",
    "        size (int): the requested number of tuples in the partition.\n",
    "        real_dirs (list of str): names of the directories containing real images\n",
    "        fake_dirs (list of str): names of the directories containing fake images\n",
    "    \n",
    "    Returns\n",
    "    -------\n",
    "        train_df, test_df (pandas.DataFrame): Training and Test Sets DataFrames\n",
    "    \"\"\" \n",
    "    test_df = pd.DataFrame(columns=['real', 'fake'])\n",
    "\n",
    "    # Number of tuples to sample from each real images directory\n",
    "    real_sample_size = round(size / 2 * 0.2 / len(real_dirs))\n",
    "    i = 1\n",
    "    #Iterate through the dataset partition and sample the same number of tuples for each fake images directory\n",
    "    for dir in tqdm(real_dirs, desc=\"Test set Real images sampling\"):\n",
    "            sampled_size = 0\n",
    "            for index, row in df.iterrows():\n",
    "                    if sampled_size < real_sample_size:\n",
    "                            image_path = row[\"image_path\"]\n",
    "                            splitted_path = image_path.split('/')[0]\n",
    "                            if dir in splitted_path:\n",
    "                                    test_df.loc[i] = [image_path, None]\n",
    "                                    df = df.drop(index=index)\n",
    "                                    sampled_size+=1\n",
    "                                    i+=1\n",
    "                    else: break\n",
    "    \n",
    "    # Number of tuples to sample from each fake images directory\n",
    "    fake_sample_size = round(size / 2 * 0.2 / len(fake_dirs))\n",
    "    i = 1\n",
    "    #Iterate through the dataset partition and sample the same number of tuples for each fake images directory\n",
    "    for dir in tqdm(fake_dirs, desc=\"Test set Fake images sampling\"):\n",
    "            sampled_size = 0\n",
    "            for index, row in df.iterrows():\n",
    "                    if sampled_size < fake_sample_size:\n",
    "                            image_path = row[\"image_path\"]\n",
    "                            splitted_path = image_path.split('/')[0]\n",
    "                            if dir in splitted_path:\n",
    "                                    test_df.loc[i] = [test_df.loc[i][\"real\"], image_path]\n",
    "                                    df = df.drop(index=index)\n",
    "                                    sampled_size+=1\n",
    "                                    i+=1\n",
    "\n",
    "                    else: break\n",
    "\n",
    "    return df, test_df\n"
   ]
  },
  {
   "cell_type": "code",
   "execution_count": 8,
   "metadata": {},
   "outputs": [
    {
     "name": "stdout",
     "output_type": "stream",
     "text": [
      "['afhq', 'celebahq', 'coco', 'ffhq', 'imagenet', 'landscape', 'lsun', 'metfaces', 'cycle_gan']\n",
      "['big_gan', 'cips', 'cycle_gan', 'ddpm', 'denoising_diffusion_gan', 'diffusion_gan', 'face_synthetics', 'gansformer', 'gau_gan', 'generative_inpainting', 'glide', 'lama', 'latent_diffusion', 'mat', 'palette', 'pro_gan', 'projected_gan', 'sfhq', 'stable_diffusion', 'star_gan', 'stylegan1', 'stylegan2', 'stylegan3', 'taming_transformer', 'vq_diffusion']\n"
     ]
    }
   ],
   "source": [
    "#!!The following code it's only for convenience purpose!!\n",
    "\n",
    "print(REAL_DIRS)\n",
    "print(FAKE_DIRS)\n",
    "\n",
    "#CYCLE_GAN and PRO_GAN contains both real and fake images"
   ]
  },
  {
   "cell_type": "code",
   "execution_count": 9,
   "metadata": {},
   "outputs": [
    {
     "data": {
      "application/vnd.jupyter.widget-view+json": {
       "model_id": "6a0cc21c05e246118e2a45446a34cb8d",
       "version_major": 2,
       "version_minor": 0
      },
      "text/plain": [
       "Collecting metadatas from Real Directories:   0%|          | 0/5 [00:00<?, ?it/s]"
      ]
     },
     "metadata": {},
     "output_type": "display_data"
    },
    {
     "data": {
      "application/vnd.jupyter.widget-view+json": {
       "model_id": "706ca9ee594f4ba18a040bfbc7636c04",
       "version_major": 2,
       "version_minor": 0
      },
      "text/plain": [
       "Collecting_metadatas from Fake Directories:   0%|          | 0/10 [00:00<?, ?it/s]"
      ]
     },
     "metadata": {},
     "output_type": "display_data"
    },
    {
     "data": {
      "application/vnd.jupyter.widget-view+json": {
       "model_id": "e73410fa5f724662a99a698f106cfdec",
       "version_major": 2,
       "version_minor": 0
      },
      "text/plain": [
       "Test set Real images sampling:   0%|          | 0/5 [00:00<?, ?it/s]"
      ]
     },
     "metadata": {},
     "output_type": "display_data"
    },
    {
     "data": {
      "application/vnd.jupyter.widget-view+json": {
       "model_id": "b0e9bdce4d9d481cbdb747afa2cf09d5",
       "version_major": 2,
       "version_minor": 0
      },
      "text/plain": [
       "Test set Fake images sampling:   0%|          | 0/10 [00:00<?, ?it/s]"
      ]
     },
     "metadata": {},
     "output_type": "display_data"
    },
    {
     "data": {
      "application/vnd.jupyter.widget-view+json": {
       "model_id": "65a77bc985dd43a7a3e43770f4947a69",
       "version_major": 2,
       "version_minor": 0
      },
      "text/plain": [
       "Creating 'trainingSet.csv' file:   0%|          | 0/100 [00:00<?, ?it/s]"
      ]
     },
     "metadata": {},
     "output_type": "display_data"
    },
    {
     "name": "stdout",
     "output_type": "stream",
     "text": [
      "'trainingSet.csv' has been successfully created.\n"
     ]
    },
    {
     "data": {
      "application/vnd.jupyter.widget-view+json": {
       "model_id": "d396da1542aa4daeade978a282a62921",
       "version_major": 2,
       "version_minor": 0
      },
      "text/plain": [
       "Creating 'testSet.csv' file:   0%|          | 0/100 [00:00<?, ?it/s]"
      ]
     },
     "metadata": {},
     "output_type": "display_data"
    },
    {
     "name": "stdout",
     "output_type": "stream",
     "text": [
      "'testSet.csv' has been successfully created.\n"
     ]
    }
   ],
   "source": [
    "#dirs name above\n",
    "real_dirs = ['afhq', 'celebahq', 'coco', 'ffhq', 'imagenet']\n",
    "fake_dirs = ['big_gan', 'gau_gan', 'denoising_diffusion_gan', 'diffusion_gan', 'gansformer', 'projected_gan', 'star_gan', 'stylegan1', 'stylegan2', 'stylegan3']\n",
    "\n",
    "generate_training_and_test_sets(25000, real_dirs, fake_dirs)"
   ]
  }
 ],
 "metadata": {
  "kernelspec": {
   "display_name": "deepfake",
   "language": "python",
   "name": "python3"
  },
  "language_info": {
   "codemirror_mode": {
    "name": "ipython",
    "version": 3
   },
   "file_extension": ".py",
   "mimetype": "text/x-python",
   "name": "python",
   "nbconvert_exporter": "python",
   "pygments_lexer": "ipython3",
   "version": "3.10.14"
  }
 },
 "nbformat": 4,
 "nbformat_minor": 2
}
