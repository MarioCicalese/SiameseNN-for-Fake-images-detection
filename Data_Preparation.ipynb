{
 "cells": [
  {
   "cell_type": "code",
   "execution_count": 1,
   "metadata": {},
   "outputs": [],
   "source": [
    "import os\n",
    "import pandas as pd\n",
    "import numpy as np\n",
    "from tqdm.notebook import tqdm\n",
    "\n",
    "from constants import DatasetPath"
   ]
  },
  {
   "cell_type": "code",
   "execution_count": 2,
   "metadata": {},
   "outputs": [],
   "source": [
    "#Utility constants\n",
    "\n",
    "#Make sure the Dataset path has been specified in the 'constants.py' file\n",
    "DATASET_PATH = DatasetPath.effectivePath\n",
    "\n",
    "def DATASET_DIRS():\n",
    "\treturn os.listdir(DATASET_PATH)\n",
    "\n",
    "#CYCLE_GAN and PRO_GAN contains both real and fake images\n",
    "\n",
    "REAL_DIRS = [\"afhq\", \"celebahq\", \"coco\", \"ffhq\", \"imagenet\", \"landscape\", \"lsun\", \"metfaces\", \"cycle_gan\", \"pro_gan\"]\n",
    "\n",
    "FAKE_DIRS = [\"big_gan\", \"cips\", \"cycle_gan\", \"ddpm\", \"denoising_diffusion_gan\", \"diffusion_gan\", \"face_synthetics\", \n",
    "\t\t\t\t \"gansformer\", \"gau_gan\", \"generative_inpainting\", \"glide\", \"lama\", \"latent_diffusion\", \"mat\", \"palette\", \n",
    "\t\t\t\t \"pro_gan\", \"projected_gan\", \"sfhq\", \"stable_diffusion\", \"star_gan\", \"stylegan1\", \"stylegan2\", \"stylegan3\",\n",
    "\t\t\t\t \"taming_transformer\", \"vq_diffusion\"]\n",
    "\n",
    "csv_columns_name = ['filename', 'image_path', 'target', 'category']\n",
    "REAL_CSV_PATH = DATASET_PATH + \"real.csv\"\n",
    "FAKE_CSV_PATH = DATASET_PATH + \"fake.csv\""
   ]
  },
  {
   "cell_type": "code",
   "execution_count": 3,
   "metadata": {},
   "outputs": [],
   "source": [
    "def checkDatasetSync():\n",
    "\t\"\"\"\n",
    "\tChecks wether data loss occured during the download and unzip process.\n",
    "\t\"\"\"\n",
    "\tsync = True\n",
    "\t\n",
    "\tfor folder in tqdm(DATASET_DIRS()):\n",
    "\t\tif folder not in REAL_DIRS + FAKE_DIRS:\n",
    "\t\t\t# exclude other files \n",
    "\t\t\tif not (\".csv\" in folder or folder == \"fourier\"):\n",
    "\t\t\t\tprint(\"Folder \" + folder + \" does not exist.\")\n",
    "\t\t\t\tsync = False\n",
    "\n",
    "\tif sync: print(\"Dataset correctly synchronized.\")"
   ]
  },
  {
   "cell_type": "code",
   "execution_count": 4,
   "metadata": {},
   "outputs": [
    {
     "data": {
      "application/vnd.jupyter.widget-view+json": {
       "model_id": "070e4bfe5c794cdbbdb36b9d32e82794",
       "version_major": 2,
       "version_minor": 0
      },
      "text/plain": [
       "  0%|          | 0/35 [00:00<?, ?it/s]"
      ]
     },
     "metadata": {},
     "output_type": "display_data"
    },
    {
     "name": "stdout",
     "output_type": "stream",
     "text": [
      "Dataset correctly synchronized.\n"
     ]
    }
   ],
   "source": [
    "checkDatasetSync()"
   ]
  },
  {
   "cell_type": "code",
   "execution_count": 5,
   "metadata": {},
   "outputs": [],
   "source": [
    "def real_fake_csv_split():\n",
    "\t\"\"\"\n",
    "\tCalls 'create_csv()' to perform a metadata split creating different csv file for both real and fake images.\n",
    "\t\t\n",
    "\t\"\"\"\n",
    "\tcreate_csv(\"real\")\n",
    "\tcreate_csv(\"fake\")\n",
    "\n",
    "def create_csv(target):\n",
    "\t\"\"\"\n",
    "\tPerforms a metadata split creating different csv file for both real and fake images.\n",
    "\n",
    "\tParametres\n",
    "\t----------\n",
    "\t\ttarget (str): 'real' or 'fake', used to identify the image source.   \n",
    "\t\"\"\"\n",
    "\tcsv = target + \".csv\"\n",
    "\tdir_group = REAL_DIRS if target == \"real\" else FAKE_DIRS\n",
    "\tcsv_path = REAL_CSV_PATH if target == \"real\" else FAKE_CSV_PATH\n",
    "\t\n",
    "\tif csv in DATASET_DIRS():\n",
    "\t\tprint(csv + \" already exists.\")\n",
    "\t\t\n",
    "\t\treturn\n",
    "\t\n",
    "\tcsv_df = pd.DataFrame(columns = csv_columns_name)\n",
    "\n",
    "\t# Images collection process\n",
    "\tfor dir in tqdm(dir_group, desc=\"Collecting \" + target + \" images\"):\n",
    "\t\tcsv_df = collect_metadatas(csv_df, dir, 0)\n",
    "\n",
    "\t# Update filenames\n",
    "\tfor index, row in tqdm(csv_df.iterrows(), total=csv_df.shape[0], desc=\"Updating filenames to avoid duplicates\"):\n",
    "\t\tcsv_df.at[index, \"filename\"] = row[\"image_path\"].replace(\"/\",\"+\")\n",
    "\n",
    "\t# DataFrame-to-csv conversion process\n",
    "\tdf_to_csv(csv_df, csv, csv_path)\n",
    "\n",
    "def collect_metadatas(df, dir, mode, size=None): \n",
    "\t\"\"\"\n",
    "\tCollects metadatas from a given directory into a Pandas DataFrame.\n",
    "\n",
    "\tParametres\n",
    "\t----------\n",
    "\t\tdf (pd.DataFrame): the DataFrame to collect metadatas into.\n",
    "\t\tdir (str): the directory where the metadata file is stored.\n",
    "\t\tmode (int): how the DataFrame is built\n",
    "\t\t\t> 0: for real-fake split.\n",
    "\t\t\t> 1: for balanced dataset partitioning (contains both fake and real images).\n",
    "\t\tsize (int, optional): optional parameter, used within mode 1. Default: None.\n",
    "\n",
    "\tReturns\n",
    "\t-------\n",
    "\t\tpd.DataFrame: the updated Dataframe.\n",
    "\t\"\"\"\n",
    "\twith open(DATASET_PATH + dir + \"\\\\metadata.csv\", mode='r', newline='') as current_csv:\n",
    "\n",
    "\t\tcurrent_csv = pd.read_csv(current_csv)\n",
    "\t\timage_path = dir + \"/\" + current_csv[\"image_path\"]\n",
    "\t\tcurrent_csv[\"image_path\"] = image_path.replace(\"/\",\"\\\\\")\n",
    "\t\t\n",
    "\t\tmatch mode:\n",
    "\t\t\tcase 0:\n",
    "\t\t\t\tdf = pd.concat([df,current_csv[current_csv['target'] == 0]], ignore_index=True) if dir in REAL_DIRS else pd.concat([df,current_csv[current_csv['target'] != 0]], ignore_index=True)\n",
    "\t\t\t\treturn df\n",
    "\t\t\t\n",
    "\t\t\tcase 1:\n",
    "\t\t\t\t#In this mode, the number of sampled images is also returned\n",
    "\t\t\t\tlength = len(current_csv)\n",
    "\t\t\t\tif size > length:\n",
    "\t\t\t\t\tprint(\"Error: sampling size cannot exceed the number of tuples in the dataframe.\")\n",
    "\t\t\t\t\tprint(\"Only \" + length + \" tuples were sampled.\")\n",
    "\t\t\t\t\tdf = pd.concat([df,current_csv.sample(length)], ignore_index=True)\n",
    "\t\t\t\t\treturn df, length\n",
    "\t\t\t\telse:\n",
    "\t\t\t\t\tdf = pd.concat([df,current_csv.sample(size)], ignore_index=True)\n",
    "\t\t\t\t\treturn df, size\n",
    "\t\t\t\t\n",
    "\t\t\tcase _:\n",
    "\t\t\t\treturn \"Unkwon mode. Consult function doc for recognised modes.\"\n",
    "\n",
    "def df_to_csv(df, filename, path):\n",
    "\t\"\"\"\n",
    "\tSplits the DataFrame in chunks to enable tqdm progress visualization while converting the DataFrame into a '.csv' file.\n",
    "\n",
    "\tParametres\n",
    "\t----------\n",
    "\t\tdf (pd.DataFrame): the DataFrame to convert.\n",
    "\t\tfilename (str): the desired file name (comprehensive of '.csv' extension).\n",
    "\t\tpath (str): the path where the '.csv' will be stored.\n",
    "\t\"\"\"\n",
    "\tchunks = np.array_split(df.index, 100)\n",
    "\tfor chunck, subset in enumerate(tqdm(chunks, desc=\"Creating \\'\" + filename + \"\\' file\")):\n",
    "\t\tif chunck == 0: # first row\n",
    "\t\t\tdf.loc[subset].to_csv(path, mode='w', index=False)\n",
    "\t\telse:\n",
    "\t\t\t df.loc[subset].to_csv(path, header=None, mode='a', index=False)\n",
    "\t\n",
    "\n",
    "\tprint(\"\\'\" + filename + \"\\' has been successfully created.\")"
   ]
  },
  {
   "cell_type": "code",
   "execution_count": 6,
   "metadata": {},
   "outputs": [
    {
     "name": "stdout",
     "output_type": "stream",
     "text": [
      "real.csv already exists.\n",
      "fake.csv already exists.\n"
     ]
    }
   ],
   "source": [
    "real_fake_csv_split()"
   ]
  },
  {
   "cell_type": "markdown",
   "metadata": {},
   "source": [
    "# DATASET PARTITION GENERATION"
   ]
  },
  {
   "cell_type": "code",
   "execution_count": 7,
   "metadata": {},
   "outputs": [],
   "source": [
    "def create_dataset_partition(size, real_dirs, fake_dirs):\n",
    "\t\"\"\"\n",
    "\tCreates a dataset partition of the given size with a 1:1 ratio between Real and Fake images taken from the given directories\n",
    "\n",
    "\tParametres\n",
    "\t----------\n",
    "\t\tsize (int): the requested number of tuples in the partition.\n",
    "\t\treal_dirs (list of str): names of the directories containing real images\n",
    "\t\tfake_dirs (list of str): names of the directories containing fake images\n",
    "\t\"\"\"\n",
    "\t# Checks if a dataset partition has already been created\n",
    "\tif \"dataset_partition.csv\" in DATASET_DIRS():\n",
    "\t\tprint(\"A Dataset Partition already exists, if you want to create a new one make sure to delete the old one first.\")\n",
    "\t\t\n",
    "\t\treturn\n",
    "\n",
    "\tdf = pd.DataFrame(columns = csv_columns_name)\n",
    "\t\n",
    "\tmax_r_size = max_f_size = round(size / 2)\n",
    "\tmin_r_size = round(max_r_size / len(real_dirs))\n",
    "\n",
    "\tremaining_size = 0\n",
    "\tfor dir in tqdm(real_dirs, desc=\"Collecting metadatas from Real Directories\"):\n",
    "\t\t#Tries sampling an exact amount of tuples\n",
    "\t\t#case 1: sampling size is equal or smaller than the number of images in the directory\n",
    "\t\t\t# > No actions required\n",
    "\t\t#case 2: sampling size is greater than the number of images in the directory\n",
    "\t\t\t# > Errors are handled in the 'collect_metadatas' function\n",
    "\t\t\t# > The following code ensure total sampling size is reached\n",
    "\t\t\n",
    "\t\t#sampled_size is the number of tuples actually sampled from the metadata.csv file in the currect directory\n",
    "\t\tdf, sampled_size = collect_metadatas(df, dir, 1, min_r_size + remaining_size)\n",
    "\t\t\n",
    "\t\t#if sampled_size is smaller than the what it should be\n",
    "\t\tif(sampled_size < min_r_size):\n",
    "\t\t\t#calculate the remaining tuples so that the function tries to sample it from the next directory\n",
    "\t\t\tremaining_size = min_r_size - sampled_size\n",
    "\t\t#if sampled_size is correct than there are no remaining tuples to sample\n",
    "\t\telse:\n",
    "\t\t\tremaining_size = 0\n",
    "\t\n",
    "\tif remaining_size > 0: \n",
    "\t\tprint(\"Correct sampling size could not be reached from the given real_dirs\")\n",
    "\t\tprint(\"Actual sampled size: \" + max_r_size-remaining_size)\n",
    "\t\tmax_f_size = max_f_size - remaining_size\n",
    "\n",
    "\tmin_f_size = round(max_f_size / len(fake_dirs))\n",
    "\tremaining_size = 0\n",
    "\t\n",
    "\tfor dir in tqdm(fake_dirs, desc=\"Collecting_metadatas from Fake Directories\"):\n",
    "\n",
    "\t\tdf, sampled_size = collect_metadatas(df, dir, 1, min_f_size + remaining_size)\n",
    "\n",
    "\t\tif(sampled_size < min_f_size):\n",
    "\t\t\tremaining_size = min_f_size - sampled_size\n",
    "\t\telse:\n",
    "\t\t\tremaining_size = 0\n",
    "\n",
    "\tif remaining_size > 0: \n",
    "\t\tprint(\"Correct sampling size could not be reached from the given fake_dirs\")\n",
    "\t\tprint(\"Actual sampled size: \" + max_f_size-remaining_size)\n",
    "\t\tmax_f_size = max_f_size - remaining_size\n",
    "\n",
    "\t\n",
    "\tfor index, row in tqdm(df.iterrows(), total=df.shape[0], desc=\"Updating filenames to avoid duplicates\"):\n",
    "\t\tdf.at[index, \"filename\"] = row[\"image_path\"].replace(\"/\",\"+\")\n",
    "\n",
    "\n",
    "\tdf_to_csv(df, \"dataset_partition.csv\", DATASET_PATH + \"dataset_partition.csv\")\n"
   ]
  },
  {
   "cell_type": "code",
   "execution_count": 8,
   "metadata": {},
   "outputs": [
    {
     "name": "stdout",
     "output_type": "stream",
     "text": [
      "['afhq', 'celebahq', 'coco', 'ffhq', 'imagenet', 'landscape', 'lsun', 'metfaces', 'cycle_gan', 'pro_gan']\n",
      "['big_gan', 'cips', 'cycle_gan', 'ddpm', 'denoising_diffusion_gan', 'diffusion_gan', 'face_synthetics', 'gansformer', 'gau_gan', 'generative_inpainting', 'glide', 'lama', 'latent_diffusion', 'mat', 'palette', 'pro_gan', 'projected_gan', 'sfhq', 'stable_diffusion', 'star_gan', 'stylegan1', 'stylegan2', 'stylegan3', 'taming_transformer', 'vq_diffusion']\n"
     ]
    }
   ],
   "source": [
    "#!!The following code it's only for convenience purpose!!\n",
    "\n",
    "print(REAL_DIRS)\n",
    "print(FAKE_DIRS)\n",
    "\n",
    "#CYCLE_GAN and PRO_GAN contains both real and fake images"
   ]
  },
  {
   "cell_type": "code",
   "execution_count": 9,
   "metadata": {},
   "outputs": [
    {
     "data": {
      "application/vnd.jupyter.widget-view+json": {
       "model_id": "af35a97c1670497dbc05afaa3d41c262",
       "version_major": 2,
       "version_minor": 0
      },
      "text/plain": [
       "Collecting metadatas from Real Directories:   0%|          | 0/3 [00:00<?, ?it/s]"
      ]
     },
     "metadata": {},
     "output_type": "display_data"
    },
    {
     "data": {
      "application/vnd.jupyter.widget-view+json": {
       "model_id": "67bed74e364f4e93acc5c4e15e5ea868",
       "version_major": 2,
       "version_minor": 0
      },
      "text/plain": [
       "Collecting_metadatas from Fake Directories:   0%|          | 0/3 [00:00<?, ?it/s]"
      ]
     },
     "metadata": {},
     "output_type": "display_data"
    },
    {
     "data": {
      "application/vnd.jupyter.widget-view+json": {
       "model_id": "034dd0dd482e46a79201d0115d626245",
       "version_major": 2,
       "version_minor": 0
      },
      "text/plain": [
       "Updating filenames to avoid duplicates:   0%|          | 0/60000 [00:00<?, ?it/s]"
      ]
     },
     "metadata": {},
     "output_type": "display_data"
    },
    {
     "data": {
      "application/vnd.jupyter.widget-view+json": {
       "model_id": "ab1e17c3f3ea4d3cb9f59c86ceadfdf7",
       "version_major": 2,
       "version_minor": 0
      },
      "text/plain": [
       "Creating 'dataset_partition.csv' file:   0%|          | 0/100 [00:00<?, ?it/s]"
      ]
     },
     "metadata": {},
     "output_type": "display_data"
    },
    {
     "name": "stdout",
     "output_type": "stream",
     "text": [
      "'dataset_partition.csv' has been successfully created.\n"
     ]
    }
   ],
   "source": [
    "#dirs name above\n",
    "real_dirs = ['coco', 'lsun', 'imagenet']\n",
    "fake_dirs = ['big_gan', 'latent_diffusion', 'taming_transformer']\n",
    "\n",
    "create_dataset_partition(60000, real_dirs, fake_dirs)"
   ]
  },
  {
   "cell_type": "markdown",
   "metadata": {},
   "source": [
    "# TRAINING SET / TEST SET SPLIT"
   ]
  },
  {
   "cell_type": "code",
   "execution_count": 10,
   "metadata": {},
   "outputs": [],
   "source": [
    "def custom_train_test_split(ds_partition_df, real_dirs, fake_dirs):\n",
    "\t\n",
    "\t# Initialization\n",
    "\tsize = len(ds_partition_df)\n",
    "\ttrain_df = ds_partition_df\n",
    "\ttest_df = pd.DataFrame(columns=['real', 'fake'])\n",
    "\n",
    "\t# Number of tuples to sample from each real images directory\n",
    "\treal_sample_size = round(size / 2 * 0.2 / len(real_dirs))\n",
    "\ti = 1\n",
    "\t#Iterate through the dataset partition and sample the same number of tuples for each fake images directory\n",
    "\tfor dir in tqdm(real_dirs, desc=\"Test set Real images sampling\"):\n",
    "\t\tsampled_size = 0\n",
    "\t\tfor index, row in train_df.iterrows():\n",
    "\t\t\tif sampled_size < real_sample_size:\n",
    "\t\t\t\timage_path = row[\"image_path\"]\n",
    "\t\t\t\tsplitted_path = image_path.split('/')[0]\n",
    "\t\t\t\tif dir==splitted_path:\n",
    "\t\t\t\t\ttest_df.loc[i] = [image_path, None]\n",
    "\t\t\t\t\ttrain_df = train_df.drop(index=index)\n",
    "\t\t\t\t\tsampled_size+=1\n",
    "\t\t\t\t\ti+=1\n",
    "\t\t\telse: break\n",
    "\t\n",
    "\t# Number of tuples to sample from each fake images directory\n",
    "\tfake_sample_size = round(size / 2 * 0.2 / len(fake_dirs))\n",
    "\ti = 1\n",
    "\t#Iterate through the dataset partition and sample the same number of tuples for each fake images directory\n",
    "\tfor dir in tqdm(fake_dirs, desc=\"Test set Fake images sampling\"):\n",
    "\t\t\tsampled_size = 0\n",
    "\t\t\tfor index, row in train_df.iterrows():\n",
    "\t\t\t\t\tif sampled_size < fake_sample_size:\n",
    "\t\t\t\t\t\t\timage_path = row[\"image_path\"]\n",
    "\t\t\t\t\t\t\tsplitted_path = image_path.split('/')[0]\n",
    "\t\t\t\t\t\t\tif dir == splitted_path:\n",
    "\t\t\t\t\t\t\t\t\ttest_df.loc[i] = [test_df.loc[i][\"real\"], image_path]\n",
    "\t\t\t\t\t\t\t\t\ttrain_df = train_df.drop(index=index)\n",
    "\t\t\t\t\t\t\t\t\tsampled_size+=1\n",
    "\t\t\t\t\t\t\t\t\ti+=1\n",
    "\n",
    "\t\t\t\t\telse: break\n",
    "\n",
    "\treturn train_df, test_df"
   ]
  },
  {
   "cell_type": "code",
   "execution_count": 12,
   "metadata": {},
   "outputs": [],
   "source": [
    "def generate_training_test_sets(ds_partition_path, real_dirs, fake_dirs):\n",
    "\t\n",
    "\tds_partition_df = pd.read_csv(ds_partition_path)\n",
    "\t\n",
    "\tpre_train_df, test_df = custom_train_test_split(ds_partition_df, real_dirs, fake_dirs)\n",
    "\n",
    "\tdf_to_csv(pre_train_df, \"pre_trainingSet.csv\", DATASET_PATH + \"pre_trainingSet.csv\")\n",
    "\tdf_to_csv(test_df, \"testSet.csv\", DATASET_PATH + \"testSet.csv\")"
   ]
  },
  {
   "cell_type": "code",
   "execution_count": 13,
   "metadata": {},
   "outputs": [
    {
     "data": {
      "application/vnd.jupyter.widget-view+json": {
       "model_id": "19cdbab703be4f7abbe1b33b455a9b00",
       "version_major": 2,
       "version_minor": 0
      },
      "text/plain": [
       "Test set Real images sampling:   0%|          | 0/3 [00:00<?, ?it/s]"
      ]
     },
     "metadata": {},
     "output_type": "display_data"
    },
    {
     "data": {
      "application/vnd.jupyter.widget-view+json": {
       "model_id": "da34c81ce68640749a78271ea07c3cd0",
       "version_major": 2,
       "version_minor": 0
      },
      "text/plain": [
       "Test set Fake images sampling:   0%|          | 0/3 [00:00<?, ?it/s]"
      ]
     },
     "metadata": {},
     "output_type": "display_data"
    },
    {
     "data": {
      "application/vnd.jupyter.widget-view+json": {
       "model_id": "c0be78ccfc8d4f92b69566af46be963d",
       "version_major": 2,
       "version_minor": 0
      },
      "text/plain": [
       "Creating 'pre_trainingSet.csv' file:   0%|          | 0/100 [00:00<?, ?it/s]"
      ]
     },
     "metadata": {},
     "output_type": "display_data"
    },
    {
     "name": "stdout",
     "output_type": "stream",
     "text": [
      "'pre_trainingSet.csv' has been successfully created.\n"
     ]
    },
    {
     "data": {
      "application/vnd.jupyter.widget-view+json": {
       "model_id": "4457ed4e7bbf4ad985d790e328bbd9f2",
       "version_major": 2,
       "version_minor": 0
      },
      "text/plain": [
       "Creating 'testSet.csv' file:   0%|          | 0/100 [00:00<?, ?it/s]"
      ]
     },
     "metadata": {},
     "output_type": "display_data"
    },
    {
     "name": "stdout",
     "output_type": "stream",
     "text": [
      "'testSet.csv' has been successfully created.\n"
     ]
    }
   ],
   "source": [
    "generate_training_test_sets(DATASET_PATH + \"dataset_partition.csv\", real_dirs, fake_dirs)"
   ]
  },
  {
   "cell_type": "code",
   "execution_count": 17,
   "metadata": {},
   "outputs": [],
   "source": [
    "pre_train_df = pd.read_csv(DATASET_PATH + \"pre_trainingSet.csv\")\n",
    "test_df = pd.read_csv(DATASET_PATH + \"testSet.csv\")"
   ]
  },
  {
   "cell_type": "code",
   "execution_count": 18,
   "metadata": {},
   "outputs": [
    {
     "data": {
      "text/html": [
       "<div>\n",
       "<style scoped>\n",
       "    .dataframe tbody tr th:only-of-type {\n",
       "        vertical-align: middle;\n",
       "    }\n",
       "\n",
       "    .dataframe tbody tr th {\n",
       "        vertical-align: top;\n",
       "    }\n",
       "\n",
       "    .dataframe thead th {\n",
       "        text-align: right;\n",
       "    }\n",
       "</style>\n",
       "<table border=\"1\" class=\"dataframe\">\n",
       "  <thead>\n",
       "    <tr style=\"text-align: right;\">\n",
       "      <th></th>\n",
       "      <th>filename</th>\n",
       "      <th>image_path</th>\n",
       "      <th>target</th>\n",
       "      <th>category</th>\n",
       "    </tr>\n",
       "  </thead>\n",
       "  <tbody>\n",
       "    <tr>\n",
       "      <th>0</th>\n",
       "      <td>coco+coco+coco2017+test2017+img021550.jpg</td>\n",
       "      <td>coco/coco/coco2017/test2017/img021550.jpg</td>\n",
       "      <td>0</td>\n",
       "      <td>test2017</td>\n",
       "    </tr>\n",
       "    <tr>\n",
       "      <th>1</th>\n",
       "      <td>coco+coco+coco2017+train2017+img070651.jpg</td>\n",
       "      <td>coco/coco/coco2017/train2017/img070651.jpg</td>\n",
       "      <td>0</td>\n",
       "      <td>train2017</td>\n",
       "    </tr>\n",
       "    <tr>\n",
       "      <th>2</th>\n",
       "      <td>coco+coco+coco2017+train2017+img078157.jpg</td>\n",
       "      <td>coco/coco/coco2017/train2017/img078157.jpg</td>\n",
       "      <td>0</td>\n",
       "      <td>train2017</td>\n",
       "    </tr>\n",
       "    <tr>\n",
       "      <th>3</th>\n",
       "      <td>coco+coco+coco2017+train2017+img141336.jpg</td>\n",
       "      <td>coco/coco/coco2017/train2017/img141336.jpg</td>\n",
       "      <td>0</td>\n",
       "      <td>train2017</td>\n",
       "    </tr>\n",
       "    <tr>\n",
       "      <th>4</th>\n",
       "      <td>coco+coco+coco2017+train2017+img078071.jpg</td>\n",
       "      <td>coco/coco/coco2017/train2017/img078071.jpg</td>\n",
       "      <td>0</td>\n",
       "      <td>train2017</td>\n",
       "    </tr>\n",
       "    <tr>\n",
       "      <th>...</th>\n",
       "      <td>...</td>\n",
       "      <td>...</td>\n",
       "      <td>...</td>\n",
       "      <td>...</td>\n",
       "    </tr>\n",
       "    <tr>\n",
       "      <th>47995</th>\n",
       "      <td>taming_transformer+tt-ffhq+ffhq_k300_p1.0_fid9...</td>\n",
       "      <td>taming_transformer/tt-ffhq/ffhq_k300_p1.0_fid9...</td>\n",
       "      <td>5</td>\n",
       "      <td>tt-ffhq</td>\n",
       "    </tr>\n",
       "    <tr>\n",
       "      <th>47996</th>\n",
       "      <td>taming_transformer+tt-cc+cin_k600_p1.0_a0.05_f...</td>\n",
       "      <td>taming_transformer/tt-cc/cin_k600_p1.0_a0.05_f...</td>\n",
       "      <td>5</td>\n",
       "      <td>tt-cc</td>\n",
       "    </tr>\n",
       "    <tr>\n",
       "      <th>47997</th>\n",
       "      <td>taming_transformer+tt-cc+cin_k600_p1.0_a0.05_f...</td>\n",
       "      <td>taming_transformer/tt-cc/cin_k600_p1.0_a0.05_f...</td>\n",
       "      <td>5</td>\n",
       "      <td>tt-cc</td>\n",
       "    </tr>\n",
       "    <tr>\n",
       "      <th>47998</th>\n",
       "      <td>taming_transformer+tt-coco+samples_nopix+img00...</td>\n",
       "      <td>taming_transformer/tt-coco/samples_nopix/img00...</td>\n",
       "      <td>5</td>\n",
       "      <td>tt-coco</td>\n",
       "    </tr>\n",
       "    <tr>\n",
       "      <th>47999</th>\n",
       "      <td>taming_transformer+tt-cc+cin_k600_p1.0_a0.05_f...</td>\n",
       "      <td>taming_transformer/tt-cc/cin_k600_p1.0_a0.05_f...</td>\n",
       "      <td>5</td>\n",
       "      <td>tt-cc</td>\n",
       "    </tr>\n",
       "  </tbody>\n",
       "</table>\n",
       "<p>48000 rows × 4 columns</p>\n",
       "</div>"
      ],
      "text/plain": [
       "                                                filename  \\\n",
       "0              coco+coco+coco2017+test2017+img021550.jpg   \n",
       "1             coco+coco+coco2017+train2017+img070651.jpg   \n",
       "2             coco+coco+coco2017+train2017+img078157.jpg   \n",
       "3             coco+coco+coco2017+train2017+img141336.jpg   \n",
       "4             coco+coco+coco2017+train2017+img078071.jpg   \n",
       "...                                                  ...   \n",
       "47995  taming_transformer+tt-ffhq+ffhq_k300_p1.0_fid9...   \n",
       "47996  taming_transformer+tt-cc+cin_k600_p1.0_a0.05_f...   \n",
       "47997  taming_transformer+tt-cc+cin_k600_p1.0_a0.05_f...   \n",
       "47998  taming_transformer+tt-coco+samples_nopix+img00...   \n",
       "47999  taming_transformer+tt-cc+cin_k600_p1.0_a0.05_f...   \n",
       "\n",
       "                                              image_path  target   category  \n",
       "0              coco/coco/coco2017/test2017/img021550.jpg       0   test2017  \n",
       "1             coco/coco/coco2017/train2017/img070651.jpg       0  train2017  \n",
       "2             coco/coco/coco2017/train2017/img078157.jpg       0  train2017  \n",
       "3             coco/coco/coco2017/train2017/img141336.jpg       0  train2017  \n",
       "4             coco/coco/coco2017/train2017/img078071.jpg       0  train2017  \n",
       "...                                                  ...     ...        ...  \n",
       "47995  taming_transformer/tt-ffhq/ffhq_k300_p1.0_fid9...       5    tt-ffhq  \n",
       "47996  taming_transformer/tt-cc/cin_k600_p1.0_a0.05_f...       5      tt-cc  \n",
       "47997  taming_transformer/tt-cc/cin_k600_p1.0_a0.05_f...       5      tt-cc  \n",
       "47998  taming_transformer/tt-coco/samples_nopix/img00...       5    tt-coco  \n",
       "47999  taming_transformer/tt-cc/cin_k600_p1.0_a0.05_f...       5      tt-cc  \n",
       "\n",
       "[48000 rows x 4 columns]"
      ]
     },
     "execution_count": 18,
     "metadata": {},
     "output_type": "execute_result"
    }
   ],
   "source": [
    "pre_train_df"
   ]
  },
  {
   "cell_type": "code",
   "execution_count": 19,
   "metadata": {},
   "outputs": [
    {
     "data": {
      "text/html": [
       "<div>\n",
       "<style scoped>\n",
       "    .dataframe tbody tr th:only-of-type {\n",
       "        vertical-align: middle;\n",
       "    }\n",
       "\n",
       "    .dataframe tbody tr th {\n",
       "        vertical-align: top;\n",
       "    }\n",
       "\n",
       "    .dataframe thead th {\n",
       "        text-align: right;\n",
       "    }\n",
       "</style>\n",
       "<table border=\"1\" class=\"dataframe\">\n",
       "  <thead>\n",
       "    <tr style=\"text-align: right;\">\n",
       "      <th></th>\n",
       "      <th>real</th>\n",
       "      <th>fake</th>\n",
       "    </tr>\n",
       "  </thead>\n",
       "  <tbody>\n",
       "    <tr>\n",
       "      <th>0</th>\n",
       "      <td>coco/coco/coco2017/test2017/img034161.jpg</td>\n",
       "      <td>big_gan/big/biggan-data/472/img004157.jpg</td>\n",
       "    </tr>\n",
       "    <tr>\n",
       "      <th>1</th>\n",
       "      <td>coco/coco/coco2017/train2017/img123159.jpg</td>\n",
       "      <td>big_gan/big/biggan-data/472/img004159.jpg</td>\n",
       "    </tr>\n",
       "    <tr>\n",
       "      <th>2</th>\n",
       "      <td>coco/coco/coco2017/train2017/img051061.jpg</td>\n",
       "      <td>big_gan/big/biggan-data/856/img008416.jpg</td>\n",
       "    </tr>\n",
       "    <tr>\n",
       "      <th>3</th>\n",
       "      <td>coco/coco/coco2017/test2017/img034059.jpg</td>\n",
       "      <td>big_gan/big/biggan-data/924/img009171.jpg</td>\n",
       "    </tr>\n",
       "    <tr>\n",
       "      <th>4</th>\n",
       "      <td>coco/coco/coco2017/train2017/img071200.jpg</td>\n",
       "      <td>big_gan/big/biggan-data/383/img003163.jpg</td>\n",
       "    </tr>\n",
       "    <tr>\n",
       "      <th>...</th>\n",
       "      <td>...</td>\n",
       "      <td>...</td>\n",
       "    </tr>\n",
       "    <tr>\n",
       "      <th>5995</th>\n",
       "      <td>imagenet/imagenet/val/n04005630/img094869.jpg</td>\n",
       "      <td>taming_transformer/tt-cc/cin_k600_p1.0_a0.05_f...</td>\n",
       "    </tr>\n",
       "    <tr>\n",
       "      <th>5996</th>\n",
       "      <td>imagenet/imagenet/train/n02093859/img014681.jpg</td>\n",
       "      <td>taming_transformer/tt-cc/cin_k600_p1.0_a0.05_f...</td>\n",
       "    </tr>\n",
       "    <tr>\n",
       "      <th>5997</th>\n",
       "      <td>imagenet/imagenet/train/n01534433/img001050.jpg</td>\n",
       "      <td>taming_transformer/tt-ffhq/ffhq_k300_p1.0_fid9...</td>\n",
       "    </tr>\n",
       "    <tr>\n",
       "      <th>5998</th>\n",
       "      <td>imagenet/imagenet/train/n03125729/img041337.jpg</td>\n",
       "      <td>taming_transformer/tt-cc/cin_k600_p1.0_a0.05_f...</td>\n",
       "    </tr>\n",
       "    <tr>\n",
       "      <th>5999</th>\n",
       "      <td>imagenet/imagenet/train/n01818515/img007111.jpg</td>\n",
       "      <td>taming_transformer/tt-coco/samples_nopix/img00...</td>\n",
       "    </tr>\n",
       "  </tbody>\n",
       "</table>\n",
       "<p>6000 rows × 2 columns</p>\n",
       "</div>"
      ],
      "text/plain": [
       "                                                 real  \\\n",
       "0           coco/coco/coco2017/test2017/img034161.jpg   \n",
       "1          coco/coco/coco2017/train2017/img123159.jpg   \n",
       "2          coco/coco/coco2017/train2017/img051061.jpg   \n",
       "3           coco/coco/coco2017/test2017/img034059.jpg   \n",
       "4          coco/coco/coco2017/train2017/img071200.jpg   \n",
       "...                                               ...   \n",
       "5995    imagenet/imagenet/val/n04005630/img094869.jpg   \n",
       "5996  imagenet/imagenet/train/n02093859/img014681.jpg   \n",
       "5997  imagenet/imagenet/train/n01534433/img001050.jpg   \n",
       "5998  imagenet/imagenet/train/n03125729/img041337.jpg   \n",
       "5999  imagenet/imagenet/train/n01818515/img007111.jpg   \n",
       "\n",
       "                                                   fake  \n",
       "0             big_gan/big/biggan-data/472/img004157.jpg  \n",
       "1             big_gan/big/biggan-data/472/img004159.jpg  \n",
       "2             big_gan/big/biggan-data/856/img008416.jpg  \n",
       "3             big_gan/big/biggan-data/924/img009171.jpg  \n",
       "4             big_gan/big/biggan-data/383/img003163.jpg  \n",
       "...                                                 ...  \n",
       "5995  taming_transformer/tt-cc/cin_k600_p1.0_a0.05_f...  \n",
       "5996  taming_transformer/tt-cc/cin_k600_p1.0_a0.05_f...  \n",
       "5997  taming_transformer/tt-ffhq/ffhq_k300_p1.0_fid9...  \n",
       "5998  taming_transformer/tt-cc/cin_k600_p1.0_a0.05_f...  \n",
       "5999  taming_transformer/tt-coco/samples_nopix/img00...  \n",
       "\n",
       "[6000 rows x 2 columns]"
      ]
     },
     "execution_count": 19,
     "metadata": {},
     "output_type": "execute_result"
    }
   ],
   "source": [
    "test_df"
   ]
  }
 ],
 "metadata": {
  "kernelspec": {
   "display_name": "deepfake",
   "language": "python",
   "name": "python3"
  },
  "language_info": {
   "codemirror_mode": {
    "name": "ipython",
    "version": 3
   },
   "file_extension": ".py",
   "mimetype": "text/x-python",
   "name": "python",
   "nbconvert_exporter": "python",
   "pygments_lexer": "ipython3",
   "version": "3.10.14"
  }
 },
 "nbformat": 4,
 "nbformat_minor": 2
}
