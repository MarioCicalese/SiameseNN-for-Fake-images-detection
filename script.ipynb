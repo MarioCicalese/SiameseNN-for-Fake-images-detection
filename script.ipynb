{
 "cells": [
  {
   "cell_type": "code",
   "execution_count": 73,
   "metadata": {},
   "outputs": [],
   "source": [
    "import os\n",
    "import csv\n",
    "import pandas as pd"
   ]
  },
  {
   "cell_type": "code",
   "execution_count": 86,
   "metadata": {},
   "outputs": [],
   "source": [
    "DATASET_PATH = \"C:\\\\Users\\\\mario\\\\Desktop\\\\Biometria\\\\ArtiFact dataset\\\\\"\n",
    "\n",
    "REAL_NAME_DIR = [\"afhq\", \"celebahq\", \"coco\", \"ffhq\", \"imagenet\", \"landscape\", \"lsun\", \"metfaces\", \"cycle_gan\"]\n",
    "\n",
    "FAKE_NAME_DIR = [\"big_gan\", \"cips\", \"cycle_gan\", \"ddpm\", \"denoising_diffusion_gan\", \"diffusion_gan\", \"face_synthetics\", \n",
    "                 \"gansformer\", \"gau_gan\", \"generative_inpainting\", \"glide\", \"lama\", \"latent_diffusion\", \"mat\", \"palette\", \n",
    "                 \"pro_gan\", \"projected_gan\", \"sfhq\", \"stable_diffusion\", \"star_gan\", \"stylegan1\", \"stylegan2\", \"stylegan3\",\n",
    "                 \"taming_transformer\", \"vq_diffusion\"]\n",
    "\n",
    "REAL_NAME_DIR_FILTERED = [\"coco\"]\n",
    "FAKE_NAME_DIR_FILTERED = [\"big_gan\"]\n",
    "\n",
    "DIR_DATASET = os.listdir(DATASET_PATH)\n",
    "\n",
    "CSV_REAL_PATH = \"C:\\\\Users\\\\mario\\\\Desktop\\\\Biometria\\\\ArtiFact dataset\\\\real.csv\"\n",
    "CSV_FAKE_PATH = \"C:\\\\Users\\\\mario\\\\Desktop\\\\Biometria\\\\ArtiFact dataset\\\\fake.csv\"\n",
    "TINY_DATASET = \"C:\\\\Users\\\\mario\\\\Desktop\\\\Biometria\\\\ArtiFact dataset\\\\tinydataset.csv\"\n",
    "\n",
    "csv_columns_name = ['filename', 'image_path', 'target', 'category']"
   ]
  },
  {
   "cell_type": "code",
   "execution_count": 75,
   "metadata": {},
   "outputs": [],
   "source": [
    "for folder in DIR_DATASET:\n",
    "    if folder not in REAL_NAME_DIR + FAKE_NAME_DIR:\n",
    "        print(\"Folder \"+folder+\" does not exist\")"
   ]
  },
  {
   "cell_type": "code",
   "execution_count": 82,
   "metadata": {},
   "outputs": [],
   "source": [
    "def create_real_csv():\n",
    "    real_csv = pd.DataFrame(columns = csv_columns_name)\n",
    "    real_csv.to_csv(CSV_REAL_PATH, index=False)\n",
    "\n",
    "    for dir in REAL_NAME_DIR:\n",
    "        with open(DATASET_PATH + dir + \"\\\\metadata.csv\", mode='r', newline='') as current_csv:\n",
    "\n",
    "            current_csv = pd.read_csv(current_csv)\n",
    "            real_csv = pd.concat([real_csv,current_csv[current_csv['target'] == 0]], ignore_index=True)\n",
    "\n",
    "            real_csv.to_csv(CSV_REAL_PATH, index=False)\n",
    "\n",
    "def create_fake_csv():\n",
    "    fake_csv = pd.DataFrame(columns = csv_columns_name)\n",
    "    fake_csv.to_csv(CSV_FAKE_PATH, index=False)\n",
    "\n",
    "    for dir in FAKE_NAME_DIR:\n",
    "        with open(DATASET_PATH + dir + \"\\\\metadata.csv\", mode='r', newline='') as current_csv:\n",
    "\n",
    "            current_csv = pd.read_csv(current_csv)\n",
    "            fake_csv = pd.concat([fake_csv,current_csv[current_csv['target'] != 0]], ignore_index=True)\n",
    "\n",
    "            fake_csv.to_csv(CSV_FAKE_PATH, index=False)\n",
    "            "
   ]
  },
  {
   "cell_type": "code",
   "execution_count": 83,
   "metadata": {},
   "outputs": [
    {
     "name": "stdout",
     "output_type": "stream",
     "text": [
      "real.csv already exist.\n",
      "fake.csv already exist.\n"
     ]
    }
   ],
   "source": [
    "current_dir = os.listdir(DATASET_PATH)\n",
    "\n",
    "if \"real.csv\" not in current_dir:\n",
    "    create_real_csv()\n",
    "    print(\"real.csv has been created.\")\n",
    "else:\n",
    "    print(\"real.csv already exist.\")\n",
    "\n",
    "if \"fake.csv\" not in current_dir:\n",
    "    create_fake_csv()\n",
    "    print(\"fake.csv has been created.\")\n",
    "else:\n",
    "    print(\"fake.csv already exist.\")"
   ]
  },
  {
   "cell_type": "code",
   "execution_count": 88,
   "metadata": {},
   "outputs": [],
   "source": [
    "dir = \"big_gan\" \n",
    "\n",
    "tiny_csv = pd.DataFrame(columns = csv_columns_name)\n",
    "tiny_csv.to_csv(TINY_DATASET, index=False)\n",
    "\n",
    "with open(DATASET_PATH + dir + \"\\\\metadata.csv\", mode='r', newline='') as biggan_csv:\n",
    "    biggan_csv = pd.read_csv(biggan_csv)\n",
    "    tiny_csv = pd.concat([tiny_csv,biggan_csv], ignore_index=True)\n",
    "\n",
    "    tiny_csv.to_csv(TINY_DATASET, index=False)\n",
    "\n",
    "with open(DATASET_PATH + \"coco\" + \"\\\\metadata.csv\", mode='r', newline='') as coco_csv:\n",
    "    coco_csv = pd.read_csv(coco_csv)\n",
    "    tiny_csv = pd.concat([tiny_csv,coco_csv.sample(n=10000)], ignore_index=True)\n",
    "    \n",
    "    tiny_csv.to_csv(TINY_DATASET, index=False)"
   ]
  },
  {
   "cell_type": "code",
   "execution_count": null,
   "metadata": {},
   "outputs": [],
   "source": []
  }
 ],
 "metadata": {
  "kernelspec": {
   "display_name": "deepfake",
   "language": "python",
   "name": "python3"
  },
  "language_info": {
   "codemirror_mode": {
    "name": "ipython",
    "version": 3
   },
   "file_extension": ".py",
   "mimetype": "text/x-python",
   "name": "python",
   "nbconvert_exporter": "python",
   "pygments_lexer": "ipython3",
   "version": "3.10.14"
  }
 },
 "nbformat": 4,
 "nbformat_minor": 2
}
