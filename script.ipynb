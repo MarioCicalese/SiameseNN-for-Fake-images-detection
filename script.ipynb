{
 "cells": [
  {
   "cell_type": "code",
   "execution_count": 1,
   "metadata": {},
   "outputs": [],
   "source": [
    "import os\n",
    "import cv2\n",
    "import csv\n",
    "import pandas as pd\n",
    "import numpy as np\n",
    "from constants import DatasetPath\n",
    "from matplotlib import pyplot as plt\n",
    "from tqdm.notebook import tqdm"
   ]
  },
  {
   "cell_type": "code",
   "execution_count": 2,
   "metadata": {},
   "outputs": [],
   "source": [
    "#Utility constants\n",
    "DATASET_PATH = DatasetPath.effectivePath\n",
    "\n",
    "def DATASET_DIRS():\n",
    "    return os.listdir(DATASET_PATH)\n",
    "\n",
    "REAL_DIRS = [\"afhq\", \"celebahq\", \"coco\", \"ffhq\", \"imagenet\", \"landscape\", \"lsun\", \"metfaces\", \"cycle_gan\"]\n",
    "\n",
    "FAKE_DIRS = [\"big_gan\", \"cips\", \"cycle_gan\", \"ddpm\", \"denoising_diffusion_gan\", \"diffusion_gan\", \"face_synthetics\", \n",
    "                 \"gansformer\", \"gau_gan\", \"generative_inpainting\", \"glide\", \"lama\", \"latent_diffusion\", \"mat\", \"palette\", \n",
    "                 \"pro_gan\", \"projected_gan\", \"sfhq\", \"stable_diffusion\", \"star_gan\", \"stylegan1\", \"stylegan2\", \"stylegan3\",\n",
    "                 \"taming_transformer\", \"vq_diffusion\"]\n",
    "\n",
    "csv_columns_name = ['filename', 'image_path', 'target', 'category']\n",
    "REAL_CSV_PATH = DATASET_PATH + \"real.csv\"\n",
    "FAKE_CSV_PATH = DATASET_PATH + \"fake.csv\"\n",
    "DIR_FOURIER_PATH = DATASET_PATH + \"fourier\\\\\"\n",
    "FFTS_PATH = DIR_FOURIER_PATH + \"fourier\\\\\""
   ]
  },
  {
   "cell_type": "code",
   "execution_count": 3,
   "metadata": {},
   "outputs": [],
   "source": [
    "def checkDatasetSync():\n",
    "    \"\"\"\n",
    "    Checks wether data loss occured during the download and unzip process.\n",
    "    \"\"\"\n",
    "    sync = True\n",
    "    \n",
    "    for folder in tqdm(DATASET_DIRS()):\n",
    "        if folder not in REAL_DIRS + FAKE_DIRS:\n",
    "            # exclude other files \n",
    "            if not (\".csv\" in folder or folder == \"fourier\"):\n",
    "                print(\"Folder \" + folder + \" does not exist.\")\n",
    "                sync = False\n",
    "\n",
    "    if sync: print(\"Dataset correctly synchronized.\")"
   ]
  },
  {
   "cell_type": "code",
   "execution_count": 4,
   "metadata": {},
   "outputs": [
    {
     "data": {
      "application/vnd.jupyter.widget-view+json": {
       "model_id": "70caa5ebd37d4de7bdbe60451bcbf304",
       "version_major": 2,
       "version_minor": 0
      },
      "text/plain": [
       "  0%|          | 0/37 [00:00<?, ?it/s]"
      ]
     },
     "metadata": {},
     "output_type": "display_data"
    },
    {
     "name": "stdout",
     "output_type": "stream",
     "text": [
      "Dataset correctly synchronized.\n"
     ]
    }
   ],
   "source": [
    "checkDatasetSync()"
   ]
  },
  {
   "cell_type": "code",
   "execution_count": 6,
   "metadata": {},
   "outputs": [],
   "source": [
    "def real_fake_csv_split():\n",
    "    \"\"\"\n",
    "    Calls 'create_csv()' to perform a metadata split creating different csv file for both real and fake images.\n",
    "        \n",
    "    \"\"\"\n",
    "    create_csv(\"real\")\n",
    "    create_csv(\"fake\")\n",
    "\n",
    "def create_csv(target):\n",
    "    \"\"\"\n",
    "    Performs a metadata split creating different csv file for both real and fake images.\n",
    "\n",
    "    Parametres\n",
    "    ----------\n",
    "        target (str): 'real' or 'fake', used to identify the image source.   \n",
    "    \"\"\"\n",
    "    csv = target + \".csv\"\n",
    "    dir_group = REAL_DIRS if target == \"real\" else FAKE_DIRS\n",
    "    csv_path = REAL_CSV_PATH if target == \"real\" else FAKE_CSV_PATH\n",
    "    \n",
    "    if csv in DATASET_DIRS():\n",
    "        print(csv + \" already exists.\")\n",
    "        \n",
    "        return\n",
    "    \n",
    "    csv_df = pd.DataFrame(columns = csv_columns_name)\n",
    "\n",
    "    # Images collection process\n",
    "    for dir in tqdm(dir_group, desc=\"Collecting \" + target + \" images\"):\n",
    "        csv_df = collect_metadatas(csv_df, dir, 0)\n",
    "\n",
    "    # DataFrame-to-csv conversion process\n",
    "    df_to_csv(csv_df, csv, csv_path)\n",
    "\n",
    "def collect_metadatas(df, dir, mode, size=None): \n",
    "    \"\"\"\n",
    "    Collects metadatas from a given directory into a Pandas DataFrame.\n",
    "\n",
    "    Parametres\n",
    "    ----------\n",
    "        df (pd.DataFrame): the DataFrame to collect metadatas into.\n",
    "        dir (str): the directory where the metadata file is stored.\n",
    "        mode (int): how the DataFrame is built\n",
    "            > 0: for real-fake split.\n",
    "            > 1: for balanced dataset partitioning (contains both fake and real images).\n",
    "        size (int, optional): optional parameter, used within mode 1. Default: None.\n",
    "\n",
    "    Returns\n",
    "    -------\n",
    "        pd.DataFrame: the updated Dataframe.\n",
    "    \"\"\"\n",
    "    with open(DATASET_PATH + dir + \"\\\\metadata.csv\", mode='r', newline='') as current_csv:\n",
    "\n",
    "        current_csv = pd.read_csv(current_csv)\n",
    "        image_path = dir + \"/\" + current_csv[\"image_path\"]\n",
    "        current_csv[\"image_path\"] = image_path.replace(\"/\",\"\\\\\")\n",
    "        \n",
    "        match mode:\n",
    "            case 0:\n",
    "                df = pd.concat([df,current_csv[current_csv['target'] == 0]], ignore_index=True) if dir in REAL_DIRS else pd.concat([df,current_csv[current_csv['target'] != 0]], ignore_index=True)\n",
    "                return df\n",
    "            \n",
    "            case 1:\n",
    "                #In this mode, the number of sampled images is also returned\n",
    "                length = len(current_csv)\n",
    "                if size > length:\n",
    "                    print(\"Error: sampling size cannot exceed the number of tuples in the dataframe.\")\n",
    "                    print(\"Only \" + length + \" tuples were sampled.\")\n",
    "                    df = pd.concat([df,current_csv.sample(length)], ignore_index=True)\n",
    "                    return df, length\n",
    "                else:\n",
    "                    df = pd.concat([df,current_csv.sample(size)], ignore_index=True)\n",
    "                    return df, size\n",
    "                \n",
    "            case _:\n",
    "                return \"Unkwon mode. Consult function doc for recognised modes.\"\n",
    "\n",
    "def df_to_csv(df, filename, path):\n",
    "    \"\"\"\n",
    "    Splits the DataFrame in chunks to enable tqdm progress visualization while converting the DataFrame into a '.csv' file.\n",
    "\n",
    "    Parametres\n",
    "    ----------\n",
    "        df (pd.DataFrame): the DataFrame to convert.\n",
    "        filename (str): the desired file name (comprehensive of '.csv' extension).\n",
    "        path (str): the path where the '.csv' will be stored.\n",
    "    \"\"\"\n",
    "    chunks = np.array_split(df.index, 100)\n",
    "    for chunck, subset in enumerate(tqdm(chunks, desc=\"Creating \\'\" + filename + \"\\' file\")):\n",
    "        if chunck == 0: # first row\n",
    "            df.loc[subset].to_csv(path, mode='w', index=False)\n",
    "        else:\n",
    "             df.loc[subset].to_csv(path, header=None, mode='a', index=False)\n",
    "    \n",
    "    print(\"\\'\" + filename + \"\\' has been successfully created.\")"
   ]
  },
  {
   "cell_type": "code",
   "execution_count": 7,
   "metadata": {},
   "outputs": [
    {
     "name": "stdout",
     "output_type": "stream",
     "text": [
      "real.csv already exists.\n",
      "fake.csv already exists.\n"
     ]
    }
   ],
   "source": [
    "real_fake_csv_split()"
   ]
  },
  {
   "cell_type": "code",
   "execution_count": 14,
   "metadata": {},
   "outputs": [],
   "source": [
    "def create_dataset_partition(filename, size, real_dirs, fake_dirs):\n",
    "    df = pd.DataFrame(columns = csv_columns_name)\n",
    "    \n",
    "    max_r_size = max_f_size = round(size / 2)\n",
    "    min_r_size = round(max_r_size / len(real_dirs))\n",
    "\n",
    "    remaining_size = 0\n",
    "    for dir in tqdm(real_dirs, desc=\"Collecting metadatas from Real Directories\"):\n",
    "        #Tries sampling an exact amount of tuples\n",
    "        #case 1: sampling size is equal or smaller than the number of images in the directory\n",
    "            # > No actions required\n",
    "        #case 2: sampling size is greater than the number of images in the directory\n",
    "            # > Errors are handled in the 'collect_metadatas' function\n",
    "            # > The following code ensure total sampling size is reached\n",
    "        \n",
    "        #sampled_size is the number of tuples actually sampled from the metadata.csv file in the currect directory\n",
    "        df, sampled_size = collect_metadatas(df, dir, 1, min_r_size + remaining_size)\n",
    "        \n",
    "        #if sampled_size is smaller than the what it should be\n",
    "        if(sampled_size < min_r_size):\n",
    "            #calculate the remaining tuples so that the function tries to sample it from the next directory\n",
    "            remaining_size = min_r_size - sampled_size\n",
    "        #if sampled_size is correct than there are no remaining tuples to sample\n",
    "        else:\n",
    "            remaining_size = 0\n",
    "    \n",
    "    if remaining_size > 0: \n",
    "        print(\"Correct sampling size could not be reached from the given real_dirs\")\n",
    "        print(\"Actual sampled size: \" + max_r_size-remaining_size)\n",
    "        max_f_size = max_f_size - remaining_size\n",
    "\n",
    "    min_f_size = round(max_f_size / len(fake_dirs))\n",
    "    remaining_size = 0\n",
    "    \n",
    "    for dir in tqdm(fake_dirs, desc=\"Collecting_metadatas from Fake Directories\"):\n",
    "\n",
    "        df, sampled_size = collect_metadatas(df, dir, 1, min_f_size + remaining_size)\n",
    "\n",
    "        if(sampled_size < min_f_size):\n",
    "            remaining_size = min_f_size - sampled_size\n",
    "        else:\n",
    "            remaining_size = 0\n",
    "\n",
    "    if remaining_size > 0: \n",
    "        print(\"Correct sampling size could not be reached from the given fake_dirs\")\n",
    "        print(\"Actual sampled size: \" + max_f_size-remaining_size)\n",
    "        max_f_size = max_f_size - remaining_size\n",
    "\n",
    "    df_to_csv(df, filename, DATASET_PATH+filename)"
   ]
  },
  {
   "cell_type": "code",
   "execution_count": 15,
   "metadata": {},
   "outputs": [
    {
     "data": {
      "application/vnd.jupyter.widget-view+json": {
       "model_id": "ad166c15d4544a6ea0a54344fd747735",
       "version_major": 2,
       "version_minor": 0
      },
      "text/plain": [
       "Collecting metadatas from Real Directories:   0%|          | 0/1 [00:00<?, ?it/s]"
      ]
     },
     "metadata": {},
     "output_type": "display_data"
    },
    {
     "data": {
      "application/vnd.jupyter.widget-view+json": {
       "model_id": "7c8db3523cb64f0da3866ad4a68bff6b",
       "version_major": 2,
       "version_minor": 0
      },
      "text/plain": [
       "Collecting_metadatas from Fake Directories:   0%|          | 0/1 [00:00<?, ?it/s]"
      ]
     },
     "metadata": {},
     "output_type": "display_data"
    },
    {
     "data": {
      "application/vnd.jupyter.widget-view+json": {
       "model_id": "5cd50b173a514a94ba227f20661095da",
       "version_major": 2,
       "version_minor": 0
      },
      "text/plain": [
       "Creating 'dataset_partition.csv' file:   0%|          | 0/100 [00:00<?, ?it/s]"
      ]
     },
     "metadata": {},
     "output_type": "display_data"
    },
    {
     "name": "stdout",
     "output_type": "stream",
     "text": [
      "'dataset_partition.csv' has been successfully created.\n"
     ]
    }
   ],
   "source": [
    "create_dataset_partition(\"dataset_partition.csv\", 20000, [\"coco\"], [\"big_gan\"])"
   ]
  },
  {
   "cell_type": "code",
   "execution_count": null,
   "metadata": {},
   "outputs": [],
   "source": [
    "if(\"fourier\" in DATASET_DIRS()):\n",
    "    print(\"Fourier folder already exist.\")\n",
    "else:\n",
    "    mode = 0o666\n",
    "    path = os.path.join(DATASET_PATH,\"fourier\")\n",
    "    os.mkdir(path,mode)\n",
    "    os.mkdir(path + \"\\\\fourier\", mode)"
   ]
  },
  {
   "cell_type": "code",
   "execution_count": null,
   "metadata": {},
   "outputs": [],
   "source": [
    "#APPLICO LA TRASFORMATA DI FOURIER SUL TINY DATASET\n",
    "\n",
    "fourier_csv = pd.DataFrame(columns = csv_columns_name)\n",
    "with open(DATASET_PATH  + \"\\\\tinydataset.csv\", mode='r', newline='') as tiny_dataset:\n",
    "    tiny_dataset_csv = pd.read_csv(tiny_dataset)\n",
    "    \n",
    "    for index, row in tqdm(tiny_dataset_csv.iterrows()):\n",
    "        path = DATASET_PATH + row[\"image_path\"]\n",
    "    \n",
    "        RGBimg = cv2.imread(path)\n",
    "        grayImg = cv2.cvtColor(RGBimg, cv2.COLOR_BGR2GRAY)\n",
    "        \n",
    "        fft_img = np.fft.fft2(grayImg)\n",
    "        fft_img = np.log(np.abs(fft_img))\n",
    "\n",
    "        min_val = np.min(fft_img)\n",
    "        max_val = np.max(fft_img)\n",
    "        \n",
    "        #fft_img = cv2.normalize(fft_img, None, 0, 255, cv2.NORM_MINMAX)\n",
    "        fft_img = (fft_img - min_val) * (255.0 / (max_val - min_val))\n",
    "        fft_img = np.uint8(fft_img)     \n",
    "        \n",
    "        filename = row[\"filename\"]\n",
    "        if row[\"target\"] == 0:\n",
    "            filename = filename.replace(\"img\",\"real\")\n",
    "        else:\n",
    "            filename = filename.replace(\"img\",\"fake\")\n",
    "\n",
    "        fft_path = FFTS_PATH + filename\n",
    "        cv2.imwrite(fft_path, fft_img)\n",
    "        \n",
    "        split_fft_path = fft_path.split(\"ArtiFact dataset\\\\\")[-1]\n",
    "        fourier_csv.loc[len(fourier_csv)] = [filename,split_fft_path,row[\"target\"],row[\"category\"]]\n",
    "    \n",
    "    fourier_csv.to_csv(DIR_FOURIER_PATH + \"metadata.csv\", index=False)\n",
    "    \n",
    "    #plt.imshow(fft_img)\n",
    "    #plt.show()"
   ]
  },
  {
   "cell_type": "code",
   "execution_count": null,
   "metadata": {},
   "outputs": [],
   "source": [
    "img = cv2.imread(\"C:\\\\Users\\\\mario\\\\Desktop\\\\Biometria\\\\ArtiFact dataset\\\\fourier\\\\fourier\\\\fake000000.jpg\", -1)\n",
    "print(img.shape)\n",
    "cv2.imshow(\"img\",img)\n",
    "cv2.waitKey(0)\n",
    "plt.imshow(img)\n",
    "plt.show()"
   ]
  },
  {
   "cell_type": "code",
   "execution_count": null,
   "metadata": {},
   "outputs": [],
   "source": [
    "input_df = pd.DataFrame(columns= [\"anchor\",\"positive\",\"negative\"])\n",
    "\n",
    "with open(DIR_FOURIER_PATH + \"metadata.csv\", mode='r', newline='') as fourier_csv:\n",
    "    fourier_df = pd.read_csv(fourier_csv)\n",
    "    input_df[\"anchor\"] = fourier_df[\"image_path\"]\n",
    "\n",
    "    real_fourier_df = fourier_df[ fourier_df[\"target\"] == 0 ]\n",
    "    fake_fourier_df = fourier_df[ fourier_df[\"target\"] != 0 ]\n",
    "    \n",
    "    \n",
    "    for index, row in input_df.iterrows():\n",
    "        image_path = row[\"anchor\"]\n",
    "        \n",
    "        if \"real\" in image_path:\n",
    "            positive_img = real_fourier_df.sample(frac=1).head(1)\n",
    "            while positive_img[\"image_path\"].iloc[0] == image_path:\n",
    "                positive_img = real_fourier_df.sample(frac=1).head(1)\n",
    "            input_df.at[index, \"positive\"] = positive_img[\"image_path\"].iloc[0]\n",
    "            negative_img = fake_fourier_df.sample(frac=1).head(1)\n",
    "            input_df.at[index, \"negative\"] = negative_img[\"image_path\"].iloc[0]\n",
    "        elif \"fake\" in image_path:\n",
    "            positive_img = real_fourier_df.sample(frac=1).head(1)\n",
    "            input_df.at[index, \"negative\"] = positive_img[\"image_path\"].iloc[0]\n",
    "            negative_img = fake_fourier_df.sample(frac=1).head(1)\n",
    "            while negative_img[\"image_path\"].iloc[0] == image_path:\n",
    "                negative_img = fake_fourier_df.sample(frac=1).head(1)\n",
    "            input_df.at[index, \"positive\"] = negative_img[\"image_path\"].iloc[0]\n",
    "            \n",
    "\n",
    "input_df.to_csv(DATASET_PATH + \"input.csv\", index=False)\n",
    "    "
   ]
  }
 ],
 "metadata": {
  "kernelspec": {
   "display_name": "deepfake",
   "language": "python",
   "name": "python3"
  },
  "language_info": {
   "codemirror_mode": {
    "name": "ipython",
    "version": 3
   },
   "file_extension": ".py",
   "mimetype": "text/x-python",
   "name": "python",
   "nbconvert_exporter": "python",
   "pygments_lexer": "ipython3",
   "version": "3.10.14"
  }
 },
 "nbformat": 4,
 "nbformat_minor": 2
}
