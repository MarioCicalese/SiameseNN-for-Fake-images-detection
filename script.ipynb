{
 "cells": [
  {
   "cell_type": "code",
   "execution_count": 82,
   "metadata": {},
   "outputs": [],
   "source": [
    "import os\n",
    "import cv2\n",
    "import csv\n",
    "import pandas as pd\n",
    "import numpy as np\n",
    "from constants import DatasetPath\n",
    "from matplotlib import pyplot as plt\n",
    "from tqdm.notebook import tqdm"
   ]
  },
  {
   "cell_type": "code",
   "execution_count": 76,
   "metadata": {},
   "outputs": [],
   "source": [
    "DATASET_PATH = DatasetPath.effectivePath\n",
    "\n",
    "REAL_NAME_DIR = [\"afhq\", \"celebahq\", \"coco\", \"ffhq\", \"imagenet\", \"landscape\", \"lsun\", \"metfaces\", \"cycle_gan\"]\n",
    "\n",
    "FAKE_NAME_DIR = [\"big_gan\", \"cips\", \"cycle_gan\", \"ddpm\", \"denoising_diffusion_gan\", \"diffusion_gan\", \"face_synthetics\", \n",
    "                 \"gansformer\", \"gau_gan\", \"generative_inpainting\", \"glide\", \"lama\", \"latent_diffusion\", \"mat\", \"palette\", \n",
    "                 \"pro_gan\", \"projected_gan\", \"sfhq\", \"stable_diffusion\", \"star_gan\", \"stylegan1\", \"stylegan2\", \"stylegan3\",\n",
    "                 \"taming_transformer\", \"vq_diffusion\"]\n",
    "\n",
    "REAL_NAME_DIR_FILTERED = [\"coco\"]\n",
    "FAKE_NAME_DIR_FILTERED = [\"big_gan\"]\n",
    "\n",
    "DIR_DATASET = os.listdir(DATASET_PATH)\n",
    "\n",
    "DIR_FOURIER_PATH = DATASET_PATH + \"fourier\\\\\"\n",
    "IMG_FOURIER_PATH = DIR_FOURIER_PATH + \"fourier\\\\\"\n",
    "CSV_REAL_PATH = DATASET_PATH + \"real.csv\"\n",
    "CSV_FAKE_PATH = DATASET_PATH + \"fake.csv\"\n",
    "TINY_DATASET = DATASET_PATH + \"tinydataset.csv\"\n",
    "\n",
    "csv_columns_name = ['filename', 'image_path', 'target', 'category']"
   ]
  },
  {
   "cell_type": "code",
   "execution_count": 3,
   "metadata": {},
   "outputs": [
    {
     "name": "stdout",
     "output_type": "stream",
     "text": [
      "Folder fake.csv does not exist\n",
      "Folder Fourier does not exist\n",
      "Folder real.csv does not exist\n",
      "Folder tinydataset.csv does not exist\n"
     ]
    }
   ],
   "source": [
    "for folder in DIR_DATASET:\n",
    "    if folder not in REAL_NAME_DIR + FAKE_NAME_DIR:\n",
    "        print(\"Folder \"+folder+\" does not exist\")"
   ]
  },
  {
   "cell_type": "code",
   "execution_count": 4,
   "metadata": {},
   "outputs": [],
   "source": [
    "current_dir = os.listdir(DATASET_PATH)\n",
    "\n",
    "def create_real_csv():\n",
    "    if \"real.csv\" in current_dir:\n",
    "        print(\"real.csv already exists.\")\n",
    "        return\n",
    "    \n",
    "    real_csv = pd.DataFrame(columns = csv_columns_name)\n",
    "    #real_csv.to_csv(CSV_REAL_PATH, index=False)\n",
    "\n",
    "    for dir in REAL_NAME_DIR:\n",
    "        with open(DATASET_PATH + dir + \"\\\\metadata.csv\", mode='r', newline='') as current_csv:\n",
    "\n",
    "            current_csv = pd.read_csv(current_csv)\n",
    "            image_path = current_csv[\"image_path\"]\n",
    "            image_path = dir + \"/\" + image_path\n",
    "            image_path = image_path.replace(\"/\",\"\\\\\")\n",
    "            current_csv[\"image_path\"] = image_path\n",
    "            real_csv = pd.concat([real_csv,current_csv[current_csv['target'] == 0]], ignore_index=True)\n",
    "\n",
    "    real_csv.to_csv(CSV_REAL_PATH, index=False)\n",
    "    print(\"real.csv has been created.\")\n",
    "\n",
    "def create_fake_csv():\n",
    "    if \"fake.csv\" in current_dir:\n",
    "        print(\"fake.csv already exists.\")\n",
    "        return\n",
    "    \n",
    "    fake_csv = pd.DataFrame(columns = csv_columns_name)\n",
    "    #fake_csv.to_csv(CSV_FAKE_PATH, index=False)\n",
    "\n",
    "    for dir in FAKE_NAME_DIR:\n",
    "        with open(DATASET_PATH + dir + \"\\\\metadata.csv\", mode='r', newline='') as current_csv:\n",
    "\n",
    "            current_csv = pd.read_csv(current_csv)\n",
    "            image_path = current_csv[\"image_path\"]\n",
    "            image_path = dir + \"/\" + image_path\n",
    "            image_path = image_path.replace(\"/\",\"\\\\\")\n",
    "            current_csv[\"image_path\"] = image_path\n",
    "            fake_csv = pd.concat([fake_csv,current_csv[current_csv['target'] != 0]], ignore_index=True)\n",
    "\n",
    "    fake_csv.to_csv(CSV_FAKE_PATH, index=False)\n",
    "    print(\"fake.csv has been created.\")\n",
    "            "
   ]
  },
  {
   "cell_type": "code",
   "execution_count": 5,
   "metadata": {},
   "outputs": [
    {
     "name": "stdout",
     "output_type": "stream",
     "text": [
      "real.csv already exists.\n",
      "fake.csv already exists.\n"
     ]
    }
   ],
   "source": [
    "create_real_csv()\n",
    "create_fake_csv()"
   ]
  },
  {
   "cell_type": "code",
   "execution_count": 90,
   "metadata": {},
   "outputs": [],
   "source": [
    "dir = \"big_gan\" \n",
    "\n",
    "tiny_csv = pd.DataFrame(columns = csv_columns_name)\n",
    "#tiny_csv.to_csv(TINY_DATASET, index=False)\n",
    "\n",
    "with open(DATASET_PATH + dir + \"\\\\metadata.csv\", mode='r', newline='') as biggan_csv:\n",
    "    biggan_csv = pd.read_csv(biggan_csv)\n",
    "    image_path = biggan_csv[\"image_path\"]\n",
    "    image_path = dir + \"/\" + image_path\n",
    "    image_path = image_path.replace(\"/\",\"\\\\\")\n",
    "    biggan_csv[\"image_path\"] = image_path\n",
    "    tiny_csv = pd.concat([tiny_csv,biggan_csv], ignore_index=True)\n",
    "\n",
    "    tiny_csv.to_csv(TINY_DATASET, index=False)\n",
    "\n",
    "with open(DATASET_PATH + \"coco\" + \"\\\\metadata.csv\", mode='r', newline='') as coco_csv:\n",
    "    coco_csv = pd.read_csv(coco_csv)\n",
    "    image_path = coco_csv[\"image_path\"]\n",
    "    image_path = \"coco\" + \"/\" + image_path\n",
    "    image_path = image_path.replace(\"/\",\"\\\\\")\n",
    "    coco_csv[\"image_path\"] = image_path\n",
    "    tiny_csv = pd.concat([tiny_csv,coco_csv.sample(n=10000)], ignore_index=True)\n",
    "    \n",
    "    tiny_csv.to_csv(TINY_DATASET, index=False)"
   ]
  },
  {
   "cell_type": "code",
   "execution_count": 60,
   "metadata": {},
   "outputs": [
    {
     "name": "stdout",
     "output_type": "stream",
     "text": [
      "Fourier folder already exist.\n"
     ]
    }
   ],
   "source": [
    "DIR_DATASET = os.listdir(DATASET_PATH)\n",
    "\n",
    "if(\"fourier\" in DIR_DATASET):\n",
    "    print(\"Fourier folder already exist.\")\n",
    "else:\n",
    "    mode = 0o666\n",
    "    path = os.path.join(DATASET_PATH,\"fourier\")\n",
    "    os.mkdir(path,mode)\n",
    "    os.mkdir(path + \"\\\\fourier\", mode)"
   ]
  },
  {
   "cell_type": "code",
   "execution_count": 91,
   "metadata": {},
   "outputs": [
    {
     "data": {
      "application/vnd.jupyter.widget-view+json": {
       "model_id": "13c0a64b23024bc8858219293161bdfd",
       "version_major": 2,
       "version_minor": 0
      },
      "text/plain": [
       "0it [00:00, ?it/s]"
      ]
     },
     "metadata": {},
     "output_type": "display_data"
    }
   ],
   "source": [
    "#APPLICO LA TRASFORMATA DI FOURIER\n",
    "\n",
    "fourier_csv = pd.DataFrame(columns = csv_columns_name)\n",
    "with open(DATASET_PATH  + \"\\\\tinydataset.csv\", mode='r', newline='') as tiny_dataset:\n",
    "    tiny_dataset_csv = pd.read_csv(tiny_dataset)\n",
    "    \n",
    "    for index, row in tqdm(tiny_dataset_csv.iterrows()):\n",
    "        path = DATASET_PATH + row[\"image_path\"]\n",
    "    \n",
    "        RGBimg = cv2.imread(path)\n",
    "        grayImg = cv2.cvtColor(RGBimg, cv2.COLOR_BGR2GRAY)\n",
    "        \n",
    "        fft_img = np.fft.fft2(grayImg)\n",
    "        fft_img = np.log(np.abs(fft_img))\n",
    "\n",
    "        fft_min = np.percentile(fft_img, 5)\n",
    "        fft_max = np.percentile(fft_img, 95)\n",
    "\n",
    "        #Questa è una normalizzazione che ho trovato su un codice. Serve a mettere in risalto le fingerprint\n",
    "        if (fft_max - fft_min) <= 0:\n",
    "            print('ma cosa...')\n",
    "            fft_img = (fft_img - fft_min) / ((fft_max - fft_min)+np.finfo(float).eps)\n",
    "        else:\n",
    "            fft_img = (fft_img - fft_min) / (fft_max - fft_min)\n",
    "            fft_img = (fft_img - 0.5) * 2\n",
    "            fft_img[fft_img < -1] = -1\n",
    "            fft_img[fft_img > 1] = 1\n",
    "        \n",
    "        fft_path = IMG_FOURIER_PATH + row[\"filename\"]\n",
    "        plt.imsave(fft_path, fft_img)\n",
    "        \n",
    "        split_fft_path = fft_path.split(\"ArtiFact dataset\\\\\")[-1]\n",
    "        fourier_csv.loc[len(fourier_csv)] = [row[\"filename\"],split_fft_path,row[\"target\"],row[\"category\"]]\n",
    "    \n",
    "    fourier_csv.to_csv(DIR_FOURIER_PATH + \"metadata.csv\", index=False)\n",
    "    \n",
    "    #plt.imshow(fft_img)\n",
    "    #plt.show()"
   ]
  }
 ],
 "metadata": {
  "kernelspec": {
   "display_name": "deepfake",
   "language": "python",
   "name": "python3"
  },
  "language_info": {
   "codemirror_mode": {
    "name": "ipython",
    "version": 3
   },
   "file_extension": ".py",
   "mimetype": "text/x-python",
   "name": "python",
   "nbconvert_exporter": "python",
   "pygments_lexer": "ipython3",
   "version": "3.10.14"
  }
 },
 "nbformat": 4,
 "nbformat_minor": 2
}
