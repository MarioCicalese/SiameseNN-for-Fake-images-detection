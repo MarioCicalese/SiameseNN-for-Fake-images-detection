{
 "cells": [
  {
   "cell_type": "code",
   "execution_count": null,
   "metadata": {},
   "outputs": [],
   "source": [
    "import os\n",
    "import cv2\n",
    "import pandas as pd\n",
    "import numpy as np\n",
    "from tqdm.notebook import tqdm\n",
    "\n",
    "from constants import DatasetPath"
   ]
  },
  {
   "cell_type": "markdown",
   "metadata": {},
   "source": [
    "# UTILITIES"
   ]
  },
  {
   "cell_type": "code",
   "execution_count": null,
   "metadata": {},
   "outputs": [],
   "source": [
    "# Make sure the Dataset path has been specified in the 'constants.py' file\n",
    "DATASET_PATH = DatasetPath.effectivePath\n",
    "\n",
    "def DATASET_DIRS():\n",
    "\treturn os.listdir(DATASET_PATH)\n",
    "\n",
    "#CYCLE_GAN and PRO_GAN contains both real and fake images\n",
    "\n",
    "REAL_DIRS = [\"afhq\", \"celebahq\", \"coco\", \"ffhq\", \"imagenet\", \"landscape\", \"lsun\", \"metfaces\", \"cycle_gan\", \"pro_gan\"]\n",
    "\n",
    "FAKE_DIRS = [\"big_gan\", \"cips\", \"cycle_gan\", \"ddpm\", \"denoising_diffusion_gan\", \"diffusion_gan\", \"face_synthetics\", \n",
    "\t\t\t\t \"gansformer\", \"gau_gan\", \"generative_inpainting\", \"glide\", \"lama\", \"latent_diffusion\", \"mat\", \"palette\", \n",
    "\t\t\t\t \"pro_gan\", \"projected_gan\", \"sfhq\", \"stable_diffusion\", \"star_gan\", \"stylegan1\", \"stylegan2\", \"stylegan3\",\n",
    "\t\t\t\t \"taming_transformer\", \"vq_diffusion\"]\n",
    "\n",
    "csv_columns_name = ['filename', 'image_path', 'target', 'category']\n",
    "\n",
    "\n",
    "DIR_FOURIER_PATH = DATASET_PATH + \"fourier\\\\\"\n",
    "FFTS_PATH = DIR_FOURIER_PATH + \"fourier\\\\\""
   ]
  },
  {
   "cell_type": "markdown",
   "metadata": {},
   "source": [
    "### PREP"
   ]
  },
  {
   "cell_type": "code",
   "execution_count": null,
   "metadata": {},
   "outputs": [],
   "source": [
    "ds_partition_df = pd.read_csv(DATASET_PATH + \"dataset_partition.csv\")\n",
    "\n",
    "ds_partition_df"
   ]
  },
  {
   "cell_type": "code",
   "execution_count": null,
   "metadata": {},
   "outputs": [],
   "source": [
    "def df_to_csv(df, filename, path):\n",
    "\t\"\"\"\n",
    "\tSplits the DataFrame in chunks to enable tqdm progress visualization while converting the DataFrame into a '.csv' file.\n",
    "\n",
    "\tParametres\n",
    "\t----------\n",
    "\t\tdf (pd.DataFrame): the DataFrame to convert.\n",
    "\t\tfilename (str): the desired file name (comprehensive of '.csv' extension).\n",
    "\t\tpath (str): the path where the '.csv' will be stored.\n",
    "\t\"\"\"\n",
    "\tchunks = np.array_split(df.index, 100)\n",
    "\tfor chunck, subset in enumerate(tqdm(chunks, desc=\"Creating \\'\" + filename + \"\\' file\")):\n",
    "\t\tif chunck == 0: # first row\n",
    "\t\t\tdf.loc[subset].to_csv(path, mode='w', index=False)\n",
    "\t\telse:\n",
    "\t\t\tdf.loc[subset].to_csv(path, header=None, mode='a', index=False)\n",
    "\n",
    "\tprint(\"\\'\" + filename + \"\\' has been successfully created.\")"
   ]
  },
  {
   "cell_type": "code",
   "execution_count": null,
   "metadata": {},
   "outputs": [],
   "source": [
    "if(\"fourier\" in DATASET_DIRS()):\n",
    "\tprint(\"Fourier folder already exist.\")\n",
    "else:\n",
    "\tmode = 0o666\n",
    "\tpath = os.path.join(DATASET_PATH,\"fourier\")\n",
    "\t#creates the fourier folder in the main Dataset folder\n",
    "\tos.mkdir(path,mode)\n",
    "\t\n",
    "\t#creates a fourier folder in the fourier folder\n",
    "\tos.mkdir(path + \"\\\\fourier\", mode)"
   ]
  },
  {
   "cell_type": "markdown",
   "metadata": {},
   "source": [
    "# FFT APPLICATION"
   ]
  },
  {
   "cell_type": "markdown",
   "metadata": {},
   "source": [
    "### FFT FUNCTION"
   ]
  },
  {
   "cell_type": "code",
   "execution_count": null,
   "metadata": {},
   "outputs": [],
   "source": [
    "def greyscale_FFT(img_path):\n",
    "\t\"\"\"\n",
    "\tApplies Fast Fourier Transform (FFT) to a greyscale image and returns its magnitude spectrum.\n",
    "\n",
    "\tParameters\n",
    "\t----------\n",
    "\t\timg_path (str): input image path.\n",
    "\n",
    "\tReturns\n",
    "\t-------\n",
    "\t\tfft_img (np.ndarray): a 2D array representing the magnitude spectrum of the FFT of the input image, normalized to the range [0, 255].\n",
    "\t\"\"\"\n",
    "\t\n",
    "\t# Read the image from the specified path in BGR color format\n",
    "\tRGBimg = cv2.imread(img_path)\n",
    "\t\n",
    "\t# Convert the image from BGR to grayscale\n",
    "\tgrayImg = cv2.cvtColor(RGBimg, cv2.COLOR_BGR2GRAY)\n",
    "\t\n",
    "\t# Apply the 2D FFT to the grayscale image\n",
    "\tfft_img = np.fft.fft2(grayImg)\n",
    "\t\n",
    "\t# Compute the logarithm of the absolute value of the FFT to get the magnitude\n",
    "\tfft_img = np.log(np.abs(fft_img))\n",
    "\n",
    "\t# Find the minimum and maximum values of the magnitude for normalization\n",
    "\tmin_val = np.min(fft_img)\n",
    "\tmax_val = np.max(fft_img)\n",
    "\t\n",
    "\t# Normalize the magnitude image to the range [0, 255]\n",
    "\tfft_img = (fft_img - min_val) * (255.0 / (max_val - min_val))\n",
    "\t\n",
    "\t# Convert the normalized image to uint8 (integer values from 0 to 255)\n",
    "\tfft_img = np.uint8(fft_img)\n",
    "\n",
    "\t# Return the normalized magnitude image\n",
    "\treturn fft_img"
   ]
  },
  {
   "cell_type": "code",
   "execution_count": null,
   "metadata": {},
   "outputs": [],
   "source": [
    "def load_paths_from_csv(training_csv, test_csv):\n",
    "\t\"\"\"\n",
    "\tLoad image paths from the given training and test CSV files.\n",
    "\t\n",
    "\tParameters\n",
    "\t----------\n",
    "\ttraining_csv : str\n",
    "\t\tPath to the training CSV file.\n",
    "\ttest_csv : str\n",
    "\t\tPath to the test CSV file.\n",
    "\t\t\n",
    "\tReturns\n",
    "\t-------\n",
    "\tset\n",
    "\t\tSet containing all unique image paths from the training and test CSV files.\n",
    "\t\"\"\"\n",
    "\t# Load the training and test CSV files\n",
    "\ttraining_df = pd.read_csv(training_csv)\n",
    "\ttest_df = pd.read_csv(test_csv)\n",
    "\t\n",
    "\t# Extract paths from trainingSet.csv\n",
    "\ttraining_paths = pd.concat([training_df['anchor'], training_df['positive'], training_df['negative']]).unique()\n",
    "\t\n",
    "\t# Extract paths from testSet.csv\n",
    "\ttest_paths = pd.concat([test_df['real'], test_df['fake']]).unique()\n",
    "\t\n",
    "\t# Combine all paths into a set to ensure uniqueness\n",
    "\tall_paths = set(training_paths).union(set(test_paths))\n",
    "\t\n",
    "\tprint(f\"Detected Images to Convert: {len(all_paths)}\")\n",
    "\n",
    "\treturn all_paths\n",
    "\n",
    "def FFT_application(ds_partition_df, training_csv, test_csv):\n",
    "\t\"\"\"\n",
    "\tApplies Fast Fourier Transform (FFT) to the images in the given dataset.\n",
    "\tThe function also saves resulting images to the proper directories and generates a 'metadata.csv' for utility.\n",
    "\n",
    "\tParameters\n",
    "\t----------\n",
    "\tds_partition_df : pd.DataFrame\n",
    "\t\tDataFrame containing dataset partition information with columns 'image_path', 'filename', 'target', and 'category'.\n",
    "\ttraining_csv : str\n",
    "\t\tPath to the training CSV file.\n",
    "\ttest_csv : str\n",
    "\t\tPath to the test CSV file.\n",
    "\n",
    "\tReturns\n",
    "\t-------\n",
    "\tdict\n",
    "\t\tDictionary mapping original image paths to their Fourier transformed paths.\n",
    "\t\"\"\"\n",
    "\t# Load paths from training and test CSV files\n",
    "\tvalid_paths = load_paths_from_csv(training_csv, test_csv)\n",
    "\t\n",
    "\t# DataFrame to store Fourier metadata\n",
    "\tfourier_metadata_df = pd.DataFrame(columns=csv_columns_name)\n",
    "\t\n",
    "\t# Dictionary to store RGB-Fourier mappings\n",
    "\tpath_matching_dict = {}\n",
    "\n",
    "\t# Iterate through the dataset partition DataFrame\n",
    "\tfor index, row in tqdm(ds_partition_df.iterrows(), total=ds_partition_df.shape[0], desc=\"FFT application\"):\n",
    "\t\t# Apply FFT only on Images used in training and testing\n",
    "\t\tif row[\"image_path\"] in valid_paths:\n",
    "\t\t\t# Construct the full path to the image\n",
    "\t\t\tpath = DATASET_PATH + row[\"image_path\"]\n",
    "\t\t\t\n",
    "\t\t\t# Generate the Fourier transformed image\n",
    "\t\t\tfft_img = greyscale_FFT(path)\n",
    "\t\t\t\n",
    "\t\t\t# Adjust the filename based on the target value\n",
    "\t\t\tfilename = row[\"filename\"]\n",
    "\t\t\tif row[\"target\"] == 0:\n",
    "\t\t\t\tadjusted_filename = filename.replace(\"img\", \"real\")\n",
    "\t\t\telse:\n",
    "\t\t\t\tadjusted_filename = filename.replace(\"img\", \"fake\")\n",
    "\n",
    "\t\t\t# Construct the path to save the Fourier transformed image\n",
    "\t\t\tfft_path = FFTS_PATH + adjusted_filename\n",
    "\t\t\tcv2.imwrite(fft_path, fft_img)\n",
    "\t\t\t\n",
    "\t\t\t# Get the relative path of the Fourier transformed image\n",
    "\t\t\tsplit_fft_path = fft_path.split(DATASET_PATH)[-1]\n",
    "\n",
    "\t\t\t# Add metadata to the DataFrame\n",
    "\t\t\tfourier_metadata_df.loc[len(fourier_metadata_df)] = [adjusted_filename, split_fft_path, row[\"target\"], row[\"category\"]]\n",
    "\t\t\t\n",
    "\t\t\t# Update the dictionary\n",
    "\t\t\tpath_matching_dict[row[\"image_path\"]] = split_fft_path\n",
    "\t\n",
    "\t# Save 'metadata.csv'\n",
    "\tdf_to_csv(fourier_metadata_df, \"metadata.csv\", DIR_FOURIER_PATH + \"metadata.csv\")\n",
    "\n",
    "\t# Save 'path_matching_dict' for utility\n",
    "\t# Convert the dictionary to a DataFrame with two columns: 'RGB Path' and 'Fourier Path'\n",
    "\tpath_matching_df = pd.DataFrame(list(path_matching_dict.items()), columns=['RGB Path', 'Fourier Path'])\n",
    "\t\n",
    "\t# Save the DataFrame to a CSV file\n",
    "\tdf_to_csv(path_matching_df, 'path_mapping.csv', DATASET_PATH + 'path_mapping.csv')\n",
    "\n",
    "\treturn path_matching_dict\n",
    "\t"
   ]
  },
  {
   "cell_type": "code",
   "execution_count": null,
   "metadata": {},
   "outputs": [],
   "source": [
    "path_matching_dict = FFT_application(ds_partition_df, DATASET_PATH + \"RGB_trainingSet.csv\", DATASET_PATH + \"RGB_testSet.csv\")"
   ]
  },
  {
   "cell_type": "markdown",
   "metadata": {},
   "source": [
    "# UPDATE TRAINING SET & TEST SET PATHS"
   ]
  },
  {
   "cell_type": "code",
   "execution_count": null,
   "metadata": {},
   "outputs": [],
   "source": [
    "def replace_paths_in_training_set(csv_path, path_matching_dict):\n",
    "\t\"\"\"\n",
    "\tReplace image paths in the training set CSV with their corresponding frequency domain paths.\n",
    "\n",
    "\tParameters:\n",
    "\t----------\n",
    "\tcsv_path (str): Path to the training CSV file ('trainingSet.csv').\n",
    "\tpath_matching_dict (dict): Dictionary mapping RGB image paths to frequency domain image paths.\n",
    "\t\"\"\"\n",
    "\t# Load the DataFrame\n",
    "\tdf = pd.read_csv(csv_path)\n",
    "\n",
    "\t# Replace paths\n",
    "\tfor col in ['anchor', 'positive', 'negative']:\n",
    "\t\tdf[col] = df[col].map(path_matching_dict).fillna(df[col])\n",
    "\n",
    "\t# Store the Training set\n",
    "\tdf_to_csv(df, \"trainingSet.csv\", DATASET_PATH + \"trainingSet.csv\")\n",
    "\n",
    "def replace_paths_in_test_set(csv_path, path_matching_dict):\n",
    "\t\"\"\"\n",
    "\tReplace image paths in the test set CSV with their corresponding frequency domain paths.\n",
    "\n",
    "\tParameters:\n",
    "\t----------\n",
    "\tcsv_path (str): Path to the test CSV file ('testSet.csv').\n",
    "\tpath_matching_dict (dict): Dictionary mapping RGB image paths to frequency domain image paths.\n",
    "\t\"\"\"\n",
    "\t# Load the DataFrame\n",
    "\tdf = pd.read_csv(csv_path)\n",
    "\n",
    "\t# Replace paths\n",
    "\tfor col in ['real', 'fake']:\n",
    "\t\tdf[col] = df[col].map(path_matching_dict).fillna(df[col])\n",
    "\n",
    "\t# Store the Test set\n",
    "\tdf_to_csv(df, \"testSet.csv\", csv_path)"
   ]
  },
  {
   "cell_type": "code",
   "execution_count": null,
   "metadata": {},
   "outputs": [],
   "source": [
    "replace_paths_in_training_set(DATASET_PATH + \"RGB_trainingSet.csv\", path_matching_dict)\n",
    "replace_paths_in_test_set(DATASET_PATH + \"testSet.csv\", path_matching_dict)"
   ]
  },
  {
   "cell_type": "markdown",
   "metadata": {},
   "source": [
    "### CHECK FOR SUCCESSFULL PATH UPDATE"
   ]
  },
  {
   "cell_type": "code",
   "execution_count": null,
   "metadata": {},
   "outputs": [],
   "source": [
    "train_df = pd.read_csv(DATASET_PATH + \"trainingSet.csv\")\n",
    "train_df"
   ]
  },
  {
   "cell_type": "code",
   "execution_count": null,
   "metadata": {},
   "outputs": [],
   "source": [
    "test_df = pd.read_csv(DATASET_PATH + \"testSet.csv\")\n",
    "test_df"
   ]
  }
 ],
 "metadata": {
  "kernelspec": {
   "display_name": "DETECTIVE",
   "language": "python",
   "name": "python3"
  },
  "language_info": {
   "codemirror_mode": {
    "name": "ipython",
    "version": 3
   },
   "file_extension": ".py",
   "mimetype": "text/x-python",
   "name": "python",
   "nbconvert_exporter": "python",
   "pygments_lexer": "ipython3",
   "version": "3.10.14"
  }
 },
 "nbformat": 4,
 "nbformat_minor": 2
}
